{
 "cells": [
  {
   "cell_type": "code",
   "execution_count": 1,
   "id": "flexible-carry",
   "metadata": {},
   "outputs": [],
   "source": [
    "# import libraries\n",
    "from pathlib import Path\n",
    "import pandas as pd\n",
    "import requests\n",
    "from bs4 import BeautifulSoup\n",
    "from selenium import webdriver\n",
    "from PyPDF2 import PdfFileReader\n",
    "from pdfreader import SimplePDFViewer\n",
    "from tabula.io import read_pdf\n",
    "# from tabula import read_pdf\n",
    "import tabula\n",
    "import camelot\n",
    "import os\n",
    "import glob"
   ]
  },
  {
   "cell_type": "code",
   "execution_count": 2,
   "id": "stock-alexander",
   "metadata": {},
   "outputs": [],
   "source": [
    "# get the linnks we want\n",
    "url = \"https://safety.gwu.edu/daily-crime-and-fire-log\"\n",
    "page = requests.get(url)\n",
    "soup = BeautifulSoup(page.text, 'html.parser')\n",
    "# ls_id = soup.find(id=\"tab1631541161195_1\")\n",
    "# ls_rows \n",
    "\n",
    "item = soup.find_all('div', attrs={'class': 'tab-pane'})\n",
    "# print(len(item))\n",
    "# print(\"--------\")\n",
    "\n",
    "ls_lists = []\n",
    "bar = item[0].find_all('a')\n",
    "for link in bar:\n",
    "    link = (link[\"href\"])\n",
    "    ls_lists.append(link)"
   ]
  },
  {
   "cell_type": "code",
   "execution_count": 3,
   "id": "domestic-arthur",
   "metadata": {},
   "outputs": [
    {
     "name": "stdout",
     "output_type": "stream",
     "text": [
      "['https://safety.gwu.edu/sites/g/files/zaxdzs2386/f/September%202021%20_11.pdf', 'https://safety.gwu.edu/sites/g/files/zaxdzs2386/f/August%202021%20_13.pdf', 'https://safety.gwu.edu/sites/g/files/zaxdzs2386/f/July%202021%20_11.pdf', 'https://safety.gwu.edu/sites/g/files/zaxdzs2386/f/June%202021%20_4.pdf', 'https://safety.gwu.edu/sites/g/files/zaxdzs2386/f/May%202021.pdf', 'https://safety.gwu.edu/sites/g/files/zaxdzs2386/f/April%202021_1.pdf', 'https://safety.gwu.edu/sites/g/files/zaxdzs2386/f/March%202021%20_13.pdf', 'https://safety.gwu.edu/sites/g/files/zaxdzs2386/f/February%202021%20_13.pdf', 'https://safety.gwu.edu/sites/g/files/zaxdzs2386/f/January%202021%20_2.pdf', 'https://safety.gwu.edu/sites/g/files/zaxdzs2386/f/December%202020.pdf', 'https://safety.gwu.edu/sites/g/files/zaxdzs2386/f/November%202020%20_12.pdf', 'https://safety.gwu.edu/sites/g/files/zaxdzs2386/f/October%202020_15.pdf']\n"
     ]
    }
   ],
   "source": [
    "print(ls_lists)"
   ]
  },
  {
   "cell_type": "code",
   "execution_count": 4,
   "id": "meaningful-director",
   "metadata": {},
   "outputs": [
    {
     "name": "stdout",
     "output_type": "stream",
     "text": [
      "https://safety.gwu.edu/sites/g/files/zaxdzs2386/f/September%202021%20_11.pdf\n",
      "https://safety.gwu.edu/sites/g/files/zaxdzs2386/f/August%202021%20_13.pdf\n",
      "https://safety.gwu.edu/sites/g/files/zaxdzs2386/f/July%202021%20_11.pdf\n",
      "https://safety.gwu.edu/sites/g/files/zaxdzs2386/f/June%202021%20_4.pdf\n",
      "https://safety.gwu.edu/sites/g/files/zaxdzs2386/f/May%202021.pdf\n",
      "https://safety.gwu.edu/sites/g/files/zaxdzs2386/f/April%202021_1.pdf\n",
      "https://safety.gwu.edu/sites/g/files/zaxdzs2386/f/March%202021%20_13.pdf\n",
      "https://safety.gwu.edu/sites/g/files/zaxdzs2386/f/February%202021%20_13.pdf\n",
      "https://safety.gwu.edu/sites/g/files/zaxdzs2386/f/January%202021%20_2.pdf\n",
      "https://safety.gwu.edu/sites/g/files/zaxdzs2386/f/December%202020.pdf\n",
      "https://safety.gwu.edu/sites/g/files/zaxdzs2386/f/November%202020%20_12.pdf\n",
      "https://safety.gwu.edu/sites/g/files/zaxdzs2386/f/October%202020_15.pdf\n"
     ]
    }
   ],
   "source": [
    "# my_string=\"https://safety.gwu.edu/sites/g/files/zaxdzs2386/f/September%202021%20_2.pdf\"\n",
    "\n",
    "for link in ls_lists:\n",
    "#     x = (i.split(\"https://safety.gwu.edu/sites/g/files/zaxdzs2386/f/\",1)[1])\n",
    "    print(link)\n",
    "# x = (my_string.split(\"https://safety.gwu.edu/sites/g/files/zaxdzs2386/f/\",1)[1])\n",
    "# # x = x.split(\"%20\",-1)[1]\n",
    "# print(x)"
   ]
  },
  {
   "cell_type": "code",
   "execution_count": 5,
   "id": "revised-richmond",
   "metadata": {},
   "outputs": [
    {
     "ename": "FileNotFoundError",
     "evalue": "[Errno 2] No such file or directory: '../data/handmade/gwu/pdfs/scraped_report_1.pdf'",
     "output_type": "error",
     "traceback": [
      "\u001b[0;31m---------------------------------------------------------------------------\u001b[0m",
      "\u001b[0;31mFileNotFoundError\u001b[0m                         Traceback (most recent call last)",
      "\u001b[0;32m<ipython-input-5-57ece284828f>\u001b[0m in \u001b[0;36m<module>\u001b[0;34m\u001b[0m\n\u001b[1;32m      6\u001b[0m \u001b[0;31m#     print(counter)\u001b[0m\u001b[0;34m\u001b[0m\u001b[0;34m\u001b[0m\u001b[0m\n\u001b[1;32m      7\u001b[0m     \u001b[0mg\u001b[0m \u001b[0;34m=\u001b[0m \u001b[0mrequests\u001b[0m\u001b[0;34m.\u001b[0m\u001b[0mget\u001b[0m\u001b[0;34m(\u001b[0m\u001b[0mi\u001b[0m\u001b[0;34m,\u001b[0m \u001b[0mstream\u001b[0m\u001b[0;34m=\u001b[0m\u001b[0;32mTrue\u001b[0m\u001b[0;34m)\u001b[0m\u001b[0;34m\u001b[0m\u001b[0;34m\u001b[0m\u001b[0m\n\u001b[0;32m----> 8\u001b[0;31m     \u001b[0;32mwith\u001b[0m \u001b[0mopen\u001b[0m\u001b[0;34m(\u001b[0m\u001b[0;34mf'../data/handmade/gwu/pdfs/scraped_report_{counter}.pdf'\u001b[0m\u001b[0;34m,\u001b[0m \u001b[0;34m'wb'\u001b[0m\u001b[0;34m)\u001b[0m \u001b[0;32mas\u001b[0m \u001b[0msav\u001b[0m\u001b[0;34m:\u001b[0m\u001b[0;34m\u001b[0m\u001b[0;34m\u001b[0m\u001b[0m\n\u001b[0m\u001b[1;32m      9\u001b[0m         \u001b[0;32mfor\u001b[0m \u001b[0mchunk\u001b[0m \u001b[0;32min\u001b[0m \u001b[0mg\u001b[0m\u001b[0;34m.\u001b[0m\u001b[0miter_content\u001b[0m\u001b[0;34m(\u001b[0m\u001b[0mchunk_size\u001b[0m\u001b[0;34m=\u001b[0m\u001b[0;36m1000000\u001b[0m\u001b[0;34m)\u001b[0m\u001b[0;34m:\u001b[0m\u001b[0;34m\u001b[0m\u001b[0;34m\u001b[0m\u001b[0m\n\u001b[1;32m     10\u001b[0m             \u001b[0msav\u001b[0m\u001b[0;34m.\u001b[0m\u001b[0mwrite\u001b[0m\u001b[0;34m(\u001b[0m\u001b[0mchunk\u001b[0m\u001b[0;34m)\u001b[0m\u001b[0;34m\u001b[0m\u001b[0;34m\u001b[0m\u001b[0m\n",
      "\u001b[0;31mFileNotFoundError\u001b[0m: [Errno 2] No such file or directory: '../data/handmade/gwu/pdfs/scraped_report_1.pdf'"
     ]
    }
   ],
   "source": [
    "# download pdf\n",
    "\n",
    "counter = 0 \n",
    "for i in ls_lists:\n",
    "    counter = counter +1\n",
    "#     print(counter)\n",
    "    g = requests.get(i, stream=True)\n",
    "    with open(f'../data/handmade/gwu/pdfs/scraped_report_{counter}.pdf', 'wb') as sav:\n",
    "        for chunk in g.iter_content(chunk_size=1000000):\n",
    "            sav.write(chunk)"
   ]
  },
  {
   "cell_type": "code",
   "execution_count": 162,
   "id": "local-spelling",
   "metadata": {},
   "outputs": [
    {
     "name": "stdout",
     "output_type": "stream",
     "text": [
      "Downloading file:  1\n",
      "File  1  downloaded\n",
      "Downloading file:  2\n",
      "File  2  downloaded\n",
      "Downloading file:  3\n",
      "File  3  downloaded\n",
      "Downloading file:  4\n",
      "File  4  downloaded\n",
      "Downloading file:  5\n",
      "File  5  downloaded\n",
      "Downloading file:  6\n",
      "File  6  downloaded\n",
      "Downloading file:  7\n",
      "File  7  downloaded\n",
      "Downloading file:  8\n",
      "File  8  downloaded\n",
      "Downloading file:  9\n",
      "File  9  downloaded\n",
      "Downloading file:  10\n",
      "File  10  downloaded\n",
      "Downloading file:  11\n",
      "File  11  downloaded\n",
      "Downloading file:  12\n",
      "File  12  downloaded\n",
      "All PDF files downloaded\n"
     ]
    }
   ],
   "source": []
  },
  {
   "cell_type": "code",
   "execution_count": 7,
   "id": "recovered-reconstruction",
   "metadata": {},
   "outputs": [
    {
     "ename": "AttributeError",
     "evalue": "module 'tabula' has no attribute 'convert_into'",
     "output_type": "error",
     "traceback": [
      "\u001b[0;31m---------------------------------------------------------------------------\u001b[0m",
      "\u001b[0;31mAttributeError\u001b[0m                            Traceback (most recent call last)",
      "\u001b[0;32m<ipython-input-7-a00fcad11e43>\u001b[0m in \u001b[0;36m<module>\u001b[0;34m\u001b[0m\n\u001b[1;32m      9\u001b[0m \u001b[0;31m#         print(count)\u001b[0m\u001b[0;34m\u001b[0m\u001b[0;34m\u001b[0m\u001b[0m\n\u001b[1;32m     10\u001b[0m \u001b[0;31m#         print(file)\u001b[0m\u001b[0;34m\u001b[0m\u001b[0;34m\u001b[0m\u001b[0m\n\u001b[0;32m---> 11\u001b[0;31m         \u001b[0mtabula\u001b[0m\u001b[0;34m.\u001b[0m\u001b[0mconvert_into\u001b[0m\u001b[0;34m(\u001b[0m\u001b[0;34mf'{directory}{file}'\u001b[0m\u001b[0;34m,\u001b[0m \u001b[0;34mf'{directory_output}{count}.csv'\u001b[0m\u001b[0;34m,\u001b[0m \u001b[0moutput_format\u001b[0m\u001b[0;34m=\u001b[0m\u001b[0;34m\"csv\"\u001b[0m\u001b[0;34m,\u001b[0m \u001b[0mpages\u001b[0m\u001b[0;34m=\u001b[0m\u001b[0;34m'all'\u001b[0m\u001b[0;34m)\u001b[0m\u001b[0;34m\u001b[0m\u001b[0;34m\u001b[0m\u001b[0m\n\u001b[0m",
      "\u001b[0;31mAttributeError\u001b[0m: module 'tabula' has no attribute 'convert_into'"
     ]
    }
   ],
   "source": [
    "# now convert them to csvs\n",
    "\n",
    "directory = r'../data/handmade/howard/pdfs/'\n",
    "directory_output = r'../data/handmade/howardcs/csvs/'\n",
    "count = 0\n",
    "for file in os.listdir(directory):\n",
    "    if file.endswith(\".pdf\"):\n",
    "        count = count + 1\n",
    "#         print(count)\n",
    "#         print(file)\n",
    "        tabula.convert_into(f'{directory}{file}', f'{directory_output}{count}.csv', output_format=\"csv\", pages='all')"
   ]
  },
  {
   "cell_type": "code",
   "execution_count": null,
   "id": "unexpected-works",
   "metadata": {},
   "outputs": [],
   "source": [
    "# nw"
   ]
  }
 ],
 "metadata": {
  "kernelspec": {
   "display_name": "Python 3",
   "language": "python",
   "name": "python3"
  },
  "language_info": {
   "codemirror_mode": {
    "name": "ipython",
    "version": 3
   },
   "file_extension": ".py",
   "mimetype": "text/x-python",
   "name": "python",
   "nbconvert_exporter": "python",
   "pygments_lexer": "ipython3",
   "version": "3.9.7"
  }
 },
 "nbformat": 4,
 "nbformat_minor": 5
}

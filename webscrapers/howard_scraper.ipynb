{
 "cells": [
  {
   "cell_type": "markdown",
   "id": "dedicated-premises",
   "metadata": {},
   "source": [
    "# Libraries"
   ]
  },
  {
   "cell_type": "code",
   "execution_count": 1,
   "id": "demanding-notification",
   "metadata": {},
   "outputs": [],
   "source": [
    "\n",
    "import selenium\n",
    "from selenium import webdriver\n",
    "from selenium.webdriver.chrome.options import Options\n",
    "from selenium.webdriver.support import expected_conditions as EC\n",
    "from selenium.webdriver.support.ui import WebDriverWait\n",
    "from selenium.webdriver.common.by import By\n",
    "import requests\n",
    "from bs4 import BeautifulSoup\n",
    "from selenium.webdriver.common.keys import Keys\n",
    "from datetime import datetime\n",
    "from datetime import timedelta\n",
    "import tabula\n",
    "from tabula.io import read_pdf\n",
    "from tabula.io import convert_into\n",
    "\n",
    "\n",
    "from datetime import date\n",
    "import csv\n",
    "import pandas as pd\n",
    "import time\n",
    "import json\n",
    "import fnmatch\n",
    "import os"
   ]
  },
  {
   "cell_type": "markdown",
   "id": "subject-firmware",
   "metadata": {},
   "source": [
    "# Variables and Functions"
   ]
  },
  {
   "cell_type": "code",
   "execution_count": null,
   "id": "usual-exposure",
   "metadata": {},
   "outputs": [],
   "source": []
  },
  {
   "cell_type": "code",
   "execution_count": 2,
   "id": "demonstrated-depth",
   "metadata": {},
   "outputs": [
    {
     "name": "stdout",
     "output_type": "stream",
     "text": [
      "['https://publicsafety.howard.edu/sites/publicsafety.howard.edu/files/2021-08/DAILYCRIMELOG2020.pdf', 'https://publicsafety.howard.edu/sites/publicsafety.howard.edu/files/2021-08/2019DAILYCRIMELOG_0.pdf', 'https://publicsafety.howard.edu/sites/publicsafety.howard.edu/files/2021-08/2018DAILYCRIMELOG.pdf', 'https://publicsafety.howard.edu//sites/publicsafety.howard.edu/files/2020-04/dcl_archive_2017.pdf']\n",
      "---\n",
      "['https://publicsafety.howard.edu/sites/publicsafety.howard.edu/files/2021-08/DAILYCRIMELOG2020.pdf', 'https://publicsafety.howard.edu/sites/publicsafety.howard.edu/files/2021-08/2019DAILYCRIMELOG_0.pdf', 'https://publicsafety.howard.edu/sites/publicsafety.howard.edu/files/2021-08/2018DAILYCRIMELOG.pdf', 'https://publicsafety.howard.edu//sites/publicsafety.howard.edu/files/2020-04/dcl_archive_2017.pdf', 'https://publicsafety.howard.edu//sites/publicsafety.howard.edu/files/2020-04/dcl_archive_2016.pdf']\n",
      "---\n",
      "['https://publicsafety.howard.edu/sites/publicsafety.howard.edu/files/2021-08/DAILYCRIMELOG2020.pdf', 'https://publicsafety.howard.edu/sites/publicsafety.howard.edu/files/2021-08/2019DAILYCRIMELOG_0.pdf', 'https://publicsafety.howard.edu/sites/publicsafety.howard.edu/files/2021-08/2018DAILYCRIMELOG.pdf', 'https://publicsafety.howard.edu//sites/publicsafety.howard.edu/files/2020-04/dcl_archive_2017.pdf', 'https://publicsafety.howard.edu//sites/publicsafety.howard.edu/files/2020-04/dcl_archive_2016.pdf', 'https://publicsafety.howard.edu//sites/publicsafety.howard.edu/files/2020-04/dcl_archive_2015.pdf']\n",
      "---\n",
      "['https://publicsafety.howard.edu/sites/publicsafety.howard.edu/files/2021-08/DAILYCRIMELOG2020.pdf', 'https://publicsafety.howard.edu/sites/publicsafety.howard.edu/files/2021-08/2019DAILYCRIMELOG_0.pdf', 'https://publicsafety.howard.edu/sites/publicsafety.howard.edu/files/2021-08/2018DAILYCRIMELOG.pdf', 'https://publicsafety.howard.edu//sites/publicsafety.howard.edu/files/2020-04/dcl_archive_2017.pdf', 'https://publicsafety.howard.edu//sites/publicsafety.howard.edu/files/2020-04/dcl_archive_2016.pdf', 'https://publicsafety.howard.edu//sites/publicsafety.howard.edu/files/2020-04/dcl_archive_2015.pdf', 'https://publicsafety.howard.edu//sites/publicsafety.howard.edu/files/2020-04/dcl_archive_2014.pdf']\n",
      "---\n",
      "['https://publicsafety.howard.edu/sites/publicsafety.howard.edu/files/2021-08/DAILYCRIMELOG2020.pdf', 'https://publicsafety.howard.edu/sites/publicsafety.howard.edu/files/2021-08/2019DAILYCRIMELOG_0.pdf', 'https://publicsafety.howard.edu/sites/publicsafety.howard.edu/files/2021-08/2018DAILYCRIMELOG.pdf', 'https://publicsafety.howard.edu//sites/publicsafety.howard.edu/files/2020-04/dcl_archive_2017.pdf', 'https://publicsafety.howard.edu//sites/publicsafety.howard.edu/files/2020-04/dcl_archive_2016.pdf', 'https://publicsafety.howard.edu//sites/publicsafety.howard.edu/files/2020-04/dcl_archive_2015.pdf', 'https://publicsafety.howard.edu//sites/publicsafety.howard.edu/files/2020-04/dcl_archive_2014.pdf', 'https://publicsafety.howard.edu//sites/publicsafety.howard.edu/files/2020-04/dcl_archive_2013.pdf']\n",
      "---\n"
     ]
    }
   ],
   "source": [
    "# get the linnks we want\n",
    "url = \"https://publicsafety.howard.edu/about/crime-stats\"\n",
    "page = requests.get(url)\n",
    "soup = BeautifulSoup(page.text, 'html.parser')\n",
    "# ls_id = soup.find(id=\"tab1631541161195_1\")\n",
    "# ls_rows \n",
    "\n",
    "item = soup.find_all('section', attrs={'class': 'hp_button_link hp_button_link--fancy_link'})\n",
    "item2 = item[2]\n",
    "\n",
    "final = item2.find_all(\"a\")\n",
    "\n",
    "final_links = []\n",
    "var = 'https://publicsafety.howard.edu/'\n",
    "\n",
    "for link in final:\n",
    "    href = (link[\"href\"])\n",
    "    if href.startswith('https://publicsafety.howard.edu/'):\n",
    "        final_links.append(href)\n",
    "#         print(final_links)\n",
    "    elif href.startswith('/sites/'):\n",
    "#         print('---')\n",
    "        final_href = var + href\n",
    "#         print(final_href)\n",
    "#         print('---')\n",
    "        final_links.append(final_href)\n",
    "        print(final_links)\n",
    "        print('---')"
   ]
  },
  {
   "cell_type": "code",
   "execution_count": 5,
   "id": "painful-slave",
   "metadata": {},
   "outputs": [],
   "source": [
    "# download pdfs\n",
    "counter = 0 \n",
    "for i in final_links:\n",
    "    counter = counter +1\n",
    "#     print(counter)\n",
    "    g = requests.get(i, stream=True)\n",
    "    with open(f'../data/handmade/howard/pdfs/scraped_report_{counter}.pdf', 'wb') as sav:\n",
    "        for chunk in g.iter_content(chunk_size=1000000):\n",
    "            sav.write(chunk)"
   ]
  },
  {
   "cell_type": "code",
   "execution_count": 8,
   "id": "characteristic-skating",
   "metadata": {},
   "outputs": [
    {
     "name": "stderr",
     "output_type": "stream",
     "text": [
      "Got stderr: Sep 21, 2021 1:52:05 PM org.apache.pdfbox.pdmodel.font.FileSystemFontProvider loadDiskCache\n",
      "WARNING: New fonts found, font cache will be re-built\n",
      "Sep 21, 2021 1:52:05 PM org.apache.pdfbox.pdmodel.font.FileSystemFontProvider <init>\n",
      "WARNING: Building on-disk font cache, this may take a while\n",
      "Sep 21, 2021 1:52:07 PM org.apache.pdfbox.pdmodel.font.FileSystemFontProvider <init>\n",
      "WARNING: Finished building on-disk font cache, found 788 fonts\n",
      "\n"
     ]
    }
   ],
   "source": [
    "# convert\n",
    "\n",
    "#import tabula\n",
    "\n",
    "\n",
    "directory = r'../data/handmade/howard/pdfs/'\n",
    "directory_output = r'../data/handmade/howard/csvs/'\n",
    "count = 0\n",
    "for file in os.listdir(directory):\n",
    "    if file.endswith(\".pdf\"):\n",
    "        count = count + 1\n",
    "#         print(count)\n",
    "#         print(file)\n",
    "        tabula.io.convert_into(f'{directory}{file}', f'{directory_output}{count}.csv', output_format=\"csv\", pages='all')"
   ]
  },
  {
   "cell_type": "code",
   "execution_count": 7,
   "id": "opposite-digest",
   "metadata": {},
   "outputs": [],
   "source": [
    "def browser_instance(executable_path, headless, download_path):\n",
    "    \n",
    "    \n",
    "    chrome_options =  Options()\n",
    "    if headless:\n",
    "        chrome_options.add_argument(\"--headless\")   \n",
    "    chrome_options.add_experimental_option(\"prefs\", {\n",
    "            \"download.default_directory\": download_path})    \n",
    "    driver = webdriver.Chrome(executable_path=executable_path, options = chrome_options)\n",
    "    return driver    \n",
    "\n",
    "    \n",
    "    #"
   ]
  },
  {
   "cell_type": "markdown",
   "id": "supreme-moral",
   "metadata": {},
   "source": [
    "# Scraping Script"
   ]
  },
  {
   "cell_type": "code",
   "execution_count": 15,
   "id": "rocky-business",
   "metadata": {},
   "outputs": [],
   "source": [
    "driver = browser_instance(executable_path, True, download_path)\n",
    "driver.get(url)\n",
    "button = WebDriverWait(driver, 10).until(EC.element_to_be_clickable((By.XPATH, download_all_field)))\n",
    "button.click()\n",
    "\n",
    "    "
   ]
  }
 ],
 "metadata": {
  "kernelspec": {
   "display_name": "Python 3",
   "language": "python",
   "name": "python3"
  },
  "language_info": {
   "codemirror_mode": {
    "name": "ipython",
    "version": 3
   },
   "file_extension": ".py",
   "mimetype": "text/x-python",
   "name": "python",
   "nbconvert_exporter": "python",
   "pygments_lexer": "ipython3",
   "version": "3.9.7"
  }
 },
 "nbformat": 4,
 "nbformat_minor": 5
}

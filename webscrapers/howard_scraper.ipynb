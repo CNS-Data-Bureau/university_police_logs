{
 "cells": [
  {
   "cell_type": "markdown",
   "id": "amended-simon",
   "metadata": {},
   "source": [
    "# Libraries"
   ]
  },
  {
   "cell_type": "code",
   "execution_count": 80,
   "id": "foreign-asian",
   "metadata": {},
   "outputs": [],
   "source": [
    "\n",
    "import selenium\n",
    "from selenium import webdriver\n",
    "from selenium.webdriver.chrome.options import Options\n",
    "from selenium.webdriver.support import expected_conditions as EC\n",
    "from selenium.webdriver.support.ui import WebDriverWait\n",
    "from selenium.webdriver.common.by import By\n",
    "import requests\n",
    "from bs4 import BeautifulSoup\n",
    "from selenium.webdriver.common.keys import Keys\n",
    "from datetime import datetime\n",
    "from datetime import timedelta\n",
    "from datetime import date\n",
    "import csv\n",
    "import pandas as pd\n",
    "import time\n",
    "import json\n",
    "import fnmatch\n",
    "import os"
   ]
  },
  {
   "cell_type": "markdown",
   "id": "understanding-stamp",
   "metadata": {},
   "source": [
    "# Variables and Functions"
   ]
  },
  {
   "cell_type": "code",
   "execution_count": null,
   "id": "australian-listening",
   "metadata": {},
   "outputs": [],
   "source": []
  },
  {
   "cell_type": "code",
   "execution_count": null,
   "id": "stupid-torture",
   "metadata": {},
   "outputs": [],
   "source": [
    "# get the linnks we want\n",
    "url = \"https://publicsafety.howard.edu/about/crime-stats\"\n",
    "page = requests.get(url)\n",
    "soup = BeautifulSoup(page.text, 'html.parser')\n",
    "# ls_id = soup.find(id=\"tab1631541161195_1\")\n",
    "# ls_rows \n",
    "\n",
    "item = soup.find_all('section', attrs={'class': 'hp_button_link hp_button_link--fancy_link'})\n",
    "item2 = item[2]\n",
    "\n",
    "final = item2.find_all(\"a\")\n",
    "\n",
    "final_links = []\n",
    "var = 'https://publicsafety.howard.edu/'\n",
    "\n",
    "for link in final:\n",
    "    href = (link[\"href\"])\n",
    "    if href.startswith('https://publicsafety.howard.edu/'):\n",
    "        final_links.append(href)\n",
    "#         print(final_links)\n",
    "    elif href.startswith('/sites/'):\n",
    "#         print('---')\n",
    "        final_href = var + href\n",
    "#         print(final_href)\n",
    "#         print('---')\n",
    "        final_links.append(final_href)\n",
    "        print(final_links)\n",
    "        print('---')"
   ]
  },
  {
   "cell_type": "code",
   "execution_count": 73,
   "id": "bigger-consent",
   "metadata": {},
   "outputs": [],
   "source": [
    "# download pdfs\n",
    "counter = 0 \n",
    "for i in final_links:\n",
    "    counter = counter +1\n",
    "#     print(counter)\n",
    "    g = requests.get(i, stream=True)\n",
    "    with open(f'../data/handmade/howard/pdfs/scraped_report_{counter}.pdf', 'wb') as sav:\n",
    "        for chunk in g.iter_content(chunk_size=1000000):\n",
    "            sav.write(chunk)"
   ]
  },
  {
   "cell_type": "code",
   "execution_count": 82,
   "id": "annual-berlin",
   "metadata": {},
   "outputs": [
    {
     "ename": "NameError",
     "evalue": "name 'tabula' is not defined",
     "output_type": "error",
     "traceback": [
      "\u001b[0;31m---------------------------------------------------------------------------\u001b[0m",
      "\u001b[0;31mNameError\u001b[0m                                 Traceback (most recent call last)",
      "\u001b[0;32m<ipython-input-82-23ef576874da>\u001b[0m in \u001b[0;36m<module>\u001b[0;34m\u001b[0m\n\u001b[1;32m     11\u001b[0m \u001b[0;31m#         print(count)\u001b[0m\u001b[0;34m\u001b[0m\u001b[0;34m\u001b[0m\u001b[0m\n\u001b[1;32m     12\u001b[0m \u001b[0;31m#         print(file)\u001b[0m\u001b[0;34m\u001b[0m\u001b[0;34m\u001b[0m\u001b[0m\n\u001b[0;32m---> 13\u001b[0;31m         \u001b[0mtabula\u001b[0m\u001b[0;34m.\u001b[0m\u001b[0mconvert_into\u001b[0m\u001b[0;34m(\u001b[0m\u001b[0;34mf'{directory}{file}'\u001b[0m\u001b[0;34m,\u001b[0m \u001b[0;34mf'{directory_output}{count}.csv'\u001b[0m\u001b[0;34m,\u001b[0m \u001b[0moutput_format\u001b[0m\u001b[0;34m=\u001b[0m\u001b[0;34m\"csv\"\u001b[0m\u001b[0;34m,\u001b[0m \u001b[0mpages\u001b[0m\u001b[0;34m=\u001b[0m\u001b[0;34m'all'\u001b[0m\u001b[0;34m)\u001b[0m\u001b[0;34m\u001b[0m\u001b[0;34m\u001b[0m\u001b[0m\n\u001b[0m",
      "\u001b[0;31mNameError\u001b[0m: name 'tabula' is not defined"
     ]
    }
   ],
   "source": [
    "# convert\n",
    "\n",
    "\n",
    "\n",
    "directory = r'../data/handmade/howard/pdfs/'\n",
    "directory_output = r'../data/handmade/howardcs/csvs/'\n",
    "count = 0\n",
    "for file in os.listdir(directory):\n",
    "    if file.endswith(\".pdf\"):\n",
    "        count = count + 1\n",
    "#         print(count)\n",
    "#         print(file)\n",
    "        tabula.convert_into(f'{directory}{file}', f'{directory_output}{count}.csv', output_format=\"csv\", pages='all')"
   ]
  },
  {
   "cell_type": "code",
   "execution_count": 14,
   "id": "younger-temple",
   "metadata": {},
   "outputs": [],
   "source": [
    "def browser_instance(executable_path, headless, download_path):\n",
    "    \n",
    "    \n",
    "    chrome_options =  Options()\n",
    "    if headless:\n",
    "        chrome_options.add_argument(\"--headless\")   \n",
    "    chrome_options.add_experimental_option(\"prefs\", {\n",
    "            \"download.default_directory\": download_path})    \n",
    "    driver = webdriver.Chrome(executable_path=executable_path, options = chrome_options)\n",
    "    return driver    \n",
    "\n",
    "    \n",
    "    #"
   ]
  },
  {
   "cell_type": "markdown",
   "id": "distributed-chick",
   "metadata": {},
   "source": [
    "# Scraping Script"
   ]
  },
  {
   "cell_type": "code",
   "execution_count": 15,
   "id": "catholic-blackberry",
   "metadata": {},
   "outputs": [],
   "source": [
    "driver = browser_instance(executable_path, True, download_path)\n",
    "driver.get(url)\n",
    "button = WebDriverWait(driver, 10).until(EC.element_to_be_clickable((By.XPATH, download_all_field)))\n",
    "button.click()\n",
    "\n",
    "    "
   ]
  }
 ],
 "metadata": {
  "kernelspec": {
   "display_name": "Python 3",
   "language": "python",
   "name": "python3"
  },
  "language_info": {
   "codemirror_mode": {
    "name": "ipython",
    "version": 3
   },
   "file_extension": ".py",
   "mimetype": "text/x-python",
   "name": "python",
   "nbconvert_exporter": "python",
   "pygments_lexer": "ipython3",
   "version": "3.9.7"
  }
 },
 "nbformat": 4,
 "nbformat_minor": 5
}

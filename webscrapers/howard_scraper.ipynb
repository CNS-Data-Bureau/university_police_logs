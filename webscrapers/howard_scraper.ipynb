{
 "cells": [
  {
   "cell_type": "markdown",
   "id": "concrete-chosen",
   "metadata": {},
   "source": [
    "# Libraries"
   ]
  },
  {
   "cell_type": "code",
   "execution_count": 29,
   "id": "capital-rebel",
   "metadata": {},
   "outputs": [],
   "source": [
    "\n",
    "import selenium\n",
    "from selenium import webdriver\n",
    "from selenium.webdriver.chrome.options import Options\n",
    "from selenium.webdriver.support import expected_conditions as EC\n",
    "from selenium.webdriver.support.ui import WebDriverWait\n",
    "from selenium.webdriver.common.by import By\n",
    "import requests\n",
    "from bs4 import BeautifulSoup\n",
    "from selenium.webdriver.common.keys import Keys\n",
    "from datetime import datetime\n",
    "from datetime import timedelta\n",
    "import tabula\n",
    "from tabula.io import read_pdf\n",
    "from tabula.io import convert_into\n",
    "\n",
    "\n",
    "from datetime import date\n",
    "import csv\n",
    "import pandas as pd\n",
    "import time\n",
    "import json\n",
    "import fnmatch\n",
    "import os"
   ]
  },
  {
   "cell_type": "markdown",
   "id": "pharmaceutical-lawrence",
   "metadata": {},
   "source": [
    "# Variables and Functions"
   ]
  },
  {
   "cell_type": "code",
   "execution_count": null,
   "id": "simple-passing",
   "metadata": {},
   "outputs": [],
   "source": []
  },
  {
   "cell_type": "code",
   "execution_count": 2,
   "id": "expired-asthma",
   "metadata": {},
   "outputs": [
    {
     "name": "stdout",
     "output_type": "stream",
     "text": [
      "['https://publicsafety.howard.edu/sites/publicsafety.howard.edu/files/2021-08/DAILYCRIMELOG2020.pdf', 'https://publicsafety.howard.edu/sites/publicsafety.howard.edu/files/2021-08/2019DAILYCRIMELOG_0.pdf', 'https://publicsafety.howard.edu/sites/publicsafety.howard.edu/files/2021-08/2018DAILYCRIMELOG.pdf', 'https://publicsafety.howard.edu//sites/publicsafety.howard.edu/files/2020-04/dcl_archive_2017.pdf']\n",
      "---\n",
      "['https://publicsafety.howard.edu/sites/publicsafety.howard.edu/files/2021-08/DAILYCRIMELOG2020.pdf', 'https://publicsafety.howard.edu/sites/publicsafety.howard.edu/files/2021-08/2019DAILYCRIMELOG_0.pdf', 'https://publicsafety.howard.edu/sites/publicsafety.howard.edu/files/2021-08/2018DAILYCRIMELOG.pdf', 'https://publicsafety.howard.edu//sites/publicsafety.howard.edu/files/2020-04/dcl_archive_2017.pdf', 'https://publicsafety.howard.edu//sites/publicsafety.howard.edu/files/2020-04/dcl_archive_2016.pdf']\n",
      "---\n",
      "['https://publicsafety.howard.edu/sites/publicsafety.howard.edu/files/2021-08/DAILYCRIMELOG2020.pdf', 'https://publicsafety.howard.edu/sites/publicsafety.howard.edu/files/2021-08/2019DAILYCRIMELOG_0.pdf', 'https://publicsafety.howard.edu/sites/publicsafety.howard.edu/files/2021-08/2018DAILYCRIMELOG.pdf', 'https://publicsafety.howard.edu//sites/publicsafety.howard.edu/files/2020-04/dcl_archive_2017.pdf', 'https://publicsafety.howard.edu//sites/publicsafety.howard.edu/files/2020-04/dcl_archive_2016.pdf', 'https://publicsafety.howard.edu//sites/publicsafety.howard.edu/files/2020-04/dcl_archive_2015.pdf']\n",
      "---\n",
      "['https://publicsafety.howard.edu/sites/publicsafety.howard.edu/files/2021-08/DAILYCRIMELOG2020.pdf', 'https://publicsafety.howard.edu/sites/publicsafety.howard.edu/files/2021-08/2019DAILYCRIMELOG_0.pdf', 'https://publicsafety.howard.edu/sites/publicsafety.howard.edu/files/2021-08/2018DAILYCRIMELOG.pdf', 'https://publicsafety.howard.edu//sites/publicsafety.howard.edu/files/2020-04/dcl_archive_2017.pdf', 'https://publicsafety.howard.edu//sites/publicsafety.howard.edu/files/2020-04/dcl_archive_2016.pdf', 'https://publicsafety.howard.edu//sites/publicsafety.howard.edu/files/2020-04/dcl_archive_2015.pdf', 'https://publicsafety.howard.edu//sites/publicsafety.howard.edu/files/2020-04/dcl_archive_2014.pdf']\n",
      "---\n",
      "['https://publicsafety.howard.edu/sites/publicsafety.howard.edu/files/2021-08/DAILYCRIMELOG2020.pdf', 'https://publicsafety.howard.edu/sites/publicsafety.howard.edu/files/2021-08/2019DAILYCRIMELOG_0.pdf', 'https://publicsafety.howard.edu/sites/publicsafety.howard.edu/files/2021-08/2018DAILYCRIMELOG.pdf', 'https://publicsafety.howard.edu//sites/publicsafety.howard.edu/files/2020-04/dcl_archive_2017.pdf', 'https://publicsafety.howard.edu//sites/publicsafety.howard.edu/files/2020-04/dcl_archive_2016.pdf', 'https://publicsafety.howard.edu//sites/publicsafety.howard.edu/files/2020-04/dcl_archive_2015.pdf', 'https://publicsafety.howard.edu//sites/publicsafety.howard.edu/files/2020-04/dcl_archive_2014.pdf', 'https://publicsafety.howard.edu//sites/publicsafety.howard.edu/files/2020-04/dcl_archive_2013.pdf']\n",
      "---\n"
     ]
    }
   ],
   "source": [
    "# get the linnks we want\n",
    "url = \"https://publicsafety.howard.edu/about/crime-stats\"\n",
    "page = requests.get(url)\n",
    "soup = BeautifulSoup(page.text, 'html.parser')\n",
    "# ls_id = soup.find(id=\"tab1631541161195_1\")\n",
    "# ls_rows \n",
    "\n",
    "item = soup.find_all('section', attrs={'class': 'hp_button_link hp_button_link--fancy_link'})\n",
    "item2 = item[2]\n",
    "\n",
    "final = item2.find_all(\"a\")\n",
    "\n",
    "final_links = []\n",
    "var = 'https://publicsafety.howard.edu/'\n",
    "\n",
    "for link in final:\n",
    "    href = (link[\"href\"])\n",
    "    if href.startswith('https://publicsafety.howard.edu/'):\n",
    "        final_links.append(href)\n",
    "#         print(final_links)\n",
    "    elif href.startswith('/sites/'):\n",
    "#         print('---')\n",
    "        final_href = var + href\n",
    "#         print(final_href)\n",
    "#         print('---')\n",
    "        final_links.append(final_href)\n",
    "        print(final_links)\n",
    "        print('---')"
   ]
  },
  {
   "cell_type": "code",
   "execution_count": 3,
   "id": "indirect-appendix",
   "metadata": {},
   "outputs": [],
   "source": [
    "# download pdfs\n",
    "counter = 0 \n",
    "for i in final_links:\n",
    "    counter = counter +1\n",
    "#     print(counter)\n",
    "    g = requests.get(i, stream=True)\n",
    "    with open(f'../data/handmade/howard/pdfs/scraped_report_{counter}.pdf', 'wb') as sav:\n",
    "        for chunk in g.iter_content(chunk_size=1000000):\n",
    "            sav.write(chunk)"
   ]
  },
  {
   "cell_type": "code",
   "execution_count": 25,
   "id": "trained-friendly",
   "metadata": {},
   "outputs": [
    {
     "name": "stdout",
     "output_type": "stream",
     "text": [
      "['scraped_report_8.pdf', 'scraped_report_4.pdf', 'scraped_report_5.pdf', 'scraped_report_7.pdf', 'scraped_report_6.pdf', 'scraped_report_2.pdf', 'scraped_report_3.pdf', 'scraped_report_1.pdf']\n"
     ]
    }
   ],
   "source": [
    "print(os.listdir(directory))"
   ]
  },
  {
   "cell_type": "code",
   "execution_count": 30,
   "id": "smooth-weight",
   "metadata": {},
   "outputs": [
    {
     "name": "stderr",
     "output_type": "stream",
     "text": [
      "Error from tabula-java:\n",
      "Error: Cannot create file ../data/handmade/howardcs/csvs/1.csv\n",
      "\n",
      "\n"
     ]
    },
    {
     "ename": "CalledProcessError",
     "evalue": "Command '['java', '-Djava.awt.headless=true', '-jar', '/opt/homebrew/lib/python3.9/site-packages/tabula/tabula-1.0.5-jar-with-dependencies.jar', '--pages', 'all', '--guess', '--format', 'CSV', '--outfile', '../data/handmade/howardcs/csvs/1.csv', '../data/handmade/howard/pdfs/scraped_report_8.pdf']' returned non-zero exit status 1.",
     "output_type": "error",
     "traceback": [
      "\u001b[0;31m---------------------------------------------------------------------------\u001b[0m",
      "\u001b[0;31mCalledProcessError\u001b[0m                        Traceback (most recent call last)",
      "\u001b[0;32m<ipython-input-30-f2bb7811cf15>\u001b[0m in \u001b[0;36m<module>\u001b[0;34m\u001b[0m\n\u001b[1;32m     12\u001b[0m \u001b[0;31m#         print(count)\u001b[0m\u001b[0;34m\u001b[0m\u001b[0;34m\u001b[0m\u001b[0m\n\u001b[1;32m     13\u001b[0m \u001b[0;31m#         print(file)\u001b[0m\u001b[0;34m\u001b[0m\u001b[0;34m\u001b[0m\u001b[0m\n\u001b[0;32m---> 14\u001b[0;31m         \u001b[0mtabula\u001b[0m\u001b[0;34m.\u001b[0m\u001b[0mio\u001b[0m\u001b[0;34m.\u001b[0m\u001b[0mconvert_into\u001b[0m\u001b[0;34m(\u001b[0m\u001b[0;34mf'{directory}{file}'\u001b[0m\u001b[0;34m,\u001b[0m \u001b[0;34mf'{directory_output}{count}.csv'\u001b[0m\u001b[0;34m,\u001b[0m \u001b[0moutput_format\u001b[0m\u001b[0;34m=\u001b[0m\u001b[0;34m\"csv\"\u001b[0m\u001b[0;34m,\u001b[0m \u001b[0mpages\u001b[0m\u001b[0;34m=\u001b[0m\u001b[0;34m'all'\u001b[0m\u001b[0;34m)\u001b[0m\u001b[0;34m\u001b[0m\u001b[0;34m\u001b[0m\u001b[0m\n\u001b[0m",
      "\u001b[0;32m/opt/homebrew/lib/python3.9/site-packages/tabula/io.py\u001b[0m in \u001b[0;36mconvert_into\u001b[0;34m(input_path, output_path, output_format, java_options, **kwargs)\u001b[0m\n\u001b[1;32m    560\u001b[0m \u001b[0;34m\u001b[0m\u001b[0m\n\u001b[1;32m    561\u001b[0m     \u001b[0;32mtry\u001b[0m\u001b[0;34m:\u001b[0m\u001b[0;34m\u001b[0m\u001b[0;34m\u001b[0m\u001b[0m\n\u001b[0;32m--> 562\u001b[0;31m         \u001b[0m_run\u001b[0m\u001b[0;34m(\u001b[0m\u001b[0mjava_options\u001b[0m\u001b[0;34m,\u001b[0m \u001b[0mkwargs\u001b[0m\u001b[0;34m,\u001b[0m \u001b[0mpath\u001b[0m\u001b[0;34m)\u001b[0m\u001b[0;34m\u001b[0m\u001b[0;34m\u001b[0m\u001b[0m\n\u001b[0m\u001b[1;32m    563\u001b[0m     \u001b[0;32mfinally\u001b[0m\u001b[0;34m:\u001b[0m\u001b[0;34m\u001b[0m\u001b[0;34m\u001b[0m\u001b[0m\n\u001b[1;32m    564\u001b[0m         \u001b[0;32mif\u001b[0m \u001b[0mtemporary\u001b[0m\u001b[0;34m:\u001b[0m\u001b[0;34m\u001b[0m\u001b[0;34m\u001b[0m\u001b[0m\n",
      "\u001b[0;32m/opt/homebrew/lib/python3.9/site-packages/tabula/io.py\u001b[0m in \u001b[0;36m_run\u001b[0;34m(java_options, options, path, encoding)\u001b[0m\n\u001b[1;32m     78\u001b[0m \u001b[0;34m\u001b[0m\u001b[0m\n\u001b[1;32m     79\u001b[0m     \u001b[0;32mtry\u001b[0m\u001b[0;34m:\u001b[0m\u001b[0;34m\u001b[0m\u001b[0;34m\u001b[0m\u001b[0m\n\u001b[0;32m---> 80\u001b[0;31m         result = subprocess.run(\n\u001b[0m\u001b[1;32m     81\u001b[0m             \u001b[0margs\u001b[0m\u001b[0;34m,\u001b[0m\u001b[0;34m\u001b[0m\u001b[0;34m\u001b[0m\u001b[0m\n\u001b[1;32m     82\u001b[0m             \u001b[0mstdout\u001b[0m\u001b[0;34m=\u001b[0m\u001b[0msubprocess\u001b[0m\u001b[0;34m.\u001b[0m\u001b[0mPIPE\u001b[0m\u001b[0;34m,\u001b[0m\u001b[0;34m\u001b[0m\u001b[0;34m\u001b[0m\u001b[0m\n",
      "\u001b[0;32m/opt/homebrew/Cellar/python@3.9/3.9.7/Frameworks/Python.framework/Versions/3.9/lib/python3.9/subprocess.py\u001b[0m in \u001b[0;36mrun\u001b[0;34m(input, capture_output, timeout, check, *popenargs, **kwargs)\u001b[0m\n\u001b[1;32m    526\u001b[0m         \u001b[0mretcode\u001b[0m \u001b[0;34m=\u001b[0m \u001b[0mprocess\u001b[0m\u001b[0;34m.\u001b[0m\u001b[0mpoll\u001b[0m\u001b[0;34m(\u001b[0m\u001b[0;34m)\u001b[0m\u001b[0;34m\u001b[0m\u001b[0;34m\u001b[0m\u001b[0m\n\u001b[1;32m    527\u001b[0m         \u001b[0;32mif\u001b[0m \u001b[0mcheck\u001b[0m \u001b[0;32mand\u001b[0m \u001b[0mretcode\u001b[0m\u001b[0;34m:\u001b[0m\u001b[0;34m\u001b[0m\u001b[0;34m\u001b[0m\u001b[0m\n\u001b[0;32m--> 528\u001b[0;31m             raise CalledProcessError(retcode, process.args,\n\u001b[0m\u001b[1;32m    529\u001b[0m                                      output=stdout, stderr=stderr)\n\u001b[1;32m    530\u001b[0m     \u001b[0;32mreturn\u001b[0m \u001b[0mCompletedProcess\u001b[0m\u001b[0;34m(\u001b[0m\u001b[0mprocess\u001b[0m\u001b[0;34m.\u001b[0m\u001b[0margs\u001b[0m\u001b[0;34m,\u001b[0m \u001b[0mretcode\u001b[0m\u001b[0;34m,\u001b[0m \u001b[0mstdout\u001b[0m\u001b[0;34m,\u001b[0m \u001b[0mstderr\u001b[0m\u001b[0;34m)\u001b[0m\u001b[0;34m\u001b[0m\u001b[0;34m\u001b[0m\u001b[0m\n",
      "\u001b[0;31mCalledProcessError\u001b[0m: Command '['java', '-Djava.awt.headless=true', '-jar', '/opt/homebrew/lib/python3.9/site-packages/tabula/tabula-1.0.5-jar-with-dependencies.jar', '--pages', 'all', '--guess', '--format', 'CSV', '--outfile', '../data/handmade/howardcs/csvs/1.csv', '../data/handmade/howard/pdfs/scraped_report_8.pdf']' returned non-zero exit status 1."
     ]
    }
   ],
   "source": [
    "# convert\n",
    "\n",
    "#import tabula\n",
    "\n",
    "\n",
    "directory = r'../data/handmade/howard/pdfs/'\n",
    "directory_output = r'../data/handmade/howardcs/csvs/'\n",
    "count = 0\n",
    "for file in os.listdir(directory):\n",
    "    if file.endswith(\".pdf\"):\n",
    "        count = count + 1\n",
    "#         print(count)\n",
    "#         print(file)\n",
    "        tabula.io.convert_into(f'{directory}{file}', f'{directory_output}{count}.csv', output_format=\"csv\", pages='all')"
   ]
  },
  {
   "cell_type": "code",
   "execution_count": 7,
   "id": "empty-seeking",
   "metadata": {},
   "outputs": [],
   "source": [
    "def browser_instance(executable_path, headless, download_path):\n",
    "    \n",
    "    \n",
    "    chrome_options =  Options()\n",
    "    if headless:\n",
    "        chrome_options.add_argument(\"--headless\")   \n",
    "    chrome_options.add_experimental_option(\"prefs\", {\n",
    "            \"download.default_directory\": download_path})    \n",
    "    driver = webdriver.Chrome(executable_path=executable_path, options = chrome_options)\n",
    "    return driver    \n",
    "\n",
    "    \n",
    "    #"
   ]
  },
  {
   "cell_type": "markdown",
   "id": "marine-truck",
   "metadata": {},
   "source": [
    "# Scraping Script"
   ]
  },
  {
   "cell_type": "code",
   "execution_count": 15,
   "id": "external-mechanics",
   "metadata": {},
   "outputs": [],
   "source": [
    "driver = browser_instance(executable_path, True, download_path)\n",
    "driver.get(url)\n",
    "button = WebDriverWait(driver, 10).until(EC.element_to_be_clickable((By.XPATH, download_all_field)))\n",
    "button.click()\n",
    "\n",
    "    "
   ]
  }
 ],
 "metadata": {
  "kernelspec": {
   "display_name": "Python 3",
   "language": "python",
   "name": "python3"
  },
  "language_info": {
   "codemirror_mode": {
    "name": "ipython",
    "version": 3
   },
   "file_extension": ".py",
   "mimetype": "text/x-python",
   "name": "python",
   "nbconvert_exporter": "python",
   "pygments_lexer": "ipython3",
   "version": "3.9.7"
  }
 },
 "nbformat": 4,
 "nbformat_minor": 5
}

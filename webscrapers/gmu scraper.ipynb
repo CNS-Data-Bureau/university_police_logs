{
 "cells": [
  {
   "cell_type": "code",
   "execution_count": null,
   "id": "a4cc248e-d0fc-41d6-aa8c-b219e2bb2c61",
   "metadata": {},
   "outputs": [],
   "source": [
    "\n",
    "import pandas as pd\n",
    "import requests\n",
    "from bs4 import BeautifulSoup\n",
    "from selenium import webdriver\n",
    "from pydrive.auth import GoogleAuth\n",
    "from pydrive.drive import GoogleDrive\n",
    "\n",
    "\n",
    "from pathlib import Path\n",
    "import pandas as pd\n",
    "import requests\n",
    "from bs4 import BeautifulSoup\n",
    "from selenium import webdriver\n",
    "#from PyPDF2 import PdfFileReader\n",
    "#from pdfreader import SimplePDFViewer\n",
    "from tabula.io import read_pdf\n",
    "import tabula\n",
    "#import camelot\n",
    "import os\n",
    "import glob\n",
    "import wget"
   ]
  },
  {
   "cell_type": "code",
   "execution_count": null,
   "id": "be01faa9-8281-4ef8-9d2a-db4c4f878bbf",
   "metadata": {},
   "outputs": [],
   "source": [
    "#MDP Arrest Data\n",
    "\n",
    "\n",
    "\n",
    "\n",
    "headers = {\"User-Agent\": \"Mozilla/5.0 (Windows NT 10.0; Win64; x64) AppleWebKit/537.36 (KHTML, like Gecko) Chrome/70.0.3538.77 Safari/537.36\"}\n",
    "\n",
    "url = \"https://drive.google.com/drive/folders/1_cyY2mnMWHgLqavDCyos9tzhAgzCNPhI\"\n",
    "page = requests.get(url, headers = headers)\n",
    "soup = BeautifulSoup(page.text, 'html.parser')\n",
    "print(soup.prettify())"
   ]
  },
  {
   "cell_type": "code",
   "execution_count": 63,
   "id": "b02ab7d0-efa3-49d1-a1c5-bf23b98c207c",
   "metadata": {},
   "outputs": [
    {
     "name": "stdout",
     "output_type": "stream",
     "text": [
      "[<a aria-label=\"Learn more\" class=\"R7nqif m586Kb JGNgFd VLrnY eO2Zfd\" href=\"https://support.google.com/drive/answer/2375082\" jsname=\"viORvd\" target=\"_blank\">Learn more</a>, <a aria-label=\"Drive\" class=\"gb_ke gb_pc gb_ie\" href=\"https://drive.google.com/?tab=oo\" tabindex=\"0\" title=\"Drive\"><img alt=\"\" aria-hidden=\"true\" class=\"gb_tc gb_6d\" src=\"//ssl.gstatic.com/images/branding/product/1x/drive_2020q4_48dp.png\" srcset=\"//ssl.gstatic.com/images/branding/product/1x/drive_2020q4_48dp.png 1x, //ssl.gstatic.com/images/branding/product/2x/drive_2020q4_48dp.png 2x \" style=\"width:40px;height:40px\"/><span class=\"gb_5d gb_Vc\">Drive</span></a>, <a aria-expanded=\"false\" aria-label=\"Google apps\" class=\"gb_C\" href=\"https://www.google.com/intl/en/about/products?tab=oh\" role=\"button\" tabindex=\"0\"><svg class=\"gb_Ve\" focusable=\"false\" viewbox=\"0 0 24 24\"><path d=\"M6,8c1.1,0 2,-0.9 2,-2s-0.9,-2 -2,-2 -2,0.9 -2,2 0.9,2 2,2zM12,20c1.1,0 2,-0.9 2,-2s-0.9,-2 -2,-2 -2,0.9 -2,2 0.9,2 2,2zM6,20c1.1,0 2,-0.9 2,-2s-0.9,-2 -2,-2 -2,0.9 -2,2 0.9,2 2,2zM6,14c1.1,0 2,-0.9 2,-2s-0.9,-2 -2,-2 -2,0.9 -2,2 0.9,2 2,2zM12,14c1.1,0 2,-0.9 2,-2s-0.9,-2 -2,-2 -2,0.9 -2,2 0.9,2 2,2zM16,6c0,1.1 0.9,2 2,2s2,-0.9 2,-2 -0.9,-2 -2,-2 -2,0.9 -2,2zM12,8c1.1,0 2,-0.9 2,-2s-0.9,-2 -2,-2 -2,0.9 -2,2 0.9,2 2,2zM18,14c1.1,0 2,-0.9 2,-2s-0.9,-2 -2,-2 -2,0.9 -2,2 0.9,2 2,2zM18,20c1.1,0 2,-0.9 2,-2s-0.9,-2 -2,-2 -2,0.9 -2,2 0.9,2 2,2z\"></path></svg></a>, <a class=\"gb_3 gb_4 gb_9d gb_3c\" href=\"https://accounts.google.com/ServiceLogin?hl=en&amp;passive=true&amp;continue=https://drive.google.com/drive/folders/1_cyY2mnMWHgLqavDCyos9tzhAgzCNPhI&amp;service=writely&amp;ec=GAZAMQ\" target=\"_top\">Sign in</a>, <a class=\"gb_ke gb_pc gb_ie\" href=\"https://drive.google.com/?tab=oo\" tabindex=\"0\" title=\"Drive\"><span aria-hidden=\"true\" class=\"gb_tc gb_he\"></span><span class=\"gb_5d gb_Vc\">Drive</span></a>]\n"
     ]
    }
   ],
   "source": [
    "test = soup.find_all(\"a\")\n",
    "print(test)"
   ]
  },
  {
   "cell_type": "code",
   "execution_count": null,
   "id": "78fc9919-c389-438f-ba0d-69844a8d2724",
   "metadata": {},
   "outputs": [],
   "source": [
    "middle_page = soup.find(\"div\", {\"id\": \"content-right\"})\n",
    "ls_pdf_links = []\n",
    "\n",
    "urls = middle_page.find_all(\"a\")\n",
    "for url in urls:\n",
    "    if (\".pdf\" in url.get('href', [])):\n",
    "        ls_pdf_links.append(url[\"href\"])\n",
    "    \n",
    "    \n",
    "print(ls_pdf_links)\n",
    "\n",
    "\n",
    "                        "
   ]
  },
  {
   "cell_type": "code",
   "execution_count": null,
   "id": "8c62c3cc-daa7-4946-96e9-8798ff3dcfed",
   "metadata": {},
   "outputs": [],
   "source": [
    "for pdf in ls_pdf_links:\n",
    "    path = \"../data/handmade/gmu/pdfs/\"\n",
    "    wget.download(pdf, out = path)"
   ]
  },
  {
   "cell_type": "code",
   "execution_count": null,
   "id": "aee94998-2e44-46a7-9ad3-a20c21fdf0aa",
   "metadata": {},
   "outputs": [],
   "source": [
    "counter = 0\n",
    "for pdf in ls_pdf_links:\n",
    "    counter = counter +1 \n",
    "    response = requests.get(pdf)\n",
    "    with open(f'../data/handmade/gmu/pdfs/scraped_report_{counter}.pdf', 'wb') as f:\n",
    "        f.write(response.content)"
   ]
  },
  {
   "cell_type": "code",
   "execution_count": null,
   "id": "4fc43492-6687-4df2-a9f0-5c45e9624865",
   "metadata": {},
   "outputs": [],
   "source": [
    "# download pdfs\n",
    "\n",
    "counter = 0 \n",
    "for i in ls_pdf_links:\n",
    "    counter = counter +1\n",
    "#     print(counter)\n",
    "    g = requests.get(i, headers = headers, stream=True)\n",
    "    with open(f'../data/handmade/gmu/pdfs/scraped_report_{counter}.pdf', 'wb') as sav:\n",
    "        for chunk in g.iter_content(chunk_size=1000000):\n",
    "            sav.write(chunk)"
   ]
  },
  {
   "cell_type": "code",
   "execution_count": null,
   "id": "6c1e0845-6579-419b-8c05-3a300a580d37",
   "metadata": {},
   "outputs": [],
   "source": [
    "# now convert them to csvs\n",
    "\n",
    "directory = r'../data/handmade/gmu/pdfs/'\n",
    "directory_output = r'../data/handmade/gmu/csvs/'\n",
    "count = 0\n",
    "for file in os.listdir(directory):\n",
    "    print(f'{directory}{file}')\n",
    "    if file.endswith(\".pdf\"):\n",
    "        count = count + 1     \n",
    "         \n",
    "        tabula.convert_into(f'{directory}{file}', f'{directory_output}{count}.csv', output_format=\"csv\", pages='all')"
   ]
  },
  {
   "cell_type": "code",
   "execution_count": null,
   "id": "8a54f2a1-9dbf-408d-8f5c-7ced29f8ecb9",
   "metadata": {},
   "outputs": [],
   "source": []
  }
 ],
 "metadata": {
  "kernelspec": {
   "display_name": "Python 3 (ipykernel)",
   "language": "python",
   "name": "python3"
  },
  "language_info": {
   "codemirror_mode": {
    "name": "ipython",
    "version": 3
   },
   "file_extension": ".py",
   "mimetype": "text/x-python",
   "name": "python",
   "nbconvert_exporter": "python",
   "pygments_lexer": "ipython3",
   "version": "3.9.5"
  }
 },
 "nbformat": 4,
 "nbformat_minor": 5
}

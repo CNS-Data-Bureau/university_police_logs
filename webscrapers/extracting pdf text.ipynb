{
 "cells": [
  {
   "cell_type": "code",
   "execution_count": 18,
   "id": "departmental-chicken",
   "metadata": {},
   "outputs": [],
   "source": [
    "import pdfplumber\n",
    "import re"
   ]
  },
  {
   "cell_type": "code",
   "execution_count": 19,
   "id": "bored-appraisal",
   "metadata": {},
   "outputs": [
    {
     "name": "stdout",
     "output_type": "stream",
     "text": [
      "None\n"
     ]
    }
   ],
   "source": [
    "with pdfplumber.open('../data/handmade/umbc/pdfs/umbc_23.pdf') as pdf:\n",
    "    first_page = pdf.pages[0]\n",
    "    page_text = (first_page.extract_text())\n",
    "    \n",
    "#print(page_text)\n",
    "new = re.match(r'(?<=general).*(?=date)', page_text)\n",
    "#for i in new:\n",
    "    #print(i)\n",
    "    #print(\"---\")\n",
    "#print(new)\n",
    "\n",
    "# for i in new:\n",
    "#     print(i)\n",
    "#     print(\"----\")\n",
    "\n",
    "#print(page_text)\n",
    "print(new)"
   ]
  },
  {
   "cell_type": "code",
   "execution_count": 6,
   "id": "great-puzzle",
   "metadata": {},
   "outputs": [
    {
     "name": "stdout",
     "output_type": "stream",
     "text": [
      "None\n"
     ]
    }
   ],
   "source": [
    "table = first_page.extract_table()\n",
    "print(table)\n"
   ]
  },
  {
   "cell_type": "code",
   "execution_count": 20,
   "id": "olive-transcription",
   "metadata": {},
   "outputs": [
    {
     "name": "stdout",
     "output_type": "stream",
     "text": [
      "UMBC\n",
      "POLICE DEPARTMENT\n",
      "daily crime log report\n",
      "from 02/01/2019  00:00 to 02/28/2019  23:59\n",
      "date reported: 02/04/19 - MON at 19:47 report #: 19-00021\n",
      "general location: Chesapeake Hall - On Campus - Residential Facility\n",
      "date occurred from: 01/29/19 - TUE at 00:01\n",
      "date occurred to: 01/31/19 - THU at 22:00\n",
      "incident/offenses: THEFT - Theft from Buildings\n",
      "disposition: PAT-SUSPENDED\n",
      "modified date: 02/11/19 - MON at 13:53\n",
      "date reported: 02/05/19 - TUE at 15:15 report #: 19-00024\n",
      "general location: Lot 22 (Hilltop Rd) - On Campus\n",
      "date occurred from: 02/05/19 - TUE at 15:15\n",
      "date occurred to: 02/05/19 - TUE at 16:36\n",
      "incident/offenses: WEAPON - Weapon Offense // WEAPON - Wear; Carry; Trans. Handgun/Use in Crime\n",
      "disposition: PAT-CLEARED BY ARREST\n",
      "modified date: 02/21/19 - THU at 10:48\n",
      "date reported: 02/12/19 - TUE at 22:10 report #: 19-00034\n",
      "general location: Hilltop Cir & Commons Dr - On Campus\n",
      "date occurred from: 02/12/19 - TUE at 22:00\n",
      "date occurred to: 02/12/19 - TUE at 22:05\n",
      "incident/offenses: ASSAULT - 2nd/Assault w/ Hands, etc, Simple // ROBBERY - Robbery w/ Knife or Cutting Instrument\n",
      "disposition: INV-SUSPENDED\n",
      "modified date: 02/27/19 - WED at 10:18\n",
      "date reported: 02/15/19 - FRI at 16:42 report #: 19-00036\n",
      "general location: Poplar Ave. - On Campus\n",
      "date occurred from: 02/14/19 - THU at 17:00\n",
      "date occurred to: 02/15/19 - FRI at 16:00\n",
      "incident/offenses: THEFT - Theft of Bicycle\n",
      "disposition: PAT-SUSPENDED\n",
      "modified date: 02/18/19 - MON at 11:15\n",
      "date reported: 02/15/19 - FRI at 17:03 report #: 19-00037\n",
      "general location: Erickson Hall - On Campus - Residential Facility\n",
      "date occurred from: 02/15/19 - FRI at 16:00\n",
      "date occurred to: 02/15/19 - FRI at 16:30\n",
      "incident/offenses: MISC - Threats\n",
      "disposition: PAT-CLOSED\n",
      "modified date: 03/04/19 - MON at 09:32\n",
      "date reported: 02/15/19 - FRI at 18:29 report #: 19-00038\n",
      "general location: Chesapeake Hall - On Campus - Residential Facility\n",
      "date occurred from: 02/13/19 - WED at 14:00\n",
      "date occurred to: 02/15/19 - FRI at 18:15\n",
      "incident/offenses: MAL DESTRUCTION - Destruction of Property // THEFT - Theft of Bicycle\n",
      "disposition: PAT-SUSPENDED\n",
      "modified date: 02/25/19 - MON at 10:55\n"
     ]
    }
   ],
   "source": [
    "print(page_text)"
   ]
  },
  {
   "cell_type": "code",
   "execution_count": 8,
   "id": "convinced-retro",
   "metadata": {},
   "outputs": [
    {
     "ename": "IndexError",
     "evalue": "no such group",
     "output_type": "error",
     "traceback": [
      "\u001b[0;31m---------------------------------------------------------------------------\u001b[0m",
      "\u001b[0;31mIndexError\u001b[0m                                Traceback (most recent call last)",
      "\u001b[0;32m<ipython-input-8-733da364988e>\u001b[0m in \u001b[0;36m<module>\u001b[0;34m\u001b[0m\n\u001b[1;32m      1\u001b[0m \u001b[0ms\u001b[0m \u001b[0;34m=\u001b[0m \u001b[0;34m'step 1 some text step 2 more text step 3 then more text'\u001b[0m\u001b[0;34m\u001b[0m\u001b[0;34m\u001b[0m\u001b[0m\n\u001b[0;32m----> 2\u001b[0;31m \u001b[0mre\u001b[0m\u001b[0;34m.\u001b[0m\u001b[0msearch\u001b[0m\u001b[0;34m(\u001b[0m\u001b[0;34mr'step 1(.*?)step 2'\u001b[0m\u001b[0;34m,\u001b[0m \u001b[0ms\u001b[0m\u001b[0;34m)\u001b[0m\u001b[0;34m.\u001b[0m\u001b[0mgroup\u001b[0m\u001b[0;34m(\u001b[0m\u001b[0;36m2\u001b[0m\u001b[0;34m)\u001b[0m\u001b[0;34m\u001b[0m\u001b[0;34m\u001b[0m\u001b[0m\n\u001b[0m",
      "\u001b[0;31mIndexError\u001b[0m: no such group"
     ]
    }
   ],
   "source": [
    "s = 'step 1 some text step 2 more text step 3 then more text'\n",
    "re.search(r'step 1(.*?)step 2', s).group(2)"
   ]
  },
  {
   "cell_type": "code",
   "execution_count": 17,
   "id": "excess-acoustic",
   "metadata": {},
   "outputs": [
    {
     "name": "stdout",
     "output_type": "stream",
     "text": [
      "[' 02/11/19 - MON at 13:53 date reported: 02/05/19 - TUE at 15:15 report #: 19-00024 general location: Lot 22 (Hilltop Rd) - On Campus date occurred from: 02/05/19 - TUE at 15:15 date occurred to: 02/05/19 - TUE at 16:36 incident/offenses: WEAPON - Weapon Offense // WEAPON - Wear; Carry; Trans. Handgun/Use in Crime disposition: PAT-CLEARED BY ARREST modified date: 02/21/19 - THU at 10:48 date reported: 02/12/19 - TUE at 22:10 report #: 19-00034 general location: Hilltop Cir & Commons Dr - On Campus date occurred from: 02/12/19 - TUE at 22:00 date occurred to: 02/12/19 - TUE at 22:05 incident/offenses: ASSAULT - 2nd/Assault w/ Hands, etc, Simple // ROBBERY - Robbery w/ Knife or Cutting Instrument disposition: INV-SUSPENDED modified date: 02/27/19 - WED at 10:18 date reported: 02/15/19 - FRI at 16:42 report #: 19-00036 general location: Poplar Ave. - On Campus date occurred from: 02/14/19 - THU at 17:00 date occurred to: 02/15/19 - FRI at 16:00 incident/offenses: THEFT - Theft of Bicycle disposition: PAT-SUSPENDED modified date: 02/18/19 - MON at 11:15 date reported: 02/15/19 - FRI at 17:03 report #: 19-00037 general location: Erickson Hall - On Campus - Residential Facility date occurred from: 02/15/19 - FRI at 16:00 date occurred to: 02/15/19 - FRI at 16:30 incident/offenses: MISC - Threats disposition: PAT-CLOSED modified date: 03/04/19 - MON at 09:32 date reported: 02/15/19 - FRI at 18:29 report #: 19-00038 general location: Chesapeake Hall - On Campus - Residential Facility date occurred from: 02/13/19 - WED at 14:00 date occurred to: 02/15/19 - FRI at 18:15 incident/offenses: MAL DESTRUCTION - Destruction of Property // THEFT - Theft of Bicycle disposition: PAT-SUSPENDED modified date: 02/25/19 - MON at 10:55']\n"
     ]
    }
   ],
   "source": [
    "page_text = page_text.replace(\"\\n\", \" \")\n",
    "date_reported = re.findall(r'date reported:(.*?)report #:', page_text)\n",
    "general_location = re.findall(r'general location:(.*?)date occurred from:', page_text)\n",
    "date_occured_from = re.findall(r'date occurred from:(.*?)date occurred to:', page_text)\n",
    "date_occurred_to = re.findall(r'date occurred to:(.*?)incident/offenses:', page_text)\n",
    "incident_offenses = re.findall(r'incident/offenses:(.*?)disposition:', page_text)\n",
    "disposition = re.findall(r'.{5}(?:one|two).{5}', page_text)\n",
    "# modified_date = re.findall(r'modified date:(.*?)date reported:', page_text)\n",
    "# .{5}(?:one|two).{5}\n",
    "# leave the text as is and \n",
    "#general_location, date_occured_from, date_occurred_to, incident_offenses, disposition, modified_date)\n",
    "print(modified_date)"
   ]
  },
  {
   "cell_type": "code",
   "execution_count": 53,
   "id": "authentic-finder",
   "metadata": {},
   "outputs": [
    {
     "name": "stdout",
     "output_type": "stream",
     "text": [
      "0\n",
      "[' 02/04/19 - MON at 19:47 ', ' Chesapeake Hall - On Campus - Residential Facility ', ' 01/29/19 - TUE at 00:01 ', ' 01/31/19 - THU at 22:00 ', ' THEFT - Theft from Buildings ', ' PAT-SUSPENDED ', ' 02/11/19 - MON at 13:53 ']\n",
      "======\n",
      "1\n",
      "[' 02/05/19 - TUE at 15:15 ', ' Lot 22 (Hilltop Rd) - On Campus ', ' 02/05/19 - TUE at 15:15 ', ' 02/05/19 - TUE at 16:36 ', ' WEAPON - Weapon Offense // WEAPON - Wear; Carry; Trans. Handgun/Use in Crime ', ' PAT-CLEARED BY ARREST ', ' 02/21/19 - THU at 10:48 ']\n",
      "======\n",
      "2\n",
      "[' 02/12/19 - TUE at 22:10 ', ' Hilltop Cir & Commons Dr - On Campus ', ' 02/12/19 - TUE at 22:00 ', ' 02/12/19 - TUE at 22:05 ', ' ASSAULT - 2nd/Assault w/ Hands, etc, Simple // ROBBERY - Robbery w/ Knife or Cutting Instrument ', ' INV-SUSPENDED ', ' 02/27/19 - WED at 10:18 ']\n",
      "======\n",
      "3\n",
      "[' 02/15/19 - FRI at 16:42 ', ' Poplar Ave. - On Campus ', ' 02/14/19 - THU at 17:00 ', ' 02/15/19 - FRI at 16:00 ', ' THEFT - Theft of Bicycle ', ' PAT-SUSPENDED ', ' 02/18/19 - MON at 11:15 ']\n",
      "======\n",
      "4\n",
      "[' 02/15/19 - FRI at 17:03 ', ' Erickson Hall - On Campus - Residential Facility ', ' 02/15/19 - FRI at 16:00 ', ' 02/15/19 - FRI at 16:30 ', ' MISC - Threats ', ' PAT-CLOSED ', ' 03/04/19 - MON at 09:32 ']\n",
      "======\n",
      "5\n"
     ]
    },
    {
     "ename": "IndexError",
     "evalue": "list index out of range",
     "output_type": "error",
     "traceback": [
      "\u001b[1;31m---------------------------------------------------------------------------\u001b[0m",
      "\u001b[1;31mIndexError\u001b[0m                                Traceback (most recent call last)",
      "\u001b[1;32m~\\AppData\\Local\\Temp/ipykernel_11268/1168294950.py\u001b[0m in \u001b[0;36m<module>\u001b[1;34m\u001b[0m\n\u001b[0;32m     16\u001b[0m \u001b[1;32mfor\u001b[0m \u001b[0mi\u001b[0m \u001b[1;32min\u001b[0m \u001b[0mrange\u001b[0m\u001b[1;33m(\u001b[0m\u001b[1;36m0\u001b[0m\u001b[1;33m,\u001b[0m\u001b[0mlen\u001b[0m\u001b[1;33m(\u001b[0m\u001b[0mdate_reported\u001b[0m\u001b[1;33m)\u001b[0m\u001b[1;33m)\u001b[0m\u001b[1;33m:\u001b[0m\u001b[1;33m\u001b[0m\u001b[1;33m\u001b[0m\u001b[0m\n\u001b[0;32m     17\u001b[0m     \u001b[0mprint\u001b[0m\u001b[1;33m(\u001b[0m\u001b[0mi\u001b[0m\u001b[1;33m)\u001b[0m\u001b[1;33m\u001b[0m\u001b[1;33m\u001b[0m\u001b[0m\n\u001b[1;32m---> 18\u001b[1;33m     \u001b[0mresult\u001b[0m \u001b[1;33m=\u001b[0m \u001b[1;33m[\u001b[0m\u001b[0mdate_reported\u001b[0m\u001b[1;33m[\u001b[0m\u001b[0mi\u001b[0m\u001b[1;33m]\u001b[0m\u001b[1;33m,\u001b[0m \u001b[0mgeneral_location\u001b[0m\u001b[1;33m[\u001b[0m\u001b[0mi\u001b[0m\u001b[1;33m]\u001b[0m\u001b[1;33m,\u001b[0m \u001b[0mdate_occured_from\u001b[0m\u001b[1;33m[\u001b[0m\u001b[0mi\u001b[0m\u001b[1;33m]\u001b[0m\u001b[1;33m,\u001b[0m \u001b[0mdate_occurred_to\u001b[0m\u001b[1;33m[\u001b[0m\u001b[0mi\u001b[0m\u001b[1;33m]\u001b[0m\u001b[1;33m,\u001b[0m \u001b[0mincident_offenses\u001b[0m\u001b[1;33m[\u001b[0m\u001b[0mi\u001b[0m\u001b[1;33m]\u001b[0m\u001b[1;33m,\u001b[0m \u001b[0mdisposition\u001b[0m\u001b[1;33m[\u001b[0m\u001b[0mi\u001b[0m\u001b[1;33m]\u001b[0m\u001b[1;33m,\u001b[0m \u001b[0mmodified_date\u001b[0m\u001b[1;33m[\u001b[0m\u001b[0mi\u001b[0m\u001b[1;33m]\u001b[0m\u001b[1;33m]\u001b[0m\u001b[1;33m\u001b[0m\u001b[1;33m\u001b[0m\u001b[0m\n\u001b[0m\u001b[0;32m     19\u001b[0m     \u001b[0mprint\u001b[0m\u001b[1;33m(\u001b[0m\u001b[0mresult\u001b[0m\u001b[1;33m)\u001b[0m\u001b[1;33m\u001b[0m\u001b[1;33m\u001b[0m\u001b[0m\n\u001b[0;32m     20\u001b[0m     \u001b[0mresults\u001b[0m\u001b[1;33m.\u001b[0m\u001b[0mappend\u001b[0m\u001b[1;33m(\u001b[0m\u001b[0mresult\u001b[0m\u001b[1;33m)\u001b[0m\u001b[1;33m\u001b[0m\u001b[1;33m\u001b[0m\u001b[0m\n",
      "\u001b[1;31mIndexError\u001b[0m: list index out of range"
     ]
    }
   ],
   "source": [
    "# print(date_reported)\n",
    "# print(\"-----\")\n",
    "# print(general_location)\n",
    "# print(\"-----\")\n",
    "# print(date_occured_from)\n",
    "# print(\"----\")\n",
    "# print(date_occurred_to)\n",
    "# print(\"-----\")\n",
    "# print(incident_offenses)\n",
    "# print(\"-----\")\n",
    "# print(disposition)\n",
    "# print(\"---\")\n",
    "# print(modified_date)\n",
    "\n",
    "results = []\n",
    "for i in range(0,len(date_reported)):\n",
    "    print(i)\n",
    "    result = [date_reported[i], general_location[i], date_occured_from[i], date_occurred_to[i], incident_offenses[i], disposition[i], modified_date[i]]\n",
    "    print(result)    \n",
    "    results.append(result)\n",
    "    print(\"======\")\n",
    "\n",
    "with open('umbc_test.csv','w') as output_file:\n",
    "    csvfile = csv.writer(output_file)\n",
    "    csvfile.writerow(['date_reported', 'general_location','date_occured_from', 'date_occurred_to', 'incident_offenses', \"disposition\", \"modified_date\"])\n",
    "    csvfile.writerows(results)\n"
   ]
  },
  {
   "cell_type": "code",
   "execution_count": 49,
   "id": "formal-architecture",
   "metadata": {},
   "outputs": [
    {
     "name": "stdout",
     "output_type": "stream",
     "text": [
      "0\n",
      "1\n",
      "2\n",
      "3\n",
      "4\n",
      "5\n"
     ]
    }
   ],
   "source": [
    "for i in range(0,len(date_reported)):\n",
    "    print(i)"
   ]
  },
  {
   "cell_type": "code",
   "execution_count": 43,
   "id": "aware-grain",
   "metadata": {},
   "outputs": [
    {
     "name": "stdout",
     "output_type": "stream",
     "text": [
      "UMBC POLICE DEPARTMENT daily crime log report from 02/01/2019  00:00 to 02/28/2019  23:59 date reported: 02/04/19 - MON at 19:47 report #: 19-00021 general location: Chesapeake Hall - On Campus - Residential Facility date occurred from: 01/29/19 - TUE at 00:01 date occurred to: 01/31/19 - THU at 22:00 incident/offenses: THEFT - Theft from Buildings disposition: PAT-SUSPENDED modified date: 02/11/19 - MON at 13:53 date reported: 02/05/19 - TUE at 15:15 report #: 19-00024 general location: Lot 22 (Hilltop Rd) - On Campus date occurred from: 02/05/19 - TUE at 15:15 date occurred to: 02/05/19 - TUE at 16:36 incident/offenses: WEAPON - Weapon Offense // WEAPON - Wear; Carry; Trans. Handgun/Use in Crime disposition: PAT-CLEARED BY ARREST modified date: 02/21/19 - THU at 10:48 date reported: 02/12/19 - TUE at 22:10 report #: 19-00034 general location: Hilltop Cir & Commons Dr - On Campus date occurred from: 02/12/19 - TUE at 22:00 date occurred to: 02/12/19 - TUE at 22:05 incident/offenses: ASSAULT - 2nd/Assault w/ Hands, etc, Simple // ROBBERY - Robbery w/ Knife or Cutting Instrument disposition: INV-SUSPENDED modified date: 02/27/19 - WED at 10:18 date reported: 02/15/19 - FRI at 16:42 report #: 19-00036 general location: Poplar Ave. - On Campus date occurred from: 02/14/19 - THU at 17:00 date occurred to: 02/15/19 - FRI at 16:00 incident/offenses: THEFT - Theft of Bicycle disposition: PAT-SUSPENDED modified date: 02/18/19 - MON at 11:15 date reported: 02/15/19 - FRI at 17:03 report #: 19-00037 general location: Erickson Hall - On Campus - Residential Facility date occurred from: 02/15/19 - FRI at 16:00 date occurred to: 02/15/19 - FRI at 16:30 incident/offenses: MISC - Threats disposition: PAT-CLOSED modified date: 03/04/19 - MON at 09:32 date reported: 02/15/19 - FRI at 18:29 report #: 19-00038 general location: Chesapeake Hall - On Campus - Residential Facility date occurred from: 02/13/19 - WED at 14:00 date occurred to: 02/15/19 - FRI at 18:15 incident/offenses: MAL DESTRUCTION - Destruction of Property // THEFT - Theft of Bicycle disposition: PAT-SUSPENDED modified date: 02/25/19 - MON at 10:55\n"
     ]
    }
   ],
   "source": [
    "print(page_text.replace(\"\\n\", \" \"))"
   ]
  },
  {
   "cell_type": "code",
   "execution_count": null,
   "id": "basic-synthesis",
   "metadata": {},
   "outputs": [],
   "source": []
  }
 ],
 "metadata": {
  "kernelspec": {
   "display_name": "Python 3",
   "language": "python",
   "name": "python3"
  },
  "language_info": {
   "codemirror_mode": {
    "name": "ipython",
    "version": 3
   },
   "file_extension": ".py",
   "mimetype": "text/x-python",
   "name": "python",
   "nbconvert_exporter": "python",
   "pygments_lexer": "ipython3",
   "version": "3.9.7"
  }
 },
 "nbformat": 4,
 "nbformat_minor": 5
}

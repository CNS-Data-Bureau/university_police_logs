{
 "cells": [
  {
   "cell_type": "code",
   "execution_count": null,
   "id": "d58bb415-7b28-41c6-9fa5-e63e4c836112",
   "metadata": {},
   "outputs": [],
   "source": [
    "import pdfplumber\n",
    "import re"
   ]
  },
  {
   "cell_type": "code",
   "execution_count": 25,
   "id": "879fea37-f9b7-453e-bbe1-2292f96bea8a",
   "metadata": {},
   "outputs": [
    {
     "name": "stdout",
     "output_type": "stream",
     "text": [
      "None\n"
     ]
    }
   ],
   "source": [
    "with pdfplumber.open('../data/handmade/umbc/pdfs/umbc_23.pdf') as pdf:\n",
    "    first_page = pdf.pages[0]\n",
    "    page_text = (first_page.extract_text())\n",
    "    \n",
    "#print(page_text)\n",
    "new = re.match(r'(?<=general).*(?=date)', page_text)\n",
    "#for i in new:\n",
    "    #print(i)\n",
    "    #print(\"---\")\n",
    "#print(new)\n",
    "\n",
    "# for i in new:\n",
    "#     print(i)\n",
    "#     print(\"----\")\n",
    "\n",
    "#print(page_text)\n",
    "print(new)"
   ]
  },
  {
   "cell_type": "code",
   "execution_count": 11,
   "id": "e92ba6c1-a273-40ef-8057-f5a5c428fd96",
   "metadata": {},
   "outputs": [
    {
     "name": "stdout",
     "output_type": "stream",
     "text": [
      "None\n"
     ]
    }
   ],
   "source": [
    "table = first_page.extract_table()\n",
    "print(table)\n"
   ]
  },
  {
   "cell_type": "code",
   "execution_count": 34,
   "id": "37fbc418-05c9-4b89-9b4a-bfda392b144a",
   "metadata": {},
   "outputs": [
    {
     "ename": "AttributeError",
     "evalue": "'NoneType' object has no attribute 'group'",
     "output_type": "error",
     "traceback": [
      "\u001b[1;31m---------------------------------------------------------------------------\u001b[0m",
      "\u001b[1;31mAttributeError\u001b[0m                            Traceback (most recent call last)",
      "\u001b[1;32m~\\AppData\\Local\\Temp/ipykernel_60380/1967170472.py\u001b[0m in \u001b[0;36m<module>\u001b[1;34m\u001b[0m\n\u001b[0;32m      2\u001b[0m \u001b[0mpattern\u001b[0m \u001b[1;33m=\u001b[0m \u001b[1;34m\"date(.*?)general\"\u001b[0m\u001b[1;33m\u001b[0m\u001b[1;33m\u001b[0m\u001b[0m\n\u001b[0;32m      3\u001b[0m \u001b[1;33m\u001b[0m\u001b[0m\n\u001b[1;32m----> 4\u001b[1;33m \u001b[0msubstring\u001b[0m \u001b[1;33m=\u001b[0m \u001b[0mre\u001b[0m\u001b[1;33m.\u001b[0m\u001b[0msearch\u001b[0m\u001b[1;33m(\u001b[0m\u001b[0mpattern\u001b[0m\u001b[1;33m,\u001b[0m \u001b[0mpage_text\u001b[0m\u001b[1;33m)\u001b[0m\u001b[1;33m.\u001b[0m\u001b[0mgroup\u001b[0m\u001b[1;33m(\u001b[0m\u001b[1;36m1\u001b[0m\u001b[1;33m)\u001b[0m\u001b[1;33m\u001b[0m\u001b[1;33m\u001b[0m\u001b[0m\n\u001b[0m\u001b[0;32m      5\u001b[0m \u001b[0mprint\u001b[0m\u001b[1;33m(\u001b[0m\u001b[0msubstring\u001b[0m\u001b[1;33m)\u001b[0m\u001b[1;33m\u001b[0m\u001b[1;33m\u001b[0m\u001b[0m\n",
      "\u001b[1;31mAttributeError\u001b[0m: 'NoneType' object has no attribute 'group'"
     ]
    }
   ],
   "source": [
    "s = \"abc123AUG|GAC|UGAasdfg789\"\n",
    "pattern = \"date(.*?)general\"\n",
    "\n",
    "substring = re.search(pattern, page_text).group(1)\n",
    "print(substring)"
   ]
  },
  {
   "cell_type": "code",
   "execution_count": 27,
   "id": "f4df4ff0-8c5d-4b91-9728-d4dc56589bf5",
   "metadata": {},
   "outputs": [
    {
     "name": "stdout",
     "output_type": "stream",
     "text": [
      "UMBC\n",
      "POLICE DEPARTMENT\n",
      "daily crime log report\n",
      "from 02/01/2019  00:00 to 02/28/2019  23:59\n",
      "date reported: 02/04/19 - MON at 19:47 report #: 19-00021\n",
      "general location: Chesapeake Hall - On Campus - Residential Facility\n",
      "date occurred from: 01/29/19 - TUE at 00:01\n",
      "date occurred to: 01/31/19 - THU at 22:00\n",
      "incident/offenses: THEFT - Theft from Buildings\n",
      "disposition: PAT-SUSPENDED\n",
      "modified date: 02/11/19 - MON at 13:53\n",
      "date reported: 02/05/19 - TUE at 15:15 report #: 19-00024\n",
      "general location: Lot 22 (Hilltop Rd) - On Campus\n",
      "date occurred from: 02/05/19 - TUE at 15:15\n",
      "date occurred to: 02/05/19 - TUE at 16:36\n",
      "incident/offenses: WEAPON - Weapon Offense // WEAPON - Wear; Carry; Trans. Handgun/Use in Crime\n",
      "disposition: PAT-CLEARED BY ARREST\n",
      "modified date: 02/21/19 - THU at 10:48\n",
      "date reported: 02/12/19 - TUE at 22:10 report #: 19-00034\n",
      "general location: Hilltop Cir & Commons Dr - On Campus\n",
      "date occurred from: 02/12/19 - TUE at 22:00\n",
      "date occurred to: 02/12/19 - TUE at 22:05\n",
      "incident/offenses: ASSAULT - 2nd/Assault w/ Hands, etc, Simple // ROBBERY - Robbery w/ Knife or Cutting Instrument\n",
      "disposition: INV-SUSPENDED\n",
      "modified date: 02/27/19 - WED at 10:18\n",
      "date reported: 02/15/19 - FRI at 16:42 report #: 19-00036\n",
      "general location: Poplar Ave. - On Campus\n",
      "date occurred from: 02/14/19 - THU at 17:00\n",
      "date occurred to: 02/15/19 - FRI at 16:00\n",
      "incident/offenses: THEFT - Theft of Bicycle\n",
      "disposition: PAT-SUSPENDED\n",
      "modified date: 02/18/19 - MON at 11:15\n",
      "date reported: 02/15/19 - FRI at 17:03 report #: 19-00037\n",
      "general location: Erickson Hall - On Campus - Residential Facility\n",
      "date occurred from: 02/15/19 - FRI at 16:00\n",
      "date occurred to: 02/15/19 - FRI at 16:30\n",
      "incident/offenses: MISC - Threats\n",
      "disposition: PAT-CLOSED\n",
      "modified date: 03/04/19 - MON at 09:32\n",
      "date reported: 02/15/19 - FRI at 18:29 report #: 19-00038\n",
      "general location: Chesapeake Hall - On Campus - Residential Facility\n",
      "date occurred from: 02/13/19 - WED at 14:00\n",
      "date occurred to: 02/15/19 - FRI at 18:15\n",
      "incident/offenses: MAL DESTRUCTION - Destruction of Property // THEFT - Theft of Bicycle\n",
      "disposition: PAT-SUSPENDED\n",
      "modified date: 02/25/19 - MON at 10:55\n"
     ]
    }
   ],
   "source": [
    "print(page_text)"
   ]
  },
  {
   "cell_type": "code",
   "execution_count": null,
   "id": "1bf88b8d-e52b-4573-800a-8c4e09fa439d",
   "metadata": {},
   "outputs": [],
   "source": []
  }
 ],
 "metadata": {
  "kernelspec": {
   "display_name": "Python 3 (ipykernel)",
   "language": "python",
   "name": "python3"
  },
  "language_info": {
   "codemirror_mode": {
    "name": "ipython",
    "version": 3
   },
   "file_extension": ".py",
   "mimetype": "text/x-python",
   "name": "python",
   "nbconvert_exporter": "python",
   "pygments_lexer": "ipython3",
   "version": "3.9.5"
  }
 },
 "nbformat": 4,
 "nbformat_minor": 5
}

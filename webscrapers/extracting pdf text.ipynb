{
 "cells": [
  {
   "cell_type": "code",
   "execution_count": null,
   "id": "departmental-chicken",
   "metadata": {},
   "outputs": [],
   "source": [
    "import pdfplumber\n",
    "import re\n",
    "import csv\n",
    "import os"
   ]
  },
  {
   "cell_type": "code",
   "execution_count": 109,
   "id": "90fbe42e-681d-4a46-83f5-a815afd6c4f0",
   "metadata": {},
   "outputs": [
    {
     "name": "stdout",
     "output_type": "stream",
     "text": [
      "['umbc_13.pdf', 'umbc_18.pdf', 'umbc_11.pdf', 'umbc_38.pdf', 'umbc_27.pdf', 'umbc_58.pdf', 'umbc_35.pdf', 'umbc_21.pdf', 'umbc_48.pdf', 'umbc_32.pdf', 'umbc_15.pdf', 'umbc_43.pdf', 'umbc_50.pdf', 'umbc_54.pdf', 'umbc_59.pdf', 'umbc_49.pdf', 'umbc_10.pdf', 'umbc_51.pdf', 'umbc_42.pdf', 'umbc_46.pdf', 'umbc_22.pdf', 'umbc_4.pdf', 'umbc_6.pdf', 'umbc_17.pdf', 'umbc_26.pdf', 'umbc_40.pdf', 'umbc_28.pdf', 'umbc_36.pdf', 'umbc_12.pdf', 'umbc_9.pdf', 'umbc_31.pdf', 'umbc_24.pdf', 'umbc_2.pdf', 'umbc_37.pdf', 'umbc_30.pdf', 'umbc_29.pdf', 'umbc_7.pdf', 'umbc_44.pdf', 'umbc_41.pdf', 'umbc_1.pdf', 'umbc_16.pdf', 'umbc_56.pdf', 'umbc_14.pdf', 'umbc_39.pdf', 'umbc_57.pdf', 'umbc_55.pdf', 'umbc_25.pdf', 'umbc_20.pdf', 'umbc_5.pdf', 'umbc_45.pdf', 'umbc_53.pdf']\n",
      "doing umbc_13.pdf\n",
      "<Page:1>\n",
      "doing umbc_18.pdf\n",
      "<Page:1>\n",
      "doing umbc_11.pdf\n",
      "<Page:1>\n",
      "<Page:2>\n",
      "<Page:3>\n",
      "<Page:4>\n",
      "<Page:5>\n",
      "doing umbc_38.pdf\n",
      "<Page:1>\n",
      "<Page:2>\n",
      "<Page:3>\n",
      "<Page:4>\n",
      "doing umbc_27.pdf\n",
      "<Page:1>\n",
      "<Page:2>\n",
      "doing umbc_58.pdf\n",
      "<Page:1>\n",
      "<Page:2>\n",
      "<Page:3>\n",
      "<Page:4>\n",
      "doing umbc_35.pdf\n",
      "<Page:1>\n",
      "<Page:2>\n",
      "doing umbc_21.pdf\n",
      "<Page:1>\n",
      "<Page:2>\n",
      "<Page:3>\n",
      "doing umbc_48.pdf\n",
      "<Page:1>\n",
      "doing umbc_32.pdf\n",
      "<Page:1>\n",
      "<Page:2>\n",
      "<Page:3>\n",
      "<Page:4>\n",
      "doing umbc_15.pdf\n",
      "<Page:1>\n",
      "doing umbc_43.pdf\n",
      "<Page:1>\n",
      "<Page:2>\n",
      "<Page:3>\n",
      "<Page:4>\n",
      "doing umbc_50.pdf\n",
      "<Page:1>\n",
      "<Page:2>\n",
      "<Page:3>\n",
      "doing umbc_54.pdf\n",
      "<Page:1>\n",
      "<Page:2>\n",
      "<Page:3>\n",
      "doing umbc_59.pdf\n",
      "<Page:1>\n",
      "<Page:2>\n",
      "<Page:3>\n",
      "doing umbc_49.pdf\n",
      "<Page:1>\n",
      "<Page:2>\n",
      "<Page:3>\n",
      "<Page:4>\n",
      "doing umbc_10.pdf\n",
      "<Page:1>\n",
      "<Page:2>\n",
      "<Page:3>\n",
      "doing umbc_51.pdf\n",
      "<Page:1>\n",
      "<Page:2>\n",
      "<Page:3>\n",
      "<Page:4>\n",
      "doing umbc_42.pdf\n",
      "<Page:1>\n",
      "<Page:2>\n",
      "doing umbc_46.pdf\n",
      "<Page:1>\n",
      "<Page:2>\n",
      "<Page:3>\n",
      "doing umbc_22.pdf\n",
      "<Page:1>\n",
      "<Page:2>\n",
      "doing umbc_4.pdf\n",
      "<Page:1>\n",
      "doing umbc_6.pdf\n",
      "<Page:1>\n"
     ]
    },
    {
     "ename": "PDFSyntaxError",
     "evalue": "No /Root object! - Is this really a PDF?",
     "output_type": "error",
     "traceback": [
      "\u001b[0;31m---------------------------------------------------------------------------\u001b[0m",
      "\u001b[0;31mPDFSyntaxError\u001b[0m                            Traceback (most recent call last)",
      "\u001b[0;32m/tmp/ipykernel_48977/2105456627.py\u001b[0m in \u001b[0;36m<module>\u001b[0;34m\u001b[0m\n\u001b[1;32m     19\u001b[0m \u001b[0mprint\u001b[0m\u001b[0;34m(\u001b[0m\u001b[0mos\u001b[0m\u001b[0;34m.\u001b[0m\u001b[0mlistdir\u001b[0m\u001b[0;34m(\u001b[0m\u001b[0;34m\"/home/nickmcmillan/Code/university_police_logs/data/handmade/umbc/pdfs\"\u001b[0m\u001b[0;34m)\u001b[0m\u001b[0;34m)\u001b[0m\u001b[0;34m\u001b[0m\u001b[0;34m\u001b[0m\u001b[0m\n\u001b[1;32m     20\u001b[0m \u001b[0;32mfor\u001b[0m \u001b[0mfile\u001b[0m \u001b[0;32min\u001b[0m \u001b[0mos\u001b[0m\u001b[0;34m.\u001b[0m\u001b[0mlistdir\u001b[0m\u001b[0;34m(\u001b[0m\u001b[0;34m\"/home/nickmcmillan/Code/university_police_logs/data/handmade/umbc/pdfs\"\u001b[0m\u001b[0;34m)\u001b[0m\u001b[0;34m:\u001b[0m\u001b[0;34m\u001b[0m\u001b[0;34m\u001b[0m\u001b[0m\n\u001b[0;32m---> 21\u001b[0;31m     \u001b[0;32mwith\u001b[0m \u001b[0mpdfplumber\u001b[0m\u001b[0;34m.\u001b[0m\u001b[0mopen\u001b[0m\u001b[0;34m(\u001b[0m\u001b[0;34m\"/home/nickmcmillan/Code/university_police_logs/data/handmade/umbc/pdfs/\"\u001b[0m\u001b[0;34m+\u001b[0m\u001b[0mfile\u001b[0m\u001b[0;34m)\u001b[0m \u001b[0;32mas\u001b[0m \u001b[0mpdf\u001b[0m\u001b[0;34m:\u001b[0m\u001b[0;34m\u001b[0m\u001b[0;34m\u001b[0m\u001b[0m\n\u001b[0m\u001b[1;32m     22\u001b[0m         \u001b[0mall_pages\u001b[0m \u001b[0;34m=\u001b[0m \u001b[0mpdf\u001b[0m\u001b[0;34m.\u001b[0m\u001b[0mpages\u001b[0m\u001b[0;34m\u001b[0m\u001b[0;34m\u001b[0m\u001b[0m\n\u001b[1;32m     23\u001b[0m         \u001b[0mprint\u001b[0m\u001b[0;34m(\u001b[0m\u001b[0;34mf'doing {file}'\u001b[0m\u001b[0;34m)\u001b[0m\u001b[0;34m\u001b[0m\u001b[0;34m\u001b[0m\u001b[0m\n",
      "\u001b[0;32m~/.local/share/virtualenvs/webscrapers-8s0yVS4J/lib/python3.9/site-packages/pdfplumber/pdf.py\u001b[0m in \u001b[0;36mopen\u001b[0;34m(cls, path_or_fp, **kwargs)\u001b[0m\n\u001b[1;32m     54\u001b[0m         \u001b[0;32mif\u001b[0m \u001b[0misinstance\u001b[0m\u001b[0;34m(\u001b[0m\u001b[0mpath_or_fp\u001b[0m\u001b[0;34m,\u001b[0m \u001b[0;34m(\u001b[0m\u001b[0mstr\u001b[0m\u001b[0;34m,\u001b[0m \u001b[0mpathlib\u001b[0m\u001b[0;34m.\u001b[0m\u001b[0mPath\u001b[0m\u001b[0;34m)\u001b[0m\u001b[0;34m)\u001b[0m\u001b[0;34m:\u001b[0m\u001b[0;34m\u001b[0m\u001b[0;34m\u001b[0m\u001b[0m\n\u001b[1;32m     55\u001b[0m             \u001b[0mfp\u001b[0m \u001b[0;34m=\u001b[0m \u001b[0mopen\u001b[0m\u001b[0;34m(\u001b[0m\u001b[0mpath_or_fp\u001b[0m\u001b[0;34m,\u001b[0m \u001b[0;34m\"rb\"\u001b[0m\u001b[0;34m)\u001b[0m\u001b[0;34m\u001b[0m\u001b[0;34m\u001b[0m\u001b[0m\n\u001b[0;32m---> 56\u001b[0;31m             \u001b[0minst\u001b[0m \u001b[0;34m=\u001b[0m \u001b[0mcls\u001b[0m\u001b[0;34m(\u001b[0m\u001b[0mfp\u001b[0m\u001b[0;34m,\u001b[0m \u001b[0;34m**\u001b[0m\u001b[0mkwargs\u001b[0m\u001b[0;34m)\u001b[0m\u001b[0;34m\u001b[0m\u001b[0;34m\u001b[0m\u001b[0m\n\u001b[0m\u001b[1;32m     57\u001b[0m             \u001b[0minst\u001b[0m\u001b[0;34m.\u001b[0m\u001b[0mclose_file\u001b[0m \u001b[0;34m=\u001b[0m \u001b[0mfp\u001b[0m\u001b[0;34m.\u001b[0m\u001b[0mclose\u001b[0m\u001b[0;34m\u001b[0m\u001b[0;34m\u001b[0m\u001b[0m\n\u001b[1;32m     58\u001b[0m             \u001b[0;32mreturn\u001b[0m \u001b[0minst\u001b[0m\u001b[0;34m\u001b[0m\u001b[0;34m\u001b[0m\u001b[0m\n",
      "\u001b[0;32m~/.local/share/virtualenvs/webscrapers-8s0yVS4J/lib/python3.9/site-packages/pdfplumber/pdf.py\u001b[0m in \u001b[0;36m__init__\u001b[0;34m(self, stream, pages, laparams, precision, password, strict_metadata)\u001b[0m\n\u001b[1;32m     31\u001b[0m         \u001b[0mself\u001b[0m\u001b[0;34m.\u001b[0m\u001b[0mpages_to_parse\u001b[0m \u001b[0;34m=\u001b[0m \u001b[0mpages\u001b[0m\u001b[0;34m\u001b[0m\u001b[0;34m\u001b[0m\u001b[0m\n\u001b[1;32m     32\u001b[0m         \u001b[0mself\u001b[0m\u001b[0;34m.\u001b[0m\u001b[0mprecision\u001b[0m \u001b[0;34m=\u001b[0m \u001b[0mprecision\u001b[0m\u001b[0;34m\u001b[0m\u001b[0;34m\u001b[0m\u001b[0m\n\u001b[0;32m---> 33\u001b[0;31m         \u001b[0mself\u001b[0m\u001b[0;34m.\u001b[0m\u001b[0mdoc\u001b[0m \u001b[0;34m=\u001b[0m \u001b[0mPDFDocument\u001b[0m\u001b[0;34m(\u001b[0m\u001b[0mPDFParser\u001b[0m\u001b[0;34m(\u001b[0m\u001b[0mstream\u001b[0m\u001b[0;34m)\u001b[0m\u001b[0;34m,\u001b[0m \u001b[0mpassword\u001b[0m\u001b[0;34m=\u001b[0m\u001b[0mpassword\u001b[0m\u001b[0;34m)\u001b[0m\u001b[0;34m\u001b[0m\u001b[0;34m\u001b[0m\u001b[0m\n\u001b[0m\u001b[1;32m     34\u001b[0m         \u001b[0mself\u001b[0m\u001b[0;34m.\u001b[0m\u001b[0mrsrcmgr\u001b[0m \u001b[0;34m=\u001b[0m \u001b[0mPDFResourceManager\u001b[0m\u001b[0;34m(\u001b[0m\u001b[0;34m)\u001b[0m\u001b[0;34m\u001b[0m\u001b[0;34m\u001b[0m\u001b[0m\n\u001b[1;32m     35\u001b[0m         \u001b[0mself\u001b[0m\u001b[0;34m.\u001b[0m\u001b[0mmetadata\u001b[0m \u001b[0;34m=\u001b[0m \u001b[0;34m{\u001b[0m\u001b[0;34m}\u001b[0m\u001b[0;34m\u001b[0m\u001b[0;34m\u001b[0m\u001b[0m\n",
      "\u001b[0;32m~/.local/share/virtualenvs/webscrapers-8s0yVS4J/lib/python3.9/site-packages/pdfminer/pdfdocument.py\u001b[0m in \u001b[0;36m__init__\u001b[0;34m(self, parser, password, caching, fallback)\u001b[0m\n\u001b[1;32m    570\u001b[0m                 \u001b[0;32mbreak\u001b[0m\u001b[0;34m\u001b[0m\u001b[0;34m\u001b[0m\u001b[0m\n\u001b[1;32m    571\u001b[0m         \u001b[0;32melse\u001b[0m\u001b[0;34m:\u001b[0m\u001b[0;34m\u001b[0m\u001b[0;34m\u001b[0m\u001b[0m\n\u001b[0;32m--> 572\u001b[0;31m             \u001b[0;32mraise\u001b[0m \u001b[0mPDFSyntaxError\u001b[0m\u001b[0;34m(\u001b[0m\u001b[0;34m'No /Root object! - Is this really a PDF?'\u001b[0m\u001b[0;34m)\u001b[0m\u001b[0;34m\u001b[0m\u001b[0;34m\u001b[0m\u001b[0m\n\u001b[0m\u001b[1;32m    573\u001b[0m         \u001b[0;32mif\u001b[0m \u001b[0mself\u001b[0m\u001b[0;34m.\u001b[0m\u001b[0mcatalog\u001b[0m\u001b[0;34m.\u001b[0m\u001b[0mget\u001b[0m\u001b[0;34m(\u001b[0m\u001b[0;34m'Type'\u001b[0m\u001b[0;34m)\u001b[0m \u001b[0;32mis\u001b[0m \u001b[0;32mnot\u001b[0m \u001b[0mLITERAL_CATALOG\u001b[0m\u001b[0;34m:\u001b[0m\u001b[0;34m\u001b[0m\u001b[0;34m\u001b[0m\u001b[0m\n\u001b[1;32m    574\u001b[0m             \u001b[0;32mif\u001b[0m \u001b[0msettings\u001b[0m\u001b[0;34m.\u001b[0m\u001b[0mSTRICT\u001b[0m\u001b[0;34m:\u001b[0m\u001b[0;34m\u001b[0m\u001b[0;34m\u001b[0m\u001b[0m\n",
      "\u001b[0;31mPDFSyntaxError\u001b[0m: No /Root object! - Is this really a PDF?"
     ]
    }
   ],
   "source": [
    "def parse_pdf(page_object):\n",
    "    page_text = page_object.extract_text()\n",
    "    page_text = page_text.replace(\"\\n\", \" \")\n",
    "    date_reported = re.findall(r'date reported:(.*?)report #:', page_text)\n",
    "    general_location = re.findall(r'general location:(.*?)date occurred from:', page_text)\n",
    "    date_occured_from = re.findall(r'date occurred from:(.*?)date occurred to:', page_text)\n",
    "    date_occurred_to = re.findall(r'date occurred to:(.*?)incident/offenses:', page_text)\n",
    "    incident_offenses = re.findall(r'incident/offenses:(.*?)disposition:', page_text)\n",
    "    disposition = re.findall(r'disposition:(.*?)modified date:', page_text)\n",
    "    modified_date = re.findall('modified date:' + \".{24}\", page_text)\n",
    "    \n",
    "    results = []\n",
    "    for i in range(0,len(date_reported)):    \n",
    "        result = [date_reported[i], general_location[i], date_occured_from[i], date_occurred_to[i], incident_offenses[i], disposition[i], modified_date[i]]\n",
    "        results.append(result)\n",
    "    return(results)\n",
    "\n",
    "result = []\n",
    "print(os.listdir(\"/home/nickmcmillan/Code/university_police_logs/data/handmade/umbc/pdfs\"))\n",
    "for file in os.listdir(\"/home/nickmcmillan/Code/university_police_logs/data/handmade/umbc/pdfs\"):\n",
    "    with pdfplumber.open(\"/home/nickmcmillan/Code/university_police_logs/data/handmade/umbc/pdfs/\"+file) as pdf:        \n",
    "        all_pages = pdf.pages\n",
    "        print(f'doing {file}')\n",
    "        for page in all_pages:\n",
    "            \n",
    "            print(page)\n",
    "            result_new = parse_pdf(page)\n",
    "            result = result + result_new\n",
    "        \n",
    "\n",
    "with open('umbc_data.csv','w') as output_file:\n",
    "    csvfile = csv.writer(output_file)\n",
    "    csvfile.writerow(['date_reported', 'general_location','date_occured_from', 'date_occurred_to', 'incident_offenses', \"disposition\", \"modified_date\"])\n",
    "    csvfile.writerows(result)\n",
    "        "
   ]
  },
  {
   "cell_type": "code",
   "execution_count": 107,
   "id": "bored-appraisal",
   "metadata": {},
   "outputs": [
    {
     "ename": "FileNotFoundError",
     "evalue": "[Errno 2] No such file or directory: '../data/handmade/umbc/pdfs/umbc_23.pdf'",
     "output_type": "error",
     "traceback": [
      "\u001b[0;31m---------------------------------------------------------------------------\u001b[0m",
      "\u001b[0;31mFileNotFoundError\u001b[0m                         Traceback (most recent call last)",
      "\u001b[0;32m/tmp/ipykernel_48977/3247356492.py\u001b[0m in \u001b[0;36m<module>\u001b[0;34m\u001b[0m\n\u001b[0;32m----> 1\u001b[0;31m \u001b[0;32mwith\u001b[0m \u001b[0mpdfplumber\u001b[0m\u001b[0;34m.\u001b[0m\u001b[0mopen\u001b[0m\u001b[0;34m(\u001b[0m\u001b[0;34m'../data/handmade/umbc/pdfs/umbc_23.pdf'\u001b[0m\u001b[0;34m)\u001b[0m \u001b[0;32mas\u001b[0m \u001b[0mpdf\u001b[0m\u001b[0;34m:\u001b[0m\u001b[0;34m\u001b[0m\u001b[0;34m\u001b[0m\u001b[0m\n\u001b[0m\u001b[1;32m      2\u001b[0m     \u001b[0mfirst_page\u001b[0m \u001b[0;34m=\u001b[0m \u001b[0mpdf\u001b[0m\u001b[0;34m.\u001b[0m\u001b[0mpages\u001b[0m\u001b[0;34m[\u001b[0m\u001b[0;36m0\u001b[0m\u001b[0;34m]\u001b[0m\u001b[0;34m\u001b[0m\u001b[0;34m\u001b[0m\u001b[0m\n\u001b[1;32m      3\u001b[0m     \u001b[0mall_pages\u001b[0m \u001b[0;34m=\u001b[0m \u001b[0mpdf\u001b[0m\u001b[0;34m.\u001b[0m\u001b[0mpages\u001b[0m\u001b[0;34m\u001b[0m\u001b[0;34m\u001b[0m\u001b[0m\n\u001b[1;32m      4\u001b[0m     \u001b[0mpage_text\u001b[0m \u001b[0;34m=\u001b[0m \u001b[0;34m(\u001b[0m\u001b[0mfirst_page\u001b[0m\u001b[0;34m.\u001b[0m\u001b[0mextract_text\u001b[0m\u001b[0;34m(\u001b[0m\u001b[0;34m)\u001b[0m\u001b[0;34m)\u001b[0m\u001b[0;34m\u001b[0m\u001b[0;34m\u001b[0m\u001b[0m\n\u001b[1;32m      5\u001b[0m \u001b[0;34m\u001b[0m\u001b[0m\n",
      "\u001b[0;32m~/.local/share/virtualenvs/webscrapers-8s0yVS4J/lib/python3.9/site-packages/pdfplumber/pdf.py\u001b[0m in \u001b[0;36mopen\u001b[0;34m(cls, path_or_fp, **kwargs)\u001b[0m\n\u001b[1;32m     53\u001b[0m     \u001b[0;32mdef\u001b[0m \u001b[0mopen\u001b[0m\u001b[0;34m(\u001b[0m\u001b[0mcls\u001b[0m\u001b[0;34m,\u001b[0m \u001b[0mpath_or_fp\u001b[0m\u001b[0;34m,\u001b[0m \u001b[0;34m**\u001b[0m\u001b[0mkwargs\u001b[0m\u001b[0;34m)\u001b[0m\u001b[0;34m:\u001b[0m\u001b[0;34m\u001b[0m\u001b[0;34m\u001b[0m\u001b[0m\n\u001b[1;32m     54\u001b[0m         \u001b[0;32mif\u001b[0m \u001b[0misinstance\u001b[0m\u001b[0;34m(\u001b[0m\u001b[0mpath_or_fp\u001b[0m\u001b[0;34m,\u001b[0m \u001b[0;34m(\u001b[0m\u001b[0mstr\u001b[0m\u001b[0;34m,\u001b[0m \u001b[0mpathlib\u001b[0m\u001b[0;34m.\u001b[0m\u001b[0mPath\u001b[0m\u001b[0;34m)\u001b[0m\u001b[0;34m)\u001b[0m\u001b[0;34m:\u001b[0m\u001b[0;34m\u001b[0m\u001b[0;34m\u001b[0m\u001b[0m\n\u001b[0;32m---> 55\u001b[0;31m             \u001b[0mfp\u001b[0m \u001b[0;34m=\u001b[0m \u001b[0mopen\u001b[0m\u001b[0;34m(\u001b[0m\u001b[0mpath_or_fp\u001b[0m\u001b[0;34m,\u001b[0m \u001b[0;34m\"rb\"\u001b[0m\u001b[0;34m)\u001b[0m\u001b[0;34m\u001b[0m\u001b[0;34m\u001b[0m\u001b[0m\n\u001b[0m\u001b[1;32m     56\u001b[0m             \u001b[0minst\u001b[0m \u001b[0;34m=\u001b[0m \u001b[0mcls\u001b[0m\u001b[0;34m(\u001b[0m\u001b[0mfp\u001b[0m\u001b[0;34m,\u001b[0m \u001b[0;34m**\u001b[0m\u001b[0mkwargs\u001b[0m\u001b[0;34m)\u001b[0m\u001b[0;34m\u001b[0m\u001b[0;34m\u001b[0m\u001b[0m\n\u001b[1;32m     57\u001b[0m             \u001b[0minst\u001b[0m\u001b[0;34m.\u001b[0m\u001b[0mclose_file\u001b[0m \u001b[0;34m=\u001b[0m \u001b[0mfp\u001b[0m\u001b[0;34m.\u001b[0m\u001b[0mclose\u001b[0m\u001b[0;34m\u001b[0m\u001b[0;34m\u001b[0m\u001b[0m\n",
      "\u001b[0;31mFileNotFoundError\u001b[0m: [Errno 2] No such file or directory: '../data/handmade/umbc/pdfs/umbc_23.pdf'"
     ]
    }
   ],
   "source": [
    "with pdfplumber.open('../data/handmade/umbc/pdfs/umbc_23.pdf') as pdf:\n",
    "    first_page = pdf.pages[0]\n",
    "    all_pages = pdf.pages\n",
    "    page_text = (first_page.extract_text())\n",
    "    \n",
    "#print(page_text)\n",
    "#new = re.match(r'(?<=general).*(?=date)', page_text)\n",
    "#for i in new:\n",
    "    #print(i)\n",
    "    #print(\"---\")\n",
    "#print(new)\n",
    "\n",
    "# for i in new:\n",
    "#     print(i)\n",
    "#     print(\"----\")\n",
    "\n",
    "#print(page_text)\n",
    "#print(new)"
   ]
  },
  {
   "cell_type": "code",
   "execution_count": null,
   "id": "d676c6e7-1d98-4c93-ab53-1bd510ab42b4",
   "metadata": {},
   "outputs": [],
   "source": [
    "for i in range(0,len(all_pages)):\n",
    "    # test = all_pages[i]\n",
    "    # print(test.extract_text())\n",
    "    # print(\"====\")\n",
    "    print(i)\n",
    "print(all_pages[1].extract_text())"
   ]
  },
  {
   "cell_type": "code",
   "execution_count": null,
   "id": "great-puzzle",
   "metadata": {},
   "outputs": [],
   "source": [
    "table = first_page.extract_table()\n",
    "print(all_pages)\n"
   ]
  },
  {
   "cell_type": "code",
   "execution_count": null,
   "id": "olive-transcription",
   "metadata": {},
   "outputs": [],
   "source": [
    "#print(page_text)\n",
    "test = re.split('\\n', page_text)\n",
    "\n",
    "for i in test:\n",
    "    print(i)\n",
    "    print(\"=====\")"
   ]
  },
  {
   "cell_type": "code",
   "execution_count": null,
   "id": "convinced-retro",
   "metadata": {},
   "outputs": [],
   "source": [
    "s = 'step 1 some text step 2 more text step 3 then more text'\n",
    "re.search(r'step 1(.*?)step 2', s).group(2)"
   ]
  },
  {
   "cell_type": "code",
   "execution_count": null,
   "id": "excess-acoustic",
   "metadata": {},
   "outputs": [],
   "source": [
    "page_text = page_text.replace(\"\\n\", \" \")\n",
    "date_reported = re.findall(r'date reported:(.*?)report #:', page_text)\n",
    "general_location = re.findall(r'general location:(.*?)date occurred from:', page_text)\n",
    "date_occured_from = re.findall(r'date occurred from:(.*?)date occurred to:', page_text)\n",
    "date_occurred_to = re.findall(r'date occurred to:(.*?)incident/offenses:', page_text)\n",
    "incident_offenses = re.findall(r'incident/offenses:(.*?)disposition:', page_text)\n",
    "disposition = re.findall(r'disposition:(.*?)modified date:', page_text)\n",
    "modified_date = re.findall('modified date:' + \".{24}\", page_text)\n",
    "# modified_date = re.findall(r'modified date:(.*?)date reported:', page_text)\n",
    "# .{5}(?:one|two).{5}\n",
    "# leave the text as is and \n",
    "#general_location, date_occured_from, date_occurred_to, incident_offenses, disposition, modified_date)\n"
   ]
  },
  {
   "cell_type": "code",
   "execution_count": null,
   "id": "d057e64b-4e1e-44f4-ad51-2f01a5d86ebb",
   "metadata": {},
   "outputs": [],
   "source": [
    "print(modified_date)\n"
   ]
  },
  {
   "cell_type": "code",
   "execution_count": null,
   "id": "authentic-finder",
   "metadata": {},
   "outputs": [],
   "source": [
    "# print(date_reported)\n",
    "# print(\"-----\")\n",
    "# print(general_location)\n",
    "# print(\"-----\")\n",
    "# print(date_occured_from)\n",
    "# print(\"----\")\n",
    "# print(date_occurred_to)\n",
    "# print(\"-----\")\n",
    "# print(incident_offenses)\n",
    "# print(\"-----\")\n",
    "# print(disposition)\n",
    "# print(\"---\")\n",
    "# print(modified_date)\n",
    "\n",
    "results = []\n",
    "for i in range(0,len(date_reported)):\n",
    "    print(i)\n",
    "    result = [date_reported[i], general_location[i], date_occured_from[i], date_occurred_to[i], incident_offenses[i], disposition[i], modified_date[i]]\n",
    "    print(result)    \n",
    "    results.append(result)\n",
    "    print(\"======\")\n",
    "\n",
    "with open('umbc_test.csv','w') as output_file:\n",
    "    csvfile = csv.writer(output_file)\n",
    "    csvfile.writerow(['date_reported', 'general_location','date_occured_from', 'date_occurred_to', 'incident_offenses', \"disposition\", \"modified_date\"])\n",
    "    csvfile.writerows(results)\n",
    "    \n"
   ]
  },
  {
   "cell_type": "code",
   "execution_count": null,
   "id": "formal-architecture",
   "metadata": {},
   "outputs": [],
   "source": [
    "for i in range(0,len(date_reported)):\n",
    "    print(i)"
   ]
  },
  {
   "cell_type": "code",
   "execution_count": null,
   "id": "aware-grain",
   "metadata": {},
   "outputs": [],
   "source": [
    "print(page_text.replace(\"\\n\", \" \"))"
   ]
  },
  {
   "cell_type": "code",
   "execution_count": null,
   "id": "basic-synthesis",
   "metadata": {},
   "outputs": [],
   "source": []
  }
 ],
 "metadata": {
  "kernelspec": {
   "display_name": "Python 3 (ipykernel)",
   "language": "python",
   "name": "python3"
  },
  "language_info": {
   "codemirror_mode": {
    "name": "ipython",
    "version": 3
   },
   "file_extension": ".py",
   "mimetype": "text/x-python",
   "name": "python",
   "nbconvert_exporter": "python",
   "pygments_lexer": "ipython3",
   "version": "3.9.5"
  }
 },
 "nbformat": 4,
 "nbformat_minor": 5
}

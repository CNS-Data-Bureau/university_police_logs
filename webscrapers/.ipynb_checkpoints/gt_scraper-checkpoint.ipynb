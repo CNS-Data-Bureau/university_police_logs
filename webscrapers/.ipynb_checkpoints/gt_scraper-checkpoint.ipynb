{
 "cells": [
  {
   "cell_type": "markdown",
   "id": "improving-latex",
   "metadata": {},
   "source": [
    "# Libraries"
   ]
  },
  {
   "cell_type": "code",
   "execution_count": 1,
   "id": "simple-protection",
   "metadata": {},
   "outputs": [],
   "source": [
    "\n",
    "import selenium\n",
    "from selenium import webdriver\n",
    "from selenium.webdriver.chrome.options import Options\n",
    "from selenium.webdriver.support import expected_conditions as EC\n",
    "from selenium.webdriver.support.ui import WebDriverWait\n",
    "from selenium.webdriver.common.by import By\n",
    "import requests\n",
    "from bs4 import BeautifulSoup\n",
    "from selenium.webdriver.common.keys import Keys\n",
    "from datetime import datetime\n",
    "from datetime import timedelta\n",
    "from datetime import date\n",
    "import csv\n",
    "import pandas as pd\n",
    "import time\n",
    "import json\n",
    "import fnmatch\n",
    "import os"
   ]
  },
  {
   "cell_type": "markdown",
   "id": "shared-refund",
   "metadata": {},
   "source": [
    "# Variables and Functions"
   ]
  },
  {
   "cell_type": "code",
   "execution_count": 2,
   "id": "rolled-championship",
   "metadata": {},
   "outputs": [],
   "source": [
    "\n",
    "# Define Computer Path\n",
    "executable_path = \"C:/Users/nicho/Documents/Code/university_police_logs/webscrapers/chromedriver.exe\"\n",
    "download_path = f\"C:\\\\Users\\\\nicho\\\\Documents\\\\Code\\\\university_police_logs\\\\data\\\\handmade\\\\gt\\\\pdfs\\\\\"\n",
    "\n",
    "# URL\n",
    "url = \"https://drive.google.com/drive/folders/1_cyY2mnMWHgLqavDCyos9tzhAgzCNPhI\"\n",
    "\n",
    "# Define Routes\n",
    "download_all_field = '//*[@id=\"drive_main_page\"]/div/div[2]/div/div/div[2]/div/div[2]/div/div[1]'\n"
   ]
  },
  {
   "cell_type": "code",
   "execution_count": 3,
   "id": "loaded-browse",
   "metadata": {},
   "outputs": [],
   "source": [
    "def browser_instance(executable_path, headless, download_path):\n",
    "    \n",
    "    \n",
    "    chrome_options =  Options()\n",
    "    if headless:\n",
    "        chrome_options.add_argument(\"--headless\")   \n",
    "    chrome_options.add_experimental_option(\"prefs\", {\n",
    "            \"download.default_directory\": download_path})    \n",
    "    driver = webdriver.Chrome(executable_path=executable_path, options = chrome_options)\n",
    "    return driver    \n",
    "\n",
    "    \n",
    "    #"
   ]
  },
  {
   "cell_type": "markdown",
   "id": "generic-statement",
   "metadata": {},
   "source": [
    "# Scraping Script"
   ]
  },
  {
   "cell_type": "code",
   "execution_count": 15,
   "id": "first-sheep",
   "metadata": {},
   "outputs": [],
   "source": [
    "driver = browser_instance(executable_path, True, download_path)\n",
    "driver.get(url)\n",
    "button = WebDriverWait(driver, 10).until(EC.element_to_be_clickable((By.XPATH, download_all_field)))\n",
    "button.click()\n",
    "\n",
    "    "
   ]
  }
 ],
 "metadata": {
  "kernelspec": {
   "display_name": "Python 3",
   "language": "python",
   "name": "python3"
  },
  "language_info": {
   "codemirror_mode": {
    "name": "ipython",
    "version": 3
   },
   "file_extension": ".py",
   "mimetype": "text/x-python",
   "name": "python",
   "nbconvert_exporter": "python",
   "pygments_lexer": "ipython3",
   "version": "3.9.7"
  }
 },
 "nbformat": 4,
 "nbformat_minor": 5
}

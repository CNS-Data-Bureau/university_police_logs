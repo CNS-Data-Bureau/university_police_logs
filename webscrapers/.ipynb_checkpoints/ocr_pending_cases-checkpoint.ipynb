{
  "nbformat": 4,
  "nbformat_minor": 5,
  "metadata": {
    "kernelspec": {
      "display_name": "Python 3 (ipykernel)",
      "language": "python",
      "name": "python3"
    },
    "language_info": {
      "codemirror_mode": {
        "name": "ipython",
        "version": 3
      },
      "file_extension": ".py",
      "mimetype": "text/x-python",
      "name": "python",
      "nbconvert_exporter": "python",
      "pygments_lexer": "ipython3",
      "version": "3.9.5"
    },
    "colab": {
      "name": "ocr_pending_cases.ipynb",
      "provenance": [],
      "collapsed_sections": [],
      "toc_visible": true
    }
  },
  "cells": [
    {
      "cell_type": "markdown",
      "metadata": {
        "id": "3bf7c0e3-185e-4c49-9e84-7ba985739c51"
      },
      "source": [
        "# template_webscraping"
      ],
      "id": "3bf7c0e3-185e-4c49-9e84-7ba985739c51"
    },
    {
      "cell_type": "markdown",
      "metadata": {
        "id": "20bacc64-2bac-46c6-8225-84ebdab0dfb8"
      },
      "source": [
        "## Load Libraries"
      ],
      "id": "20bacc64-2bac-46c6-8225-84ebdab0dfb8"
    },
    {
      "cell_type": "code",
      "metadata": {
        "id": "5ee45525-9f63-4753-9535-be841e70e654"
      },
      "source": [
        "# Requests\n",
        "import requests\n",
        "# Other tools\n",
        "from bs4 import BeautifulSoup\n",
        "from datetime import date\n",
        "import csv\n",
        "import fnmatch\n",
        "import os\n"
      ],
      "id": "5ee45525-9f63-4753-9535-be841e70e654",
      "execution_count": 3,
      "outputs": []
    },
    {
      "cell_type": "markdown",
      "metadata": {
        "id": "6a5efadf-487e-45d3-8bcb-e5fffe865916"
      },
      "source": [
        "## Functions Using Requests"
      ],
      "id": "6a5efadf-487e-45d3-8bcb-e5fffe865916"
    },
    {
      "cell_type": "code",
      "metadata": {
        "id": "aa36d0eb-9db2-434a-9bb8-3c59b91dc89f"
      },
      "source": [
        "def requests_get_item(url):\n",
        "    headers = {\"User-Agent\": \"Mozilla/5.0 (Windows NT 10.0; Win64; x64) AppleWebKit/537.36 (KHTML, like Gecko) Chrome/70.0.3538.77 Safari/537.36\"}\n",
        "    page = requests.get(url, headers = headers)\n",
        "    soup = BeautifulSoup(page.text, 'html.parser')\n",
        "    return(soup)\n",
        "  "
      ],
      "id": "aa36d0eb-9db2-434a-9bb8-3c59b91dc89f",
      "execution_count": null,
      "outputs": []
    },
    {
      "cell_type": "markdown",
      "metadata": {
        "id": "575fb0f0-2469-4952-92f5-e5f3fc5d6294"
      },
      "source": [
        ""
      ],
      "id": "575fb0f0-2469-4952-92f5-e5f3fc5d6294"
    },
    {
      "cell_type": "code",
      "metadata": {
        "id": "sN9AVqhvC75H"
      },
      "source": [
        "results = []\n",
        "url = \"https://www2.ed.gov/about/offices/list/ocr/docs/investigations/open-investigations/tix.html?perPage=2000\"\n",
        "page = requests.get(url)\n",
        "if page.status_code == 200:\n",
        "    soup = BeautifulSoup(page.text, 'html.parser')\n",
        "    table = soup.find(id=\"oi-table\")\n",
        "    rows = table.find_all('tr')\n",
        "    for row in rows[1:]:\n",
        "      cells = row.find_all('td')\n",
        "      results.append([cell.text for cell in cells])\n",
        "\n",
        "with open('ocr_open_titleix.csv','w') as output_file:\n",
        "    csvfile = csv.writer(output_file)\n",
        "    csvfile.writerow(['state', 'school','school_type', 'discrimination_type', 'open_date'])\n",
        "    csvfile.writerows(results)\n"
      ],
      "id": "sN9AVqhvC75H",
      "execution_count": 15,
      "outputs": []
    }
  ]
}
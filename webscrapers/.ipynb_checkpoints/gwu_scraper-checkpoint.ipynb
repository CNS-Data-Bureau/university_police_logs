{
 "cells": [
  {
   "cell_type": "code",
   "execution_count": 2,
   "id": "continued-india",
   "metadata": {},
   "outputs": [],
   "source": [
    "# import libraries\n",
    "from pathlib import Path\n",
    "import pandas as pd\n",
    "import requests\n",
    "from bs4 import BeautifulSoup\n",
    "from selenium import webdriver\n",
    "from PyPDF2 import PdfFileReader\n",
    "from pdfreader import SimplePDFViewer\n",
    "from tabula.io import read_pdf\n",
    "import camelot\n",
    "import os\n",
    "import glob"
   ]
  },
  {
   "cell_type": "code",
   "execution_count": 3,
   "id": "frozen-funds",
   "metadata": {},
   "outputs": [],
   "source": [
    "# get the linnks we want\n",
    "url = \"https://safety.gwu.edu/daily-crime-and-fire-log\"\n",
    "page = requests.get(url)\n",
    "soup = BeautifulSoup(page.text, 'html.parser')\n",
    "# ls_id = soup.find(id=\"tab1631541161195_1\")\n",
    "# ls_rows \n",
    "\n",
    "item = soup.find_all('div', attrs={'class': 'tab-pane'})\n",
    "# print(len(item))\n",
    "# print(\"--------\")\n",
    "\n",
    "ls_lists = []\n",
    "bar = item[0].find_all('a')\n",
    "for link in bar:\n",
    "    link = (link[\"href\"])\n",
    "    ls_lists.append(link)"
   ]
  },
  {
   "cell_type": "code",
   "execution_count": 4,
   "id": "resident-province",
   "metadata": {},
   "outputs": [
    {
     "name": "stdout",
     "output_type": "stream",
     "text": [
      "['https://safety.gwu.edu/sites/g/files/zaxdzs2386/f/September%202021%20_3.pdf', 'https://safety.gwu.edu/sites/g/files/zaxdzs2386/f/August%202021%20_13.pdf', 'https://safety.gwu.edu/sites/g/files/zaxdzs2386/f/July%202021%20_11.pdf', 'https://safety.gwu.edu/sites/g/files/zaxdzs2386/f/June%202021%20_4.pdf', 'https://safety.gwu.edu/sites/g/files/zaxdzs2386/f/May%202021.pdf', 'https://safety.gwu.edu/sites/g/files/zaxdzs2386/f/April%202021_1.pdf', 'https://safety.gwu.edu/sites/g/files/zaxdzs2386/f/March%202021%20_13.pdf', 'https://safety.gwu.edu/sites/g/files/zaxdzs2386/f/February%202021%20_13.pdf', 'https://safety.gwu.edu/sites/g/files/zaxdzs2386/f/January%202021%20_2.pdf', 'https://safety.gwu.edu/sites/g/files/zaxdzs2386/f/December%202020.pdf', 'https://safety.gwu.edu/sites/g/files/zaxdzs2386/f/November%202020%20_12.pdf', 'https://safety.gwu.edu/sites/g/files/zaxdzs2386/f/October%202020_15.pdf']\n"
     ]
    }
   ],
   "source": [
    "print(ls_lists)"
   ]
  },
  {
   "cell_type": "code",
   "execution_count": 5,
   "id": "preliminary-bronze",
   "metadata": {},
   "outputs": [
    {
     "name": "stdout",
     "output_type": "stream",
     "text": [
      "https://safety.gwu.edu/sites/g/files/zaxdzs2386/f/September%202021%20_3.pdf\n",
      "https://safety.gwu.edu/sites/g/files/zaxdzs2386/f/August%202021%20_13.pdf\n",
      "https://safety.gwu.edu/sites/g/files/zaxdzs2386/f/July%202021%20_11.pdf\n",
      "https://safety.gwu.edu/sites/g/files/zaxdzs2386/f/June%202021%20_4.pdf\n",
      "https://safety.gwu.edu/sites/g/files/zaxdzs2386/f/May%202021.pdf\n",
      "https://safety.gwu.edu/sites/g/files/zaxdzs2386/f/April%202021_1.pdf\n",
      "https://safety.gwu.edu/sites/g/files/zaxdzs2386/f/March%202021%20_13.pdf\n",
      "https://safety.gwu.edu/sites/g/files/zaxdzs2386/f/February%202021%20_13.pdf\n",
      "https://safety.gwu.edu/sites/g/files/zaxdzs2386/f/January%202021%20_2.pdf\n",
      "https://safety.gwu.edu/sites/g/files/zaxdzs2386/f/December%202020.pdf\n",
      "https://safety.gwu.edu/sites/g/files/zaxdzs2386/f/November%202020%20_12.pdf\n",
      "https://safety.gwu.edu/sites/g/files/zaxdzs2386/f/October%202020_15.pdf\n"
     ]
    }
   ],
   "source": [
    "# my_string=\"https://safety.gwu.edu/sites/g/files/zaxdzs2386/f/September%202021%20_2.pdf\"\n",
    "\n",
    "for link in ls_lists:\n",
    "#     x = (i.split(\"https://safety.gwu.edu/sites/g/files/zaxdzs2386/f/\",1)[1])\n",
    "    print(link)\n",
    "# x = (my_string.split(\"https://safety.gwu.edu/sites/g/files/zaxdzs2386/f/\",1)[1])\n",
    "# # x = x.split(\"%20\",-1)[1]\n",
    "# print(x)"
   ]
  },
  {
   "cell_type": "code",
   "execution_count": 6,
   "id": "informed-customer",
   "metadata": {},
   "outputs": [
    {
     "name": "stdout",
     "output_type": "stream",
     "text": [
      "1\n",
      "2\n",
      "3\n",
      "4\n",
      "5\n",
      "6\n",
      "7\n",
      "8\n",
      "9\n",
      "10\n",
      "11\n",
      "12\n"
     ]
    }
   ],
   "source": [
    "# download pdfs\n",
    "\n",
    "counter = 0 \n",
    "for i in ls_lists:\n",
    "    counter = counter +1\n",
    "#     print(counter)\n",
    "    g = requests.get(i, stream=True)\n",
    "    with open(f'../data/handmade/gwu/pdfs/scraped_report_{counter}.pdf', 'wb') as sav:\n",
    "        for chunk in g.iter_content(chunk_size=1000000):\n",
    "            sav.write(chunk)"
   ]
  },
  {
   "cell_type": "code",
   "execution_count": 162,
   "id": "quick-south",
   "metadata": {},
   "outputs": [
    {
     "name": "stdout",
     "output_type": "stream",
     "text": [
      "Downloading file:  1\n",
      "File  1  downloaded\n",
      "Downloading file:  2\n",
      "File  2  downloaded\n",
      "Downloading file:  3\n",
      "File  3  downloaded\n",
      "Downloading file:  4\n",
      "File  4  downloaded\n",
      "Downloading file:  5\n",
      "File  5  downloaded\n",
      "Downloading file:  6\n",
      "File  6  downloaded\n",
      "Downloading file:  7\n",
      "File  7  downloaded\n",
      "Downloading file:  8\n",
      "File  8  downloaded\n",
      "Downloading file:  9\n",
      "File  9  downloaded\n",
      "Downloading file:  10\n",
      "File  10  downloaded\n",
      "Downloading file:  11\n",
      "File  11  downloaded\n",
      "Downloading file:  12\n",
      "File  12  downloaded\n",
      "All PDF files downloaded\n"
     ]
    }
   ],
   "source": []
  },
  {
   "cell_type": "code",
   "execution_count": 138,
   "id": "deluxe-ukraine",
   "metadata": {},
   "outputs": [
    {
     "ename": "FileNotFoundError",
     "evalue": "[Errno 2] No such file or directory: '../data/handmade/gwu/pdfs/'",
     "output_type": "error",
     "traceback": [
      "\u001b[0;31m---------------------------------------------------------------------------\u001b[0m",
      "\u001b[0;31mFileNotFoundError\u001b[0m                         Traceback (most recent call last)",
      "\u001b[0;32m<ipython-input-138-8034a773efd9>\u001b[0m in \u001b[0;36m<module>\u001b[0;34m\u001b[0m\n\u001b[1;32m      4\u001b[0m \u001b[0mdirectory_output\u001b[0m \u001b[0;34m=\u001b[0m \u001b[0;34mr'../data/handmade/gwu/csvs/'\u001b[0m\u001b[0;34m\u001b[0m\u001b[0;34m\u001b[0m\u001b[0m\n\u001b[1;32m      5\u001b[0m \u001b[0mcount\u001b[0m \u001b[0;34m=\u001b[0m \u001b[0;36m0\u001b[0m\u001b[0;34m\u001b[0m\u001b[0;34m\u001b[0m\u001b[0m\n\u001b[0;32m----> 6\u001b[0;31m \u001b[0;32mfor\u001b[0m \u001b[0mfile\u001b[0m \u001b[0;32min\u001b[0m \u001b[0mos\u001b[0m\u001b[0;34m.\u001b[0m\u001b[0mlistdir\u001b[0m\u001b[0;34m(\u001b[0m\u001b[0mdirectory\u001b[0m\u001b[0;34m)\u001b[0m\u001b[0;34m:\u001b[0m\u001b[0;34m\u001b[0m\u001b[0;34m\u001b[0m\u001b[0m\n\u001b[0m\u001b[1;32m      7\u001b[0m     \u001b[0;32mif\u001b[0m \u001b[0mfile\u001b[0m\u001b[0;34m.\u001b[0m\u001b[0mendswith\u001b[0m\u001b[0;34m(\u001b[0m\u001b[0;34m\".pdf\"\u001b[0m\u001b[0;34m)\u001b[0m\u001b[0;34m:\u001b[0m\u001b[0;34m\u001b[0m\u001b[0;34m\u001b[0m\u001b[0m\n\u001b[1;32m      8\u001b[0m         \u001b[0mcount\u001b[0m \u001b[0;34m=\u001b[0m \u001b[0mcount\u001b[0m \u001b[0;34m+\u001b[0m \u001b[0;36m1\u001b[0m\u001b[0;34m\u001b[0m\u001b[0;34m\u001b[0m\u001b[0m\n",
      "\u001b[0;31mFileNotFoundError\u001b[0m: [Errno 2] No such file or directory: '../data/handmade/gwu/pdfs/'"
     ]
    }
   ],
   "source": [
    "# now convert them to csvs\n",
    "\n",
    "directory = r'../data/handmade/gwu/pdfs/'\n",
    "directory_output = r'../data/handmade/gwu/csvs/'\n",
    "count = 0\n",
    "for file in os.listdir(directory):\n",
    "    if file.endswith(\".pdf\"):\n",
    "        count = count + 1\n",
    "#         print(count)\n",
    "#         print(file)\n",
    "        tabula.convert_into(f'{directory}{file}', f'{director}{count}.csv', output_format=\"csv\", pages='all')"
   ]
  },
  {
   "cell_type": "code",
   "execution_count": null,
   "id": "alert-variable",
   "metadata": {},
   "outputs": [],
   "source": [
    "# nw"
   ]
  }
 ],
 "metadata": {
  "kernelspec": {
   "display_name": "Python 3",
   "language": "python",
   "name": "python3"
  },
  "language_info": {
   "codemirror_mode": {
    "name": "ipython",
    "version": 3
   },
   "file_extension": ".py",
   "mimetype": "text/x-python",
   "name": "python",
   "nbconvert_exporter": "python",
   "pygments_lexer": "ipython3",
   "version": "3.9.6"
  }
 },
 "nbformat": 4,
 "nbformat_minor": 5
}

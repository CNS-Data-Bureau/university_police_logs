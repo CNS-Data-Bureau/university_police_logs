{
 "cells": [
  {
   "cell_type": "markdown",
   "id": "foreign-antibody",
   "metadata": {},
   "source": [
    "# GMU Scraper"
   ]
  },
  {
   "cell_type": "code",
   "execution_count": null,
   "id": "packed-fortune",
   "metadata": {},
   "outputs": [],
   "source": [
    "## Load Libraries"
   ]
  },
  {
   "cell_type": "code",
   "execution_count": 1,
   "id": "dimensional-inquiry",
   "metadata": {},
   "outputs": [],
   "source": [
    "# Selenium\n",
    "import selenium\n",
    "from selenium import webdriver\n",
    "from selenium.webdriver.chrome.options import Options\n",
    "from selenium.webdriver.support import expected_conditions as EC\n",
    "from selenium.webdriver.support.ui import WebDriverWait\n",
    "from selenium.webdriver.common.by import By\n",
    "from selenium.webdriver.common.keys import Keys\n",
    "# Reqeusts\n",
    "import requests\n",
    "# Other tools\n",
    "from bs4 import BeautifulSoup\n",
    "from datetime import datetime\n",
    "from datetime import timedelta\n",
    "from datetime import date\n",
    "import csv\n",
    "import pandas as pd\n",
    "import time\n",
    "import json\n",
    "import fnmatch\n",
    "import os\n",
    "import tabula\n",
    "from tabula.io import read_pdf"
   ]
  },
  {
   "cell_type": "markdown",
   "id": "general-struggle",
   "metadata": {},
   "source": [
    "## Functions"
   ]
  },
  {
   "cell_type": "code",
   "execution_count": 2,
   "id": "signal-sword",
   "metadata": {},
   "outputs": [],
   "source": [
    "def requests_get_item(url, item):\n",
    "    headers = {\"User-Agent\": \"Mozilla/5.0 (Windows NT 10.0; Win64; x64) AppleWebKit/537.36 (KHTML, like Gecko) Chrome/70.0.3538.77 Safari/537.36\"}\n",
    "    if item == \"html\":       \n",
    "        page = requests.get(url, headers = headers)\n",
    "        soup = BeautifulSoup(page.text, 'html.parser')\n",
    "        return(soup)\n",
    "    \n",
    "    elif item == \"pdf\":\n",
    "        page = requests.get(url, headers = headers, stream=True)\n",
    "        return(page)\n",
    "    else:\n",
    "        print(\"Valid Item Not Selected\")\n",
    "\n",
    "def download_pdfs(ls_pdf_urls, download_path, file_name):\n",
    "    counter = 0 \n",
    "    for pdf_url in ls_pdf_urls:\n",
    "        counter = counter +1\n",
    "        g = requests_get_item(pdf_url, \"pdf\")\n",
    "        with open(f'{download_path}{file_name}_{counter}.pdf', 'wb') as sav:\n",
    "            for chunk in g.iter_content(chunk_size=1000000):\n",
    "                sav.write(chunk)\n",
    "        print(f\"download number: {counter}\")\n",
    "                \n",
    "                \n",
    "def convert_pdf_to_csv(pdf_directory, csv_directory):\n",
    "    directory = fr'{pdf_directory}'\n",
    "    directory_output = fr'{csv_directory}'\n",
    "    count = 0\n",
    "    for file in os.listdir(directory):\n",
    "        print(f'{directory}{file}')\n",
    "        if file.endswith(\".pdf\"):\n",
    "            count = count + 1 \n",
    "            tabula.convert_into(f'{directory}{file}', f'{directory_output}{count}.csv', output_format=\"csv\", pages='all', lattice = True)\n",
    "        "
   ]
  },
  {
   "cell_type": "code",
   "execution_count": 3,
   "id": "swiss-paraguay",
   "metadata": {},
   "outputs": [],
   "source": [
    "# Scraping Script"
   ]
  },
  {
   "cell_type": "code",
   "execution_count": 4,
   "id": "aerial-spirit",
   "metadata": {},
   "outputs": [],
   "source": [
    "url = \"https://police.gmu.edu/central-records/crime-log-test/\"\n",
    "\n",
    "def scrape_gmu(url):\n",
    "    # Load html\n",
    "    soup = requests_get_item(url, \"html\")\n",
    "    \n",
    "    # Isolate part of page where links are\n",
    "    middle_page = soup.find(\"div\", {\"id\": \"content-right\"})\n",
    "    urls = middle_page.find_all(\"a\")\n",
    "    \n",
    "    # Append only .pdf links to array\n",
    "    ls_pdf_links = []\n",
    "    for url in urls:\n",
    "        if (\".pdf\" in url.get('href', [])):\n",
    "            ls_pdf_links.append(url[\"href\"])\n",
    "        \n",
    "    # Download pdfs from array\n",
    "    download_pdfs(ls_pdf_links, \"../data/handmade/gmu/pdfs2/\", \"gmu_scraped\")\n",
    "    \n",
    "    # Convert downloaded pdfs to csvs\n",
    "    convert_pdf_to_csv(\"../data/handmade/gmu/pdfs2/\", \"../data/handmade/gmu/csvs2/\")\n",
    "    \n",
    "  "
   ]
  },
  {
   "cell_type": "code",
   "execution_count": 5,
   "id": "engaged-islam",
   "metadata": {},
   "outputs": [
    {
     "name": "stdout",
     "output_type": "stream",
     "text": [
      "download number: 1\n",
      "download number: 2\n",
      "download number: 3\n",
      "download number: 4\n",
      "download number: 5\n",
      "download number: 6\n",
      "download number: 7\n",
      "download number: 8\n",
      "download number: 9\n",
      "download number: 10\n",
      "download number: 11\n",
      "download number: 12\n",
      "download number: 13\n",
      "download number: 14\n",
      "download number: 15\n",
      "download number: 16\n",
      "download number: 17\n",
      "download number: 18\n",
      "download number: 19\n",
      "../data/handmade/gmu/pdfs2/gmu_scraped_9.pdf\n",
      "../data/handmade/gmu/pdfs2/gmu_scraped_8.pdf\n",
      "../data/handmade/gmu/pdfs2/gmu_scraped_16.pdf\n",
      "../data/handmade/gmu/pdfs2/gmu_scraped_17.pdf\n",
      "../data/handmade/gmu/pdfs2/gmu_scraped_15.pdf\n",
      "../data/handmade/gmu/pdfs2/gmu_scraped_14.pdf\n",
      "../data/handmade/gmu/pdfs2/gmu_scraped_10.pdf\n",
      "../data/handmade/gmu/pdfs2/gmu_scraped_11.pdf\n",
      "../data/handmade/gmu/pdfs2/gmu_scraped_13.pdf\n",
      "../data/handmade/gmu/pdfs2/gmu_scraped_12.pdf\n",
      "../data/handmade/gmu/pdfs2/gmu_scraped_19.pdf\n",
      "../data/handmade/gmu/pdfs2/gmu_scraped_18.pdf\n",
      "../data/handmade/gmu/pdfs2/gmu_scraped_6.pdf\n",
      "../data/handmade/gmu/pdfs2/gmu_scraped_7.pdf\n",
      "../data/handmade/gmu/pdfs2/gmu_scraped_5.pdf\n",
      "../data/handmade/gmu/pdfs2/gmu_scraped_4.pdf\n",
      "../data/handmade/gmu/pdfs2/gmu_scraped_1.pdf\n",
      "../data/handmade/gmu/pdfs2/gmu_scraped_3.pdf\n",
      "../data/handmade/gmu/pdfs2/gmu_scraped_2.pdf\n"
     ]
    }
   ],
   "source": [
    "scrape_gmu(url)  "
   ]
  },
  {
   "cell_type": "code",
   "execution_count": null,
   "id": "judicial-insider",
   "metadata": {},
   "outputs": [],
   "source": []
  }
 ],
 "metadata": {
  "kernelspec": {
   "display_name": "Python 3",
   "language": "python",
   "name": "python3"
  },
  "language_info": {
   "codemirror_mode": {
    "name": "ipython",
    "version": 3
   },
   "file_extension": ".py",
   "mimetype": "text/x-python",
   "name": "python",
   "nbconvert_exporter": "python",
   "pygments_lexer": "ipython3",
   "version": "3.9.7"
  }
 },
 "nbformat": 4,
 "nbformat_minor": 5
}

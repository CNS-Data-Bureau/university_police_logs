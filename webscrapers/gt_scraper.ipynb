{
 "cells": [
  {
   "cell_type": "markdown",
   "id": "sixth-surgeon",
   "metadata": {},
   "source": [
    "# Libraries"
   ]
  },
  {
   "cell_type": "code",
   "execution_count": 1,
   "id": "artificial-transportation",
   "metadata": {},
   "outputs": [],
   "source": [
    "\n",
    "import selenium\n",
    "from selenium import webdriver\n",
    "from selenium.webdriver.chrome.options import Options\n",
    "from selenium.webdriver.support import expected_conditions as EC\n",
    "from selenium.webdriver.support.ui import WebDriverWait\n",
    "from selenium.webdriver.common.by import By\n",
    "import requests\n",
    "from bs4 import BeautifulSoup\n",
    "from selenium.webdriver.common.keys import Keys\n",
    "from datetime import datetime\n",
    "from datetime import timedelta\n",
    "from datetime import date\n",
    "import csv\n",
    "import pandas as pd\n",
    "import time\n",
    "import json\n",
    "import fnmatch\n",
    "import os\n",
    "import zipfile\n",
    "import tabula"
   ]
  },
  {
   "cell_type": "markdown",
   "id": "objective-attack",
   "metadata": {},
   "source": [
    "# Variables and Functions"
   ]
  },
  {
   "cell_type": "code",
   "execution_count": 5,
   "id": "superior-tamil",
   "metadata": {},
   "outputs": [],
   "source": [
    "\n",
    "# Define Computer Path\n",
    "executable_path = \"nick_chromedriver\"\n",
    "download_path = r\"..\\data\\handmade\\gt\\pdfs\"\n",
    "\n",
    "# URL\n",
    "url = \"https://drive.google.com/drive/folders/1_cyY2mnMWHgLqavDCyos9tzhAgzCNPhI\"\n",
    "\n",
    "# Define Routes\n",
    "download_all_field = '//*[@id=\"drive_main_page\"]/div/div[2]/div/div/div[2]/div/div[2]/div/div[1]'\n"
   ]
  },
  {
   "cell_type": "code",
   "execution_count": 10,
   "id": "residential-token",
   "metadata": {},
   "outputs": [],
   "source": [
    "def browser_instance(executable_path, headless, download_path):\n",
    "    \n",
    "    \n",
    "    chrome_options =  Options()\n",
    "    if headless:\n",
    "        chrome_options.add_argument(\"--headless\")   \n",
    "    chrome_options.add_experimental_option(\"prefs\", {\n",
    "            \"download.default_directory\": download_path})    \n",
    "    driver = webdriver.Chrome(executable_path=executable_path, options = chrome_options)\n",
    "    return driver    \n",
    "    \n",
    "    \n",
    "    \n",
    "def convert_pdf_to_csv(pdf_directory, csv_directory):\n",
    "    directory = fr'{pdf_directory}'\n",
    "    directory_output = fr'{csv_directory}'\n",
    "    count = 0\n",
    "    for file in os.listdir(directory):        \n",
    "        if file.endswith(\".pdf\"):\n",
    "            count = count + 1 \n",
    "            print(f'{directory}{file}: Conversion {count}')\n",
    "            tabula.convert_into(f'{directory}{file}', f'{directory_output}{file}.csv', output_format=\"csv\", pages='all', lattice = True)"
   ]
  },
  {
   "cell_type": "markdown",
   "id": "vocal-receptor",
   "metadata": {},
   "source": [
    "# Scraping Script"
   ]
  },
  {
   "cell_type": "code",
   "execution_count": 23,
   "id": "interracial-evanescence",
   "metadata": {},
   "outputs": [],
   "source": [
    "driver = browser_instance(executable_path, False, download_path)\n",
    "driver.get(url)\n",
    "button = WebDriverWait(driver, 10).until(EC.element_to_be_clickable((By.XPATH, download_all_field)))\n",
    "button.click()\n",
    "\n",
    "    "
   ]
  },
  {
   "cell_type": "code",
   "execution_count": 7,
   "id": "israeli-orange",
   "metadata": {},
   "outputs": [],
   "source": [
    "# Extracting\n",
    "\n",
    "var_name = \"Archives-20210930T145008Z-001.zip\"\n",
    "\n",
    "with zipfile.ZipFile(f\"{download_path}/{var_name}\",\"r\") as zip_ref:\n",
    "    zip_ref.extractall(f\"{download_path}/pdfs2\")"
   ]
  },
  {
   "cell_type": "code",
   "execution_count": 14,
   "id": "imported-practitioner",
   "metadata": {},
   "outputs": [
    {
     "ename": "FileNotFoundError",
     "evalue": "[Errno 2] No such file or directory: 'Archives-20210915T201532Z-001.zip'",
     "output_type": "error",
     "traceback": [
      "\u001b[1;31m---------------------------------------------------------------------------\u001b[0m",
      "\u001b[1;31mFileNotFoundError\u001b[0m                         Traceback (most recent call last)",
      "\u001b[1;32m~\\AppData\\Local\\Temp/ipykernel_27076/930885821.py\u001b[0m in \u001b[0;36m<module>\u001b[1;34m\u001b[0m\n\u001b[0;32m      5\u001b[0m \u001b[1;31m#         print(count)\u001b[0m\u001b[1;33m\u001b[0m\u001b[1;33m\u001b[0m\u001b[1;33m\u001b[0m\u001b[0m\n\u001b[0;32m      6\u001b[0m \u001b[1;31m#         print(file)\u001b[0m\u001b[1;33m\u001b[0m\u001b[1;33m\u001b[0m\u001b[1;33m\u001b[0m\u001b[0m\n\u001b[1;32m----> 7\u001b[1;33m         \u001b[1;32mwith\u001b[0m \u001b[0mzipfile\u001b[0m\u001b[1;33m.\u001b[0m\u001b[0mZipFile\u001b[0m\u001b[1;33m(\u001b[0m\u001b[0mfile\u001b[0m\u001b[1;33m,\u001b[0m\u001b[1;34m\"r\"\u001b[0m\u001b[1;33m)\u001b[0m \u001b[1;32mas\u001b[0m \u001b[0mzip_ref\u001b[0m\u001b[1;33m:\u001b[0m\u001b[1;33m\u001b[0m\u001b[1;33m\u001b[0m\u001b[0m\n\u001b[0m\u001b[0;32m      8\u001b[0m             \u001b[0mzip_ref\u001b[0m\u001b[1;33m.\u001b[0m\u001b[0mextractall\u001b[0m\u001b[1;33m(\u001b[0m\u001b[1;34mf\"{download_path}/pdfs\"\u001b[0m\u001b[1;33m)\u001b[0m\u001b[1;33m\u001b[0m\u001b[1;33m\u001b[0m\u001b[0m\n\u001b[0;32m      9\u001b[0m \u001b[1;33m\u001b[0m\u001b[0m\n",
      "\u001b[1;32mC:\\Python39\\lib\\zipfile.py\u001b[0m in \u001b[0;36m__init__\u001b[1;34m(self, file, mode, compression, allowZip64, compresslevel, strict_timestamps)\u001b[0m\n\u001b[0;32m   1237\u001b[0m             \u001b[1;32mwhile\u001b[0m \u001b[1;32mTrue\u001b[0m\u001b[1;33m:\u001b[0m\u001b[1;33m\u001b[0m\u001b[1;33m\u001b[0m\u001b[0m\n\u001b[0;32m   1238\u001b[0m                 \u001b[1;32mtry\u001b[0m\u001b[1;33m:\u001b[0m\u001b[1;33m\u001b[0m\u001b[1;33m\u001b[0m\u001b[0m\n\u001b[1;32m-> 1239\u001b[1;33m                     \u001b[0mself\u001b[0m\u001b[1;33m.\u001b[0m\u001b[0mfp\u001b[0m \u001b[1;33m=\u001b[0m \u001b[0mio\u001b[0m\u001b[1;33m.\u001b[0m\u001b[0mopen\u001b[0m\u001b[1;33m(\u001b[0m\u001b[0mfile\u001b[0m\u001b[1;33m,\u001b[0m \u001b[0mfilemode\u001b[0m\u001b[1;33m)\u001b[0m\u001b[1;33m\u001b[0m\u001b[1;33m\u001b[0m\u001b[0m\n\u001b[0m\u001b[0;32m   1240\u001b[0m                 \u001b[1;32mexcept\u001b[0m \u001b[0mOSError\u001b[0m\u001b[1;33m:\u001b[0m\u001b[1;33m\u001b[0m\u001b[1;33m\u001b[0m\u001b[0m\n\u001b[0;32m   1241\u001b[0m                     \u001b[1;32mif\u001b[0m \u001b[0mfilemode\u001b[0m \u001b[1;32min\u001b[0m \u001b[0mmodeDict\u001b[0m\u001b[1;33m:\u001b[0m\u001b[1;33m\u001b[0m\u001b[1;33m\u001b[0m\u001b[0m\n",
      "\u001b[1;31mFileNotFoundError\u001b[0m: [Errno 2] No such file or directory: 'Archives-20210915T201532Z-001.zip'"
     ]
    }
   ],
   "source": [
    "\n",
    "\n",
    "count = 0\n",
    "for file in os.listdir(download_path):\n",
    "    if file.endswith(\".zip\"):\n",
    "        count = count + 1\n",
    "#         print(count)\n",
    "#         print(file)\n",
    "        with zipfile.ZipFile(file,\"r\") as zip_ref:\n",
    "            zip_ref.extractall(f\"{download_path}/pdfs\")\n",
    "\n",
    "#         os.rename(file, f\"{count}.zip\")\n"
   ]
  },
  {
   "cell_type": "code",
   "execution_count": null,
   "id": "white-ground",
   "metadata": {},
   "outputs": [],
   "source": [
    "## Converting to csv"
   ]
  },
  {
   "cell_type": "code",
   "execution_count": 25,
   "id": "ideal-pharmacology",
   "metadata": {},
   "outputs": [
    {
     "name": "stdout",
     "output_type": "stream",
     "text": [
      "['2016', '2017', '2018', '2019', '2020', '2021', 'Current Month Crime Log']\n"
     ]
    }
   ],
   "source": [
    "print(os.listdir(\"../data/handmade/gt/pdfs/pdfs/Archives\"))"
   ]
  },
  {
   "cell_type": "code",
   "execution_count": 11,
   "id": "contemporary-therapist",
   "metadata": {},
   "outputs": [
    {
     "name": "stdout",
     "output_type": "stream",
     "text": [
      "../data/handmade/gt/pdfs/pdfs/Archives/2016/2016-01 Crime Log.pdf: Conversion 1\n",
      "../data/handmade/gt/pdfs/pdfs/Archives/2016/2016-02 Crime Log.pdf: Conversion 2\n",
      "../data/handmade/gt/pdfs/pdfs/Archives/2016/2016-03 Crime Log.pdf: Conversion 3\n",
      "../data/handmade/gt/pdfs/pdfs/Archives/2016/2016-04 Crime Log.pdf: Conversion 4\n",
      "../data/handmade/gt/pdfs/pdfs/Archives/2016/2016-05 Crime Log.pdf: Conversion 5\n",
      "../data/handmade/gt/pdfs/pdfs/Archives/2016/2016-06 Crime Log.pdf: Conversion 6\n",
      "../data/handmade/gt/pdfs/pdfs/Archives/2016/2016-07 Crime Log.pdf: Conversion 7\n",
      "../data/handmade/gt/pdfs/pdfs/Archives/2016/2016-08 Crime Log.pdf: Conversion 8\n",
      "../data/handmade/gt/pdfs/pdfs/Archives/2016/2016-09 Crime Log.pdf: Conversion 9\n",
      "../data/handmade/gt/pdfs/pdfs/Archives/2016/2016-10 Crime Log.pdf: Conversion 10\n",
      "../data/handmade/gt/pdfs/pdfs/Archives/2016/2016-11 Crime Log.pdf: Conversion 11\n",
      "../data/handmade/gt/pdfs/pdfs/Archives/2016/2016-12 Crime Log(1).pdf: Conversion 12\n",
      "2016\n",
      "../data/handmade/gt/pdfs/pdfs/Archives/2017/April 2017.pdf: Conversion 1\n",
      "../data/handmade/gt/pdfs/pdfs/Archives/2017/August 2017.pdf: Conversion 2\n",
      "../data/handmade/gt/pdfs/pdfs/Archives/2017/DECEMBER 2017.pdf: Conversion 3\n",
      "../data/handmade/gt/pdfs/pdfs/Archives/2017/February 2017.pdf: Conversion 4\n",
      "../data/handmade/gt/pdfs/pdfs/Archives/2017/January 2017.pdf: Conversion 5\n",
      "../data/handmade/gt/pdfs/pdfs/Archives/2017/July 2017.pdf: Conversion 6\n",
      "../data/handmade/gt/pdfs/pdfs/Archives/2017/June 2017.pdf: Conversion 7\n",
      "../data/handmade/gt/pdfs/pdfs/Archives/2017/March 2017.pdf: Conversion 8\n",
      "../data/handmade/gt/pdfs/pdfs/Archives/2017/May 2017.pdf: Conversion 9\n",
      "../data/handmade/gt/pdfs/pdfs/Archives/2017/November 2017.pdf: Conversion 10\n",
      "../data/handmade/gt/pdfs/pdfs/Archives/2017/October 2017.pdf: Conversion 11\n",
      "../data/handmade/gt/pdfs/pdfs/Archives/2017/September 2017.pdf: Conversion 12\n",
      "2017\n",
      "../data/handmade/gt/pdfs/pdfs/Archives/2018/April 2018.pdf: Conversion 1\n",
      "../data/handmade/gt/pdfs/pdfs/Archives/2018/August 2018.pdf: Conversion 2\n",
      "../data/handmade/gt/pdfs/pdfs/Archives/2018/DECEMBER 2018.pdf: Conversion 3\n",
      "../data/handmade/gt/pdfs/pdfs/Archives/2018/February 2018.pdf: Conversion 4\n",
      "../data/handmade/gt/pdfs/pdfs/Archives/2018/January 2018.pdf: Conversion 5\n",
      "../data/handmade/gt/pdfs/pdfs/Archives/2018/July 2018.pdf: Conversion 6\n",
      "../data/handmade/gt/pdfs/pdfs/Archives/2018/June 2018.pdf: Conversion 7\n",
      "../data/handmade/gt/pdfs/pdfs/Archives/2018/March 2018.pdf: Conversion 8\n",
      "../data/handmade/gt/pdfs/pdfs/Archives/2018/May Crime Log.pdf: Conversion 9\n",
      "../data/handmade/gt/pdfs/pdfs/Archives/2018/NOVEMBER FINAL.pdf: Conversion 10\n",
      "../data/handmade/gt/pdfs/pdfs/Archives/2018/October 2018.pdf: Conversion 11\n",
      "../data/handmade/gt/pdfs/pdfs/Archives/2018/September 2018.pdf: Conversion 12\n",
      "2018\n",
      "../data/handmade/gt/pdfs/pdfs/Archives/2019/April 2019 Crime Log FINAL.pdf: Conversion 1\n",
      "../data/handmade/gt/pdfs/pdfs/Archives/2019/August 2019.pdf: Conversion 2\n",
      "../data/handmade/gt/pdfs/pdfs/Archives/2019/DECEMBER FINAL.pdf: Conversion 3\n",
      "../data/handmade/gt/pdfs/pdfs/Archives/2019/February 2019.pdf: Conversion 4\n",
      "../data/handmade/gt/pdfs/pdfs/Archives/2019/JANUARY 2019 FINAL.pdf: Conversion 5\n",
      "../data/handmade/gt/pdfs/pdfs/Archives/2019/July 2019 Crime Log FINAL.pdf: Conversion 6\n",
      "../data/handmade/gt/pdfs/pdfs/Archives/2019/June 2019.pdf: Conversion 7\n",
      "../data/handmade/gt/pdfs/pdfs/Archives/2019/March 2019.pdf: Conversion 8\n",
      "../data/handmade/gt/pdfs/pdfs/Archives/2019/May 2019.pdf: Conversion 9\n",
      "../data/handmade/gt/pdfs/pdfs/Archives/2019/November 2019 Crime Log FINAL.pdf: Conversion 10\n",
      "../data/handmade/gt/pdfs/pdfs/Archives/2019/October 2019.pdf: Conversion 11\n",
      "../data/handmade/gt/pdfs/pdfs/Archives/2019/September 2019.pdf: Conversion 12\n",
      "2019\n",
      "../data/handmade/gt/pdfs/pdfs/Archives/2020/April 2020 Crime Log FINAL.pdf: Conversion 1\n",
      "../data/handmade/gt/pdfs/pdfs/Archives/2020/August Crime Log 2020 FINAL.pdf: Conversion 2\n",
      "../data/handmade/gt/pdfs/pdfs/Archives/2020/December Crime Log 2020 FINAL.pdf: Conversion 3\n",
      "../data/handmade/gt/pdfs/pdfs/Archives/2020/February 2020 Crime Log FINAL.pdf: Conversion 4\n",
      "../data/handmade/gt/pdfs/pdfs/Archives/2020/January 2020 Crime Log FINAL.pdf: Conversion 5\n",
      "../data/handmade/gt/pdfs/pdfs/Archives/2020/July 2020 Crime Log FINAL.pdf: Conversion 6\n",
      "../data/handmade/gt/pdfs/pdfs/Archives/2020/June Crime Log 2020 FINAL.pdf: Conversion 7\n",
      "../data/handmade/gt/pdfs/pdfs/Archives/2020/March 2020 Crime Log FINAL.pdf: Conversion 8\n",
      "../data/handmade/gt/pdfs/pdfs/Archives/2020/May 2020 Crime Log FINAL.pdf: Conversion 9\n",
      "../data/handmade/gt/pdfs/pdfs/Archives/2020/November Crime Log 2020 FINAL.pdf: Conversion 10\n",
      "../data/handmade/gt/pdfs/pdfs/Archives/2020/October Crime Log 2020 FINAL.pdf: Conversion 11\n",
      "../data/handmade/gt/pdfs/pdfs/Archives/2020/September Crime Log.pdf: Conversion 12\n",
      "2020\n",
      "../data/handmade/gt/pdfs/pdfs/Archives/2021/April 2021 FINAL.pdf: Conversion 1\n",
      "../data/handmade/gt/pdfs/pdfs/Archives/2021/August 2021 Crime Log.pdf: Conversion 2\n",
      "../data/handmade/gt/pdfs/pdfs/Archives/2021/February 2021 FINAL.pdf: Conversion 3\n",
      "../data/handmade/gt/pdfs/pdfs/Archives/2021/January 2021 FINAL.pdf: Conversion 4\n",
      "../data/handmade/gt/pdfs/pdfs/Archives/2021/July 2021 Crime Log.pdf: Conversion 5\n",
      "../data/handmade/gt/pdfs/pdfs/Archives/2021/June 2021 FINAL.pdf: Conversion 6\n",
      "../data/handmade/gt/pdfs/pdfs/Archives/2021/March 2021 FINAL.pdf: Conversion 7\n",
      "../data/handmade/gt/pdfs/pdfs/Archives/2021/May 2021 FINAL.pdf: Conversion 8\n",
      "../data/handmade/gt/pdfs/pdfs/Archives/2021/September 2021 Crime Log.pdf: Conversion 9\n",
      "2021\n",
      "../data/handmade/gt/pdfs/pdfs/Archives/Current Month Crime Log/September 2021 Crime Log.pdf: Conversion 1\n",
      "Current Month Crime Log\n"
     ]
    }
   ],
   "source": [
    "folders = os.listdir(\"../data/handmade/gt/pdfs/pdfs2/Archives\")\n",
    "\n",
    "for folder in folders:\n",
    "    convert_pdf_to_csv(f\"../data/handmade/gt/pdfs/pdfs/Archives/{folder}/\", \"../data/handmade/gt/csv3/\")\n",
    "    print(folder)\n",
    "        "
   ]
  },
  {
   "cell_type": "code",
   "execution_count": null,
   "id": "lyric-intersection",
   "metadata": {},
   "outputs": [],
   "source": []
  }
 ],
 "metadata": {
  "kernelspec": {
   "display_name": "Python 3",
   "language": "python",
   "name": "python3"
  },
  "language_info": {
   "codemirror_mode": {
    "name": "ipython",
    "version": 3
   },
   "file_extension": ".py",
   "mimetype": "text/x-python",
   "name": "python",
   "nbconvert_exporter": "python",
   "pygments_lexer": "ipython3",
   "version": "3.9.7"
  }
 },
 "nbformat": 4,
 "nbformat_minor": 5
}

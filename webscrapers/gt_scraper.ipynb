{
 "cells": [
  {
   "cell_type": "code",
   "execution_count": 12,
   "id": "7635ec5d-2aa9-48c2-8597-def095ab4311",
   "metadata": {},
   "outputs": [],
   "source": [
    "\n",
    "import selenium\n",
    "from selenium import webdriver\n",
    "from selenium.webdriver.chrome.options import Options\n",
    "from selenium.webdriver.support import expected_conditions as EC\n",
    "from selenium.webdriver.support.ui import WebDriverWait\n",
    "from selenium.webdriver.common.by import By\n",
    "import requests\n",
    "from bs4 import BeautifulSoup\n",
    "from selenium.webdriver.common.keys import Keys\n",
    "from datetime import datetime\n",
    "from datetime import timedelta\n",
    "from datetime import date\n",
    "import csv\n",
    "import pandas as pd\n",
    "import time\n",
    "import json\n",
    "import fnmatch\n",
    "import os"
   ]
  },
  {
   "cell_type": "code",
   "execution_count": null,
   "id": "056a181b-4775-487d-a77a-1d6df00d63eb",
   "metadata": {},
   "outputs": [],
   "source": [
    "\n"
   ]
  },
  {
   "cell_type": "code",
   "execution_count": 13,
   "id": "6226bf6d-91ef-4a67-b69a-b0809856ec9e",
   "metadata": {},
   "outputs": [],
   "source": [
    "\n",
    "# Define Computer Paths\n",
    "executable_path = \"C:/Users/nicho/Documents/Code/university_police_logs/webscrapers/chromedriver.exe\"\n",
    "download_path = f\"C:\\\\Users\\\\nicho\\\\Documents\\\\Code\\\\university_police_logs\\\\data\\\\handmade\\\\gt\\\\pdfs\\\\\"\n",
    "\n",
    "\n",
    "\n",
    "\n",
    "# URL\n",
    "url = \"https://drive.google.com/drive/folders/1_cyY2mnMWHgLqavDCyos9tzhAgzCNPhI\"\n",
    "\n",
    "# Define Routes\n",
    "\n",
    "download_all_field = '//*[@id=\"drive_main_page\"]/div/div[2]/div/div/div[2]/div/div[2]/div/div[1]'\n"
   ]
  },
  {
   "cell_type": "code",
   "execution_count": 14,
   "id": "92231412-2319-494c-aee7-ae6465c4eb49",
   "metadata": {},
   "outputs": [],
   "source": [
    "def create_download_path(wd, current_title, historical_title, victim_name, issue_date = False):\n",
    "    if issue_date == False:\n",
    "        final_download = f'{download_path }\\\\{current_title}\\\\{victim_name}\\\\{historical_title}'\n",
    "    else:\n",
    "        final_download = f'{download_path }\\\\{current_title}\\\\{victim_name}\\\\{historical_title}\\\\{issue_date}'\n",
    "    return(final_download)\n",
    "    \n",
    "\n",
    "\n",
    "def browser_instance(executable_path, headless, download_path):\n",
    "    \n",
    "    \n",
    "    chrome_options =  Options()\n",
    "    if headless:\n",
    "        chrome_options.add_argument(\"--headless\")   \n",
    "    chrome_options.add_experimental_option(\"prefs\", {\n",
    "            \"download.default_directory\": download_path})    \n",
    "    driver = webdriver.Chrome(executable_path=executable_path, options = chrome_options)\n",
    "    return driver    \n",
    "\n",
    "    \n",
    "    #"
   ]
  },
  {
   "cell_type": "code",
   "execution_count": 15,
   "id": "43cdbd64-a33f-420f-8848-1d221f8594d2",
   "metadata": {},
   "outputs": [],
   "source": [
    "driver = browser_instance(executable_path, False, download_path)\n",
    "driver.get(url)\n",
    "#download_all_button = driver.find_element_by_xpath(download_all_field)\n",
    "#download_all_button.click()\n",
    "    "
   ]
  },
  {
   "cell_type": "code",
   "execution_count": 16,
   "id": "cfcaa813-6b6e-4299-a237-833513b5d2ef",
   "metadata": {},
   "outputs": [],
   "source": [
    "button = WebDriverWait(driver, 10).until(EC.element_to_be_clickable((By.XPATH, download_all_field)))\n",
    "button.click()"
   ]
  },
  {
   "cell_type": "code",
   "execution_count": null,
   "id": "e0bea874-ccfa-449f-9d6b-9e3090cded92",
   "metadata": {},
   "outputs": [],
   "source": []
  }
 ],
 "metadata": {
  "kernelspec": {
   "display_name": "Python 3 (ipykernel)",
   "language": "python",
   "name": "python3"
  },
  "language_info": {
   "codemirror_mode": {
    "name": "ipython",
    "version": 3
   },
   "file_extension": ".py",
   "mimetype": "text/x-python",
   "name": "python",
   "nbconvert_exporter": "python",
   "pygments_lexer": "ipython3",
   "version": "3.9.5"
  }
 },
 "nbformat": 4,
 "nbformat_minor": 5
}

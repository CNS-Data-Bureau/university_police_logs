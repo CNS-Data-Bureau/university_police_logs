{
 "cells": [
  {
   "cell_type": "markdown",
   "id": "genetic-catalyst",
   "metadata": {
    "id": "3bf7c0e3-185e-4c49-9e84-7ba985739c51"
   },
   "source": [
    "# template_webscraping"
   ]
  },
  {
   "cell_type": "markdown",
   "id": "utility-professor",
   "metadata": {
    "id": "20bacc64-2bac-46c6-8225-84ebdab0dfb8"
   },
   "source": [
    "## Load Libraries"
   ]
  },
  {
   "cell_type": "code",
   "execution_count": 3,
   "id": "flush-border",
   "metadata": {
    "id": "5ee45525-9f63-4753-9535-be841e70e654"
   },
   "outputs": [],
   "source": [
    "# Requests\n",
    "import requests\n",
    "# Other tools\n",
    "from bs4 import BeautifulSoup\n",
    "from datetime import date\n",
    "import csv\n",
    "import fnmatch\n",
    "import os\n"
   ]
  },
  {
   "cell_type": "markdown",
   "id": "intensive-exhaust",
   "metadata": {
    "id": "6a5efadf-487e-45d3-8bcb-e5fffe865916"
   },
   "source": [
    "## Functions Using Requests"
   ]
  },
  {
   "cell_type": "code",
   "execution_count": null,
   "id": "alone-newsletter",
   "metadata": {
    "id": "aa36d0eb-9db2-434a-9bb8-3c59b91dc89f"
   },
   "outputs": [],
   "source": [
    "def requests_get_item(url):\n",
    "    headers = {\"User-Agent\": \"Mozilla/5.0 (Windows NT 10.0; Win64; x64) AppleWebKit/537.36 (KHTML, like Gecko) Chrome/70.0.3538.77 Safari/537.36\"}\n",
    "    page = requests.get(url, headers = headers)\n",
    "    soup = BeautifulSoup(page.text, 'html.parser')\n",
    "    return(soup)\n",
    "  "
   ]
  },
  {
   "cell_type": "markdown",
   "id": "quantitative-submission",
   "metadata": {
    "id": "575fb0f0-2469-4952-92f5-e5f3fc5d6294"
   },
   "source": []
  },
  {
   "cell_type": "code",
   "execution_count": 15,
   "id": "descending-timber",
   "metadata": {
    "id": "sN9AVqhvC75H"
   },
   "outputs": [],
   "source": [
    "results = []\n",
    "url = \"https://www2.ed.gov/about/offices/list/ocr/docs/investigations/open-investigations/tix.html?perPage=2000\"\n",
    "page = requests.get(url)\n",
    "if page.status_code == 200:\n",
    "    soup = BeautifulSoup(page.text, 'html.parser')\n",
    "    table = soup.find(id=\"oi-table\")\n",
    "    rows = table.find_all('tr')\n",
    "    for row in rows[1:]:\n",
    "      cells = row.find_all('td')\n",
    "      results.append([cell.text for cell in cells])\n",
    "\n",
    "with open('ocr_open_titleix.csv','w') as output_file:\n",
    "    csvfile = csv.writer(output_file)\n",
    "    csvfile.writerow(['state', 'school','school_type', 'discrimination_type', 'open_date'])\n",
    "    csvfile.writerows(results)\n"
   ]
  }
 ],
 "metadata": {
  "colab": {
   "collapsed_sections": [],
   "name": "ocr_pending_cases.ipynb",
   "provenance": [],
   "toc_visible": true
  },
  "kernelspec": {
   "display_name": "Python 3",
   "language": "python",
   "name": "python3"
  },
  "language_info": {
   "codemirror_mode": {
    "name": "ipython",
    "version": 3
   },
   "file_extension": ".py",
   "mimetype": "text/x-python",
   "name": "python",
   "nbconvert_exporter": "python",
   "pygments_lexer": "ipython3",
   "version": "3.9.7"
  }
 },
 "nbformat": 4,
 "nbformat_minor": 5
}

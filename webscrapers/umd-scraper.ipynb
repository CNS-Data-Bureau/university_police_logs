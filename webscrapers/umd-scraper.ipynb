{
 "cells": [
  {
   "cell_type": "code",
   "execution_count": 1,
   "id": "metallic-cisco",
   "metadata": {},
   "outputs": [],
   "source": [
    "import pandas as pd\n",
    "import requests\n",
    "from bs4 import BeautifulSoup\n",
    "from selenium import webdriver"
   ]
  },
  {
   "cell_type": "code",
   "execution_count": 2,
   "id": "liked-anderson",
   "metadata": {},
   "outputs": [],
   "source": [
    "#MDP Data\n",
    "\n",
    "arrest_number = []\n",
    "arrested_date_time_charge = []\n",
    "umpd_case_number = []\n",
    "age = []\n",
    "sex = []\n",
    "description = []\n",
    "\n",
    "\n",
    "years = list(range(2010, 2021))\n",
    "\n",
    "for year in years:\n",
    "    url = f\"https://www.umpd.umd.edu/stats/arrest_report.cfm?year={year}\"\n",
    "    page = requests.get(url)\n",
    "    soup = BeautifulSoup(page.text, 'html.parser')\n",
    "    ls_rows = soup.find_all(\"tr\")\n",
    "    ls_rows_noHeaders = ls_rows[1:]\n",
    "    num_rows = len(ls_rows_noHeaders)//2\n",
    "    grouped = list(zip(*[iter(ls_rows_noHeaders)]*2))\n",
    "    for i in grouped:\n",
    "        subRow1 = i[0].find_all(\"td\")\n",
    "        subRow2 = i[1].find_all(\"td\")\n",
    "\n",
    "        arrest_number.append(subRow1[0].text.strip())\n",
    "        arrested_date_time_charge.append(subRow1[1].text.strip())\n",
    "        umpd_case_number.append(subRow1[2].text.strip())\n",
    "        age.append(subRow1[3].text.strip())\n",
    "        sex.append(subRow1[4].text.strip())\n",
    "        description.append(subRow2[0].text.strip())"
   ]
  },
  {
   "cell_type": "code",
   "execution_count": null,
   "id": "personal-american",
   "metadata": {},
   "outputs": [],
   "source": [
    "data = {\"arrest_number\": arrest_number, \"arrested_date_time_charge\": arrested_date_time_charge, \"umpd_case_number\": umpd_case_number, \"age\":age, \"sex\":sex, \"description\": description}\n",
    "\n",
    "    \n",
    "df = pd.DataFrame(data)\n",
    "\n",
    "df.to_csv(\"../data/processed/umd_police_data_2021_09_07.csv\")"
   ]
  }
 ],
 "metadata": {
  "kernelspec": {
   "display_name": "Python 3",
   "language": "python",
   "name": "python3"
  },
  "language_info": {
   "codemirror_mode": {
    "name": "ipython",
    "version": 3
   },
   "file_extension": ".py",
   "mimetype": "text/x-python",
   "name": "python",
   "nbconvert_exporter": "python",
   "pygments_lexer": "ipython3",
   "version": "3.9.6"
  }
 },
 "nbformat": 4,
 "nbformat_minor": 5
}

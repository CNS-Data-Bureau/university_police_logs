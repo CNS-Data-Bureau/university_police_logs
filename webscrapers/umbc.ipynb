{
 "cells": [
  {
   "cell_type": "markdown",
   "id": "educated-filename",
   "metadata": {},
   "source": [
    "# towson_u"
   ]
  },
  {
   "cell_type": "markdown",
   "id": "helpful-magazine",
   "metadata": {},
   "source": [
    "## Load Libraries"
   ]
  },
  {
   "cell_type": "code",
   "execution_count": 2,
   "id": "moderate-discharge",
   "metadata": {},
   "outputs": [],
   "source": [
    "# Selenium\n",
    "import selenium\n",
    "from selenium import webdriver\n",
    "from selenium.webdriver.chrome.options import Options\n",
    "from selenium.webdriver.support import expected_conditions as EC\n",
    "from selenium.webdriver.support.ui import WebDriverWait\n",
    "from selenium.webdriver.common.by import By\n",
    "from selenium.webdriver.common.keys import Keys\n",
    "# Reqeusts\n",
    "import requests\n",
    "# Other tools\n",
    "from bs4 import BeautifulSoup\n",
    "from datetime import datetime\n",
    "from datetime import timedelta\n",
    "from datetime import date\n",
    "import csv\n",
    "import pandas as pd\n",
    "import time\n",
    "import json\n",
    "import fnmatch\n",
    "import os\n",
    "import tabula\n",
    "from tabula.io import read_pdf\n"
   ]
  },
  {
   "cell_type": "markdown",
   "id": "quarterly-cruise",
   "metadata": {},
   "source": [
    "## Functions Using Requests"
   ]
  },
  {
   "cell_type": "code",
   "execution_count": 3,
   "id": "divine-wilderness",
   "metadata": {},
   "outputs": [],
   "source": [
    "def requests_get_item(url, item):\n",
    "    headers = {\"User-Agent\": \"Mozilla/5.0 (Windows NT 10.0; Win64; x64) AppleWebKit/537.36 (KHTML, like Gecko) Chrome/70.0.3538.77 Safari/537.36\"}\n",
    "    if item == \"html\":       \n",
    "        page = requests.get(url, headers = headers)\n",
    "        soup = BeautifulSoup(page.text, 'html.parser')\n",
    "        return(soup)\n",
    "    \n",
    "    elif item == \"pdf\":\n",
    "        page = requests.get(url, headers = headers, stream=True)\n",
    "        return(page)\n",
    "    else:\n",
    "        print(\"Valid Item Not Selected\")\n",
    "\n",
    "def download_pdfs(ls_pdf_urls, download_path, file_name):\n",
    "    counter = 0 \n",
    "    for pdf_url in ls_pdf_urls:\n",
    "        counter = counter +1\n",
    "        g = requests_get_item(pdf_url, \"pdf\")\n",
    "        with open(f'{download_path}{file_name}_{counter}.pdf', 'wb') as sav:\n",
    "            for chunk in g.iter_content(chunk_size=1000000):\n",
    "                sav.write(chunk)\n",
    "        print(f\"download number: {counter}\")\n",
    "                \n",
    "                \n",
    "def convert_pdf_to_csv(pdf_directory, csv_directory):\n",
    "    directory = fr'{pdf_directory}'\n",
    "    directory_output = fr'{csv_directory}'\n",
    "    count = 0\n",
    "    for file in os.listdir(directory):        \n",
    "        if file.endswith(\".pdf\"):\n",
    "            count = count + 1 \n",
    "            print(f'{directory}{file}: Conversion {count}')\n",
    "            tabula.convert_into(f'{directory}{file}', f'{directory_output}{count}.csv', output_format=\"csv\", pages='all')\n",
    "    \n",
    "    \n",
    "    \n",
    "    "
   ]
  },
  {
   "cell_type": "markdown",
   "id": "remarkable-blackjack",
   "metadata": {},
   "source": [
    "## Functions Using Selenium"
   ]
  },
  {
   "cell_type": "code",
   "execution_count": 4,
   "id": "ordinary-messenger",
   "metadata": {},
   "outputs": [],
   "source": [
    "# Define important paths\n",
    "executable_path = \"C:/Users/nicho/Documents/Code/university_police_logs/webscrapers/chromedriver.exe\"\n",
    "download_path = f\"C:\\\\Users\\\\nicho\\\\Documents\\\\Code\\\\university_police_logs\\\\data\\\\handmade\\\\gt\\\\pdfs\\\\\"\n",
    "\n",
    "# Define Routes (usually in xpaths)\n",
    "\n",
    "def browser_instance(executable_path, headless, download_path):\n",
    "    \n",
    "    \n",
    "    chrome_options =  Options()\n",
    "    if headless:\n",
    "        chrome_options.add_argument(\"--headless\")   \n",
    "    chrome_options.add_experimental_option(\"prefs\", {\n",
    "            \"download.default_directory\": download_path})    \n",
    "    driver = webdriver.Chrome(executable_path=executable_path, options = chrome_options)\n",
    "    return driver  \n",
    "\n",
    "def signIn(driver, url, signin_field, username_field, password_field):  \n",
    "    driver.get(url)\n",
    "    sign_in = driver.find_element_by_xpath(signin_field)\n",
    "    sign_in.click()\n",
    "    email_field = driver.find_element_by_xpath(username_field)\n",
    "    password_field = driver.find_element_by_xpath(password_field)\n",
    "    email_field.send_keys(USERNAME)\n",
    "    password_field.send_keys(PASSWORD + Keys.RETURN)\n"
   ]
  },
  {
   "cell_type": "markdown",
   "id": "obvious-divide",
   "metadata": {},
   "source": [
    "## Useful Selenium Concepts\n",
    "### Waiting until element is clickable\n",
    "button = WebDriverWait(driver, 10).until(EC.element_to_be_clickable((By.XPATH, download_all_field)))\n",
    "button.click()\n",
    "\n",
    "### Try and Expect\n",
    "try:\n",
    "    attempt to do something\n",
    "except:\n",
    "    do this if the try doesn't work out\n",
    "    \n"
   ]
  },
  {
   "cell_type": "markdown",
   "id": "macro-advancement",
   "metadata": {},
   "source": [
    "## General Functions"
   ]
  },
  {
   "cell_type": "code",
   "execution_count": 5,
   "id": "proper-vancouver",
   "metadata": {},
   "outputs": [],
   "source": [
    "def write_json_data(data_out, database_name, file_path):\n",
    "        #writing data to json\n",
    "        data_out = data_out\n",
    "        database_name = database_name\n",
    "        file = f'{file_path}/{database_name}'\n",
    "        with open(file, 'w') as outfile:\n",
    "            json.dump(data_out, outfile)\n",
    "            \n",
    "def open_json_data(file_path):    \n",
    "    with open(file_path) as f:\n",
    "        data = json.load(f)\n",
    "    return data"
   ]
  },
  {
   "cell_type": "markdown",
   "id": "controversial-radical",
   "metadata": {},
   "source": [
    "### Get links"
   ]
  },
  {
   "cell_type": "code",
   "execution_count": 23,
   "id": "disciplinary-pleasure",
   "metadata": {},
   "outputs": [
    {
     "name": "stdout",
     "output_type": "stream",
     "text": [
      "['https://police.umbc.edu/files/2021/06/Daily-Log-01_2021.pdf', 'https://police.umbc.edu/files/2021/06/Daily-Log-02_2021.pdf', 'https://police.umbc.edu/files/2021/06/Daily-Log-03_2021.pdf', 'https://police.umbc.edu/files/2021/06/Daily-Log-04_2021.pdf', 'https://police.umbc.edu/files/2021/06/Daily-Log-05_2021.pdf', 'https://police.umbc.edu/files/2021/07/Daily-Log-06_2021-1.pdf', 'https://police.umbc.edu/files/2021/07/Daily-Log-07_2021-2.pdf', 'https://police.umbc.edu/files/2021/09/Daily-Log-08_2021.pdf', 'https://police.umbc.edu/files/2021/10/Daily-Log-09_2021-1.pdf', 'https://police.umbc.edu/files/2020/05/Daily-Log-STRK-01_20.pdf', 'https://police.umbc.edu/files/2021/08/Daily-Log-02_20-1.pdf', 'https://police.umbc.edu/files/2020/05/Daily-Log-STRK-03_20.pdf', 'https://police.umbc.edu/files/2020/05/Daily-Log-STRK-04_20-1.pdf', 'https://police.umbc.edu/files/2020/06/Daily-Log-STRK-05_20.pdf', 'https://police.umbc.edu/files/2020/07/Daily-Log-STRK-06_20.pdf', 'https://police.umbc.edu/files/2020/08/Daily-Log-STRK-07_20.pdf', 'https://police.umbc.edu/files/2021/08/Daily-Log-08_20.pdf', 'https://police.umbc.edu/files/2020/10/Daily-Log-STRK-09_20.pdf', 'https://police.umbc.edu/files/2020/11/Daily-Log-STRK-10_20.pdf', 'https://police.umbc.edu/files/2020/12/Daily-Log-SRTK-11_20-1.pdf', 'https://police.umbc.edu/files/2021/01/Daily-Log-SRTK-12_20.pdf', 'https://police.umbc.edu/files/2019/11/Daily-Log-SRTK-01_19.pdf', 'https://police.umbc.edu/files/2019/05/Daily-Log-SRTK-02_19.pdf', 'https://police.umbc.edu/files/2019/11/Daily-Log-SRTK-03_19.pdf', 'https://police.umbc.edu/files/2019/11/Daily-Log-SRTK-04_19.pdf', 'https://police.umbc.edu/files/2019/08/Daily-Log-SRTK-05_19.pdf', 'https://police.umbc.edu/files/2019/11/Daily-Log-SRTK-06_19.pdf', 'https://police.umbc.edu/files/2019/08/Daily-Log-SRTK-07_19.pdf', 'https://police.umbc.edu/files/2019/09/Daily-Log-SRTK-08_19.pdf', 'https://police.umbc.edu/files/2019/11/Daily-Log-SRTK-09_19.pdf', 'https://police.umbc.edu/files/2019/11/Daily-Log-SRTK-10_19.pdf', 'https://police.umbc.edu/files/2019/12/Daily-Log-SRTK-11_19.pdf', 'https://police.umbc.edu/files/2020/01/Daily-Log-SRTK-12_19.pdf', 'https://police.umbc.edu/files/2021/01/CSA-Daily-Incidents.pdf', 'https://police.umbc.edu/files/2019/11/Daily-Log-SRTK-01_18.pdf', 'https://police.umbc.edu/files/2019/11/Daily-Log-SRTK-02_18.pdf', 'https://police.umbc.edu/files/2019/11/Daily-Log-SRTK-03_18.pdf', 'https://police.umbc.edu/files/2019/11/Daily-Log-SRTK-04_18.pdf', 'https://police.umbc.edu/files/2019/11/Daily-Log-SRTK-05_18.pdf', 'https://police.umbc.edu/files/2019/11/Daily-Log-SRTK-06_18.pdf', 'https://police.umbc.edu/files/2019/11/Daily-Log-SRTK-07_18.pdf', 'https://police.umbc.edu/files/2019/11/Daily-Log-SRTK-08_18.pdf', 'https://police.umbc.edu/files/2019/11/Daily-Log-SRTK-09_18.pdf', 'https://police.umbc.edu/files/2019/11/Daily-Log-SRTK-10_18.pdf', 'https://police.umbc.edu/files/2019/11/Daily-Log-SRTK-11_18.pdf', 'https://police.umbc.edu/files/2019/11/Daily-Log-SRTK-12_18.pdf', 'https://police.umbc.edu/files/2021/01/CSA-Daily-Incidents.pdf', 'http://police.umbc.edu/files/2017/09/Daily-Log-SRTK-01_17.pdf', 'http://police.umbc.edu/files/2017/09/Daily-Log-SRTK-02_17.pdf', 'http://police.umbc.edu/files/2017/09/Daily-Log-SRTK-03_17.pdf', 'http://police.umbc.edu/files/2017/09/Daily-Log-SRTK-04_17.pdf', 'http://police.umbc.edu/files/2017/09/Daily-Log-SRTK-05_17.pdf', 'http://police.umbc.edu/files/2017/09/Daily-Log-SRTK-06_17.pdf', 'http://police.umbc.edu/files/2017/09/Daily-Log-SRTK-07_17.pdf', 'http://police.umbc.edu/files/2017/09/Daily-Log-SRTK-08_17.pdf', 'http://police.umbc.edu/files/2017/11/Daily-Log-SRTK-09_17.pdf', 'https://police.umbc.edu/files/2017/11/Daily-Log-SRTK-10_17-1.pdf', 'https://police.umbc.edu/files/2017/11/Daily-Log-SRTK-11_17-2.pdf', 'https://police.umbc.edu/files/2017/12/Daily-Log-SRTK-12_17-5.pdf', 'https://police.umbc.edu/files/2021/01/CSA-Daily-Incidents.pdf']\n",
      "download number: 1\n",
      "download number: 2\n",
      "download number: 3\n",
      "download number: 4\n",
      "download number: 5\n",
      "download number: 6\n",
      "download number: 7\n",
      "download number: 8\n",
      "download number: 9\n",
      "download number: 10\n",
      "download number: 11\n",
      "download number: 12\n",
      "download number: 13\n",
      "download number: 14\n",
      "download number: 15\n",
      "download number: 16\n",
      "download number: 17\n",
      "download number: 18\n",
      "download number: 19\n",
      "download number: 20\n",
      "download number: 21\n",
      "download number: 22\n",
      "download number: 23\n",
      "download number: 24\n",
      "download number: 25\n",
      "download number: 26\n",
      "download number: 27\n",
      "download number: 28\n",
      "download number: 29\n",
      "download number: 30\n",
      "download number: 31\n",
      "download number: 32\n",
      "download number: 33\n",
      "download number: 34\n",
      "download number: 35\n",
      "download number: 36\n",
      "download number: 37\n",
      "download number: 38\n",
      "download number: 39\n",
      "download number: 40\n",
      "download number: 41\n",
      "download number: 42\n",
      "download number: 43\n",
      "download number: 44\n",
      "download number: 45\n",
      "download number: 46\n",
      "download number: 47\n",
      "download number: 48\n",
      "download number: 49\n",
      "download number: 50\n",
      "download number: 51\n",
      "download number: 52\n",
      "download number: 53\n",
      "download number: 54\n",
      "download number: 55\n",
      "download number: 56\n",
      "download number: 57\n",
      "download number: 58\n",
      "download number: 59\n",
      "download number: 60\n"
     ]
    }
   ],
   "source": [
    "#script\n",
    "\n",
    "page = requests_get_item('https://police.umbc.edu/daily-crime-log/' , 'html')\n",
    "div = page.find('ul', {\"class\": \"section-menu\"})\n",
    "#print(div)\n",
    "link_list = []\n",
    "\n",
    "ls_links = div.find_all('a')\n",
    "for link in ls_links:\n",
    "    url = (link[\"href\"])\n",
    "    link_list.append(url)\n",
    "#     print(link_list)\n",
    "#     print('---')\n",
    "\n",
    "\n",
    "link_list = link_list[1:]\n",
    "\n",
    "all_links = []\n",
    "for link in link_list:\n",
    "    page = requests_get_item(link, \"html\")\n",
    "    div = page.find(\"div\", {\"class\": \"entry-content\"})\n",
    "    ls_links_2 = div.find_all('a')\n",
    "    for month_url in ls_links_2:\n",
    "        url = month_url['href']\n",
    "        all_links.append(url)\n",
    "        \n",
    "    \n",
    "print(all_links)\n",
    "\n",
    "download_path = \"../data/handmade/umbc/pdfs/\"\n",
    "download_pdfs(all_links, download_path, \"umbc\")\n"
   ]
  },
  {
   "cell_type": "markdown",
   "id": "lonely-assets",
   "metadata": {},
   "source": [
    "## Download files"
   ]
  },
  {
   "cell_type": "markdown",
   "id": "saving-communication",
   "metadata": {},
   "source": [
    "## Now convert 'em"
   ]
  },
  {
   "cell_type": "code",
   "execution_count": null,
   "id": "experienced-connecticut",
   "metadata": {},
   "outputs": [],
   "source": []
  }
 ],
 "metadata": {
  "kernelspec": {
   "display_name": "Python 3 (ipykernel)",
   "language": "python",
   "name": "python3"
  },
  "language_info": {
   "codemirror_mode": {
    "name": "ipython",
    "version": 3
   },
   "file_extension": ".py",
   "mimetype": "text/x-python",
   "name": "python",
   "nbconvert_exporter": "python",
   "pygments_lexer": "ipython3",
   "version": "3.9.5"
  }
 },
 "nbformat": 4,
 "nbformat_minor": 5
}

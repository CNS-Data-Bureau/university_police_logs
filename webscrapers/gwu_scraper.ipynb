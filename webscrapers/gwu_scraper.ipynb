{
 "cells": [
  {
   "cell_type": "code",
   "execution_count": 10,
   "id": "allied-projector",
   "metadata": {},
   "outputs": [],
   "source": [
    "# import libraries\n",
    "from pathlib import Path\n",
    "import pandas as pd\n",
    "import requests\n",
    "from bs4 import BeautifulSoup\n",
    "from selenium import webdriver\n",
    "#from PyPDF2 import PdfFileReader\n",
    "#from pdfreader import SimplePDFViewer\n",
    "from tabula.io import read_pdf\n",
    "# from tabula import read_pdf\n",
    "import tabula\n",
    "#import camelot\n",
    "import os\n",
    "import glob"
   ]
  },
  {
   "cell_type": "code",
   "execution_count": 11,
   "id": "selective-separate",
   "metadata": {},
   "outputs": [],
   "source": [
    "# get the linnks we want\n",
    "url = \"https://safety.gwu.edu/daily-crime-and-fire-log\"\n",
    "page = requests.get(url)\n",
    "soup = BeautifulSoup(page.text, 'html.parser')\n",
    "# ls_id = soup.find(id=\"tab1631541161195_1\")\n",
    "# ls_rows \n",
    "\n",
    "item = soup.find_all('div', attrs={'class': 'tab-pane'})\n",
    "# print(len(item))\n",
    "# print(\"--------\")\n",
    "\n",
    "ls_lists = []\n",
    "bar = item[0].find_all('a')\n",
    "for link in bar:\n",
    "    link = (link[\"href\"])\n",
    "    ls_lists.append(link)"
   ]
  },
  {
   "cell_type": "code",
   "execution_count": 12,
   "id": "least-diagnosis",
   "metadata": {},
   "outputs": [
    {
     "name": "stdout",
     "output_type": "stream",
     "text": [
      "['https://safety.gwu.edu/sites/g/files/zaxdzs2386/f/September%202021%20_12.pdf', 'https://safety.gwu.edu/sites/g/files/zaxdzs2386/f/August%202021%20_13.pdf', 'https://safety.gwu.edu/sites/g/files/zaxdzs2386/f/July%202021%20_11.pdf', 'https://safety.gwu.edu/sites/g/files/zaxdzs2386/f/June%202021%20_4.pdf', 'https://safety.gwu.edu/sites/g/files/zaxdzs2386/f/May%202021.pdf', 'https://safety.gwu.edu/sites/g/files/zaxdzs2386/f/April%202021_1.pdf', 'https://safety.gwu.edu/sites/g/files/zaxdzs2386/f/March%202021%20_13.pdf', 'https://safety.gwu.edu/sites/g/files/zaxdzs2386/f/February%202021%20_13.pdf', 'https://safety.gwu.edu/sites/g/files/zaxdzs2386/f/January%202021%20_2.pdf', 'https://safety.gwu.edu/sites/g/files/zaxdzs2386/f/December%202020.pdf', 'https://safety.gwu.edu/sites/g/files/zaxdzs2386/f/November%202020%20_12.pdf', 'https://safety.gwu.edu/sites/g/files/zaxdzs2386/f/October%202020_15.pdf']\n"
     ]
    }
   ],
   "source": [
    "print(ls_lists)"
   ]
  },
  {
   "cell_type": "code",
   "execution_count": 13,
   "id": "identified-gnome",
   "metadata": {},
   "outputs": [
    {
     "name": "stdout",
     "output_type": "stream",
     "text": [
      "https://safety.gwu.edu/sites/g/files/zaxdzs2386/f/September%202021%20_12.pdf\n",
      "https://safety.gwu.edu/sites/g/files/zaxdzs2386/f/August%202021%20_13.pdf\n",
      "https://safety.gwu.edu/sites/g/files/zaxdzs2386/f/July%202021%20_11.pdf\n",
      "https://safety.gwu.edu/sites/g/files/zaxdzs2386/f/June%202021%20_4.pdf\n",
      "https://safety.gwu.edu/sites/g/files/zaxdzs2386/f/May%202021.pdf\n",
      "https://safety.gwu.edu/sites/g/files/zaxdzs2386/f/April%202021_1.pdf\n",
      "https://safety.gwu.edu/sites/g/files/zaxdzs2386/f/March%202021%20_13.pdf\n",
      "https://safety.gwu.edu/sites/g/files/zaxdzs2386/f/February%202021%20_13.pdf\n",
      "https://safety.gwu.edu/sites/g/files/zaxdzs2386/f/January%202021%20_2.pdf\n",
      "https://safety.gwu.edu/sites/g/files/zaxdzs2386/f/December%202020.pdf\n",
      "https://safety.gwu.edu/sites/g/files/zaxdzs2386/f/November%202020%20_12.pdf\n",
      "https://safety.gwu.edu/sites/g/files/zaxdzs2386/f/October%202020_15.pdf\n"
     ]
    }
   ],
   "source": [
    "# my_string=\"https://safety.gwu.edu/sites/g/files/zaxdzs2386/f/September%202021%20_2.pdf\"\n",
    "\n",
    "for link in ls_lists:\n",
    "#     x = (i.split(\"https://safety.gwu.edu/sites/g/files/zaxdzs2386/f/\",1)[1])\n",
    "    print(link)\n",
    "# x = (my_string.split(\"https://safety.gwu.edu/sites/g/files/zaxdzs2386/f/\",1)[1])\n",
    "# # x = x.split(\"%20\",-1)[1]\n",
    "# print(x)"
   ]
  },
  {
   "cell_type": "code",
   "execution_count": 14,
   "id": "frank-stanford",
   "metadata": {},
   "outputs": [],
   "source": [
    "# download pdfs\n",
    "\n",
    "counter = 0 \n",
    "for i in ls_lists:\n",
    "    counter = counter +1\n",
    "#     print(counter)\n",
    "    g = requests.get(i, stream=True)\n",
    "    with open(f'../data/handmade/gwu/pdfs/scraped_report_{counter}.pdf', 'wb') as sav:\n",
    "        for chunk in g.iter_content(chunk_size=1000000):\n",
    "            sav.write(chunk)"
   ]
  },
  {
   "cell_type": "code",
   "execution_count": 15,
   "id": "micro-donor",
   "metadata": {},
   "outputs": [],
   "source": [
    "# now convert them to csvs\n",
    "\n",
    "directory = r'../data/handmade/gwu/pdfs/'\n",
    "directory_output = r'../data/handmade/gwu/csvs/'\n",
    "count = 0\n",
    "for file in os.listdir(directory):\n",
    "    if file.endswith(\".pdf\"):\n",
    "        count = count + 1\n",
    "#         print(count)\n",
    "#         print(file)\n",
    "        tabula.convert_into(f'{directory}{file}', f'{directory_output}{count}.csv', output_format=\"csv\", pages='all')"
   ]
  },
  {
   "cell_type": "code",
   "execution_count": null,
   "id": "responsible-employee",
   "metadata": {},
   "outputs": [],
   "source": [
    "# nw"
   ]
  }
 ],
 "metadata": {
  "kernelspec": {
   "display_name": "Python 3",
   "language": "python",
   "name": "python3"
  },
  "language_info": {
   "codemirror_mode": {
    "name": "ipython",
    "version": 3
   },
   "file_extension": ".py",
   "mimetype": "text/x-python",
   "name": "python",
   "nbconvert_exporter": "python",
   "pygments_lexer": "ipython3",
   "version": "3.9.7"
  }
 },
 "nbformat": 4,
 "nbformat_minor": 5
}

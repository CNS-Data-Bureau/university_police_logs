{
 "cells": [
  {
   "cell_type": "code",
   "execution_count": 57,
   "id": "different-daisy",
   "metadata": {},
   "outputs": [],
   "source": [
    "# import libraries\n",
    "from pathlib import Path\n",
    "import pandas as pd\n",
    "import requests\n",
    "from bs4 import BeautifulSoup\n",
    "from selenium import webdriver\n",
    "from PyPDF2 import PdfFileReader\n",
    "from pdfreader import SimplePDFViewer\n",
    "from tabula.io import read_pdf\n",
    "import camelot"
   ]
  },
  {
   "cell_type": "code",
   "execution_count": 15,
   "id": "german-anatomy",
   "metadata": {},
   "outputs": [],
   "source": [
    "# get the linnks we want\n",
    "url = \"https://safety.gwu.edu/daily-crime-and-fire-log\"\n",
    "page = requests.get(url)\n",
    "soup = BeautifulSoup(page.text, 'html.parser')\n",
    "# ls_id = soup.find(id=\"tab1631541161195_1\")\n",
    "# ls_rows \n",
    "\n",
    "item = soup.find_all('div', attrs={'class': 'tab-pane'})\n",
    "# print(len(item))\n",
    "# print(\"--------\")\n",
    "\n",
    "ls_lists = []\n",
    "bar = item[0].find_all('a')\n",
    "for link in bar:\n",
    "    link = (link[\"href\"])\n",
    "    ls_lists.append(link)"
   ]
  },
  {
   "cell_type": "code",
   "execution_count": 17,
   "id": "adjusted-samuel",
   "metadata": {},
   "outputs": [
    {
     "name": "stdout",
     "output_type": "stream",
     "text": [
      "['https://safety.gwu.edu/sites/g/files/zaxdzs2386/f/September%202021%20_3.pdf', 'https://safety.gwu.edu/sites/g/files/zaxdzs2386/f/August%202021%20_13.pdf', 'https://safety.gwu.edu/sites/g/files/zaxdzs2386/f/July%202021%20_11.pdf', 'https://safety.gwu.edu/sites/g/files/zaxdzs2386/f/June%202021%20_4.pdf', 'https://safety.gwu.edu/sites/g/files/zaxdzs2386/f/May%202021.pdf', 'https://safety.gwu.edu/sites/g/files/zaxdzs2386/f/April%202021_1.pdf', 'https://safety.gwu.edu/sites/g/files/zaxdzs2386/f/March%202021%20_13.pdf', 'https://safety.gwu.edu/sites/g/files/zaxdzs2386/f/February%202021%20_13.pdf', 'https://safety.gwu.edu/sites/g/files/zaxdzs2386/f/January%202021%20_2.pdf', 'https://safety.gwu.edu/sites/g/files/zaxdzs2386/f/December%202020.pdf', 'https://safety.gwu.edu/sites/g/files/zaxdzs2386/f/November%202020%20_12.pdf', 'https://safety.gwu.edu/sites/g/files/zaxdzs2386/f/October%202020_15.pdf']\n"
     ]
    }
   ],
   "source": [
    "print(ls_lists)"
   ]
  },
  {
   "cell_type": "code",
   "execution_count": 18,
   "id": "operational-spanish",
   "metadata": {},
   "outputs": [
    {
     "name": "stdout",
     "output_type": "stream",
     "text": [
      "https://safety.gwu.edu/sites/g/files/zaxdzs2386/f/September%202021%20_3.pdf\n",
      "https://safety.gwu.edu/sites/g/files/zaxdzs2386/f/August%202021%20_13.pdf\n",
      "https://safety.gwu.edu/sites/g/files/zaxdzs2386/f/July%202021%20_11.pdf\n",
      "https://safety.gwu.edu/sites/g/files/zaxdzs2386/f/June%202021%20_4.pdf\n",
      "https://safety.gwu.edu/sites/g/files/zaxdzs2386/f/May%202021.pdf\n",
      "https://safety.gwu.edu/sites/g/files/zaxdzs2386/f/April%202021_1.pdf\n",
      "https://safety.gwu.edu/sites/g/files/zaxdzs2386/f/March%202021%20_13.pdf\n",
      "https://safety.gwu.edu/sites/g/files/zaxdzs2386/f/February%202021%20_13.pdf\n",
      "https://safety.gwu.edu/sites/g/files/zaxdzs2386/f/January%202021%20_2.pdf\n",
      "https://safety.gwu.edu/sites/g/files/zaxdzs2386/f/December%202020.pdf\n",
      "https://safety.gwu.edu/sites/g/files/zaxdzs2386/f/November%202020%20_12.pdf\n",
      "https://safety.gwu.edu/sites/g/files/zaxdzs2386/f/October%202020_15.pdf\n"
     ]
    }
   ],
   "source": [
    "# my_string=\"https://safety.gwu.edu/sites/g/files/zaxdzs2386/f/September%202021%20_2.pdf\"\n",
    "\n",
    "for link in ls_lists:\n",
    "#     x = (i.split(\"https://safety.gwu.edu/sites/g/files/zaxdzs2386/f/\",1)[1])\n",
    "    print(link)\n",
    "# x = (my_string.split(\"https://safety.gwu.edu/sites/g/files/zaxdzs2386/f/\",1)[1])\n",
    "# # x = x.split(\"%20\",-1)[1]\n",
    "# print(x)"
   ]
  },
  {
   "cell_type": "code",
   "execution_count": 66,
   "id": "leading-conditions",
   "metadata": {},
   "outputs": [],
   "source": [
    "# download pdfs\n",
    "\n",
    "counter = 0 \n",
    "for i in ls_lists:\n",
    "    counter = counter +1\n",
    "    g = requests.get(i, stream=True)\n",
    "    with open(f'../data/handmade/gwu/pdfs/scraped_report_{counter}.pdf', 'wb') as sav:\n",
    "        for chunk in g.iter_content(chunk_size=1000000):\n",
    "            sav.write(chunk)"
   ]
  },
  {
   "cell_type": "code",
   "execution_count": 72,
   "id": "danish-involvement",
   "metadata": {},
   "outputs": [],
   "source": [
    "# extract PDF into CSVs file\n",
    "tabula.convert_into(\"../data/handmade/gwu/pdfs/scraped_report_1.pdf\", \"output.csv\", output_format=\"csv\", pages='all')"
   ]
  },
  {
   "cell_type": "code",
   "execution_count": null,
   "id": "italian-junction",
   "metadata": {},
   "outputs": [],
   "source": []
  }
 ],
 "metadata": {
  "kernelspec": {
   "display_name": "Python 3",
   "language": "python",
   "name": "python3"
  },
  "language_info": {
   "codemirror_mode": {
    "name": "ipython",
    "version": 3
   },
   "file_extension": ".py",
   "mimetype": "text/x-python",
   "name": "python",
   "nbconvert_exporter": "python",
   "pygments_lexer": "ipython3",
   "version": "3.9.6"
  }
 },
 "nbformat": 4,
 "nbformat_minor": 5
}

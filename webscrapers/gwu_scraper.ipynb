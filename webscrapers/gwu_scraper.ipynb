{
 "cells": [
  {
   "cell_type": "code",
   "execution_count": 76,
   "id": "optional-instruction",
   "metadata": {},
   "outputs": [],
   "source": [
    "# import libraries\n",
    "from pathlib import Path\n",
    "import pandas as pd\n",
    "import requests\n",
    "from bs4 import BeautifulSoup\n",
    "from selenium import webdriver\n",
    "from PyPDF2 import PdfFileReader\n",
    "from pdfreader import SimplePDFViewer\n",
    "from tabula.io import read_pdf\n",
    "import camelot\n",
    "import os"
   ]
  },
  {
   "cell_type": "code",
   "execution_count": 15,
   "id": "allied-notebook",
   "metadata": {},
   "outputs": [],
   "source": [
    "# get the linnks we want\n",
    "url = \"https://safety.gwu.edu/daily-crime-and-fire-log\"\n",
    "page = requests.get(url)\n",
    "soup = BeautifulSoup(page.text, 'html.parser')\n",
    "# ls_id = soup.find(id=\"tab1631541161195_1\")\n",
    "# ls_rows \n",
    "\n",
    "item = soup.find_all('div', attrs={'class': 'tab-pane'})\n",
    "# print(len(item))\n",
    "# print(\"--------\")\n",
    "\n",
    "ls_lists = []\n",
    "bar = item[0].find_all('a')\n",
    "for link in bar:\n",
    "    link = (link[\"href\"])\n",
    "    ls_lists.append(link)"
   ]
  },
  {
   "cell_type": "code",
   "execution_count": 17,
   "id": "animated-samba",
   "metadata": {},
   "outputs": [
    {
     "name": "stdout",
     "output_type": "stream",
     "text": [
      "['https://safety.gwu.edu/sites/g/files/zaxdzs2386/f/September%202021%20_3.pdf', 'https://safety.gwu.edu/sites/g/files/zaxdzs2386/f/August%202021%20_13.pdf', 'https://safety.gwu.edu/sites/g/files/zaxdzs2386/f/July%202021%20_11.pdf', 'https://safety.gwu.edu/sites/g/files/zaxdzs2386/f/June%202021%20_4.pdf', 'https://safety.gwu.edu/sites/g/files/zaxdzs2386/f/May%202021.pdf', 'https://safety.gwu.edu/sites/g/files/zaxdzs2386/f/April%202021_1.pdf', 'https://safety.gwu.edu/sites/g/files/zaxdzs2386/f/March%202021%20_13.pdf', 'https://safety.gwu.edu/sites/g/files/zaxdzs2386/f/February%202021%20_13.pdf', 'https://safety.gwu.edu/sites/g/files/zaxdzs2386/f/January%202021%20_2.pdf', 'https://safety.gwu.edu/sites/g/files/zaxdzs2386/f/December%202020.pdf', 'https://safety.gwu.edu/sites/g/files/zaxdzs2386/f/November%202020%20_12.pdf', 'https://safety.gwu.edu/sites/g/files/zaxdzs2386/f/October%202020_15.pdf']\n"
     ]
    }
   ],
   "source": [
    "print(ls_lists)"
   ]
  },
  {
   "cell_type": "code",
   "execution_count": 18,
   "id": "technological-kinase",
   "metadata": {},
   "outputs": [
    {
     "name": "stdout",
     "output_type": "stream",
     "text": [
      "https://safety.gwu.edu/sites/g/files/zaxdzs2386/f/September%202021%20_3.pdf\n",
      "https://safety.gwu.edu/sites/g/files/zaxdzs2386/f/August%202021%20_13.pdf\n",
      "https://safety.gwu.edu/sites/g/files/zaxdzs2386/f/July%202021%20_11.pdf\n",
      "https://safety.gwu.edu/sites/g/files/zaxdzs2386/f/June%202021%20_4.pdf\n",
      "https://safety.gwu.edu/sites/g/files/zaxdzs2386/f/May%202021.pdf\n",
      "https://safety.gwu.edu/sites/g/files/zaxdzs2386/f/April%202021_1.pdf\n",
      "https://safety.gwu.edu/sites/g/files/zaxdzs2386/f/March%202021%20_13.pdf\n",
      "https://safety.gwu.edu/sites/g/files/zaxdzs2386/f/February%202021%20_13.pdf\n",
      "https://safety.gwu.edu/sites/g/files/zaxdzs2386/f/January%202021%20_2.pdf\n",
      "https://safety.gwu.edu/sites/g/files/zaxdzs2386/f/December%202020.pdf\n",
      "https://safety.gwu.edu/sites/g/files/zaxdzs2386/f/November%202020%20_12.pdf\n",
      "https://safety.gwu.edu/sites/g/files/zaxdzs2386/f/October%202020_15.pdf\n"
     ]
    }
   ],
   "source": [
    "# my_string=\"https://safety.gwu.edu/sites/g/files/zaxdzs2386/f/September%202021%20_2.pdf\"\n",
    "\n",
    "for link in ls_lists:\n",
    "#     x = (i.split(\"https://safety.gwu.edu/sites/g/files/zaxdzs2386/f/\",1)[1])\n",
    "    print(link)\n",
    "# x = (my_string.split(\"https://safety.gwu.edu/sites/g/files/zaxdzs2386/f/\",1)[1])\n",
    "# # x = x.split(\"%20\",-1)[1]\n",
    "# print(x)"
   ]
  },
  {
   "cell_type": "code",
   "execution_count": null,
   "id": "perfect-mechanics",
   "metadata": {},
   "outputs": [],
   "source": [
    "# download pdfs\n",
    "\n",
    "counter = 0 \n",
    "for i in ls_lists:\n",
    "    counter = counter +1\n",
    "    g = requests.get(i, stream=True)\n",
    "    with open(f'../data/handmade/gwu/pdfs/scraped_report_{counter}.pdf', 'wb') as sav:\n",
    "        for chunk in g.iter_content(chunk_size=1000000):\n",
    "            sav.write(chunk)"
   ]
  },
  {
   "cell_type": "code",
   "execution_count": 102,
   "id": "informative-definition",
   "metadata": {},
   "outputs": [],
   "source": [
    "# now convert them to csvs\n",
    "\n",
    "directory = r'../data/handmade/gwu/pdfs/'\n",
    "directory_output = r'../data/handmade/gwu/csvs/'\n",
    "count = 0\n",
    "for file in os.listdir(directory):\n",
    "    if file.endswith(\".pdf\"):\n",
    "        count = count + 1\n",
    "#         print(count)\n",
    "#         print(file)\n",
    "        tabula.convert_into(f'{directory}{file}', f'{directory_output}{count}.csv', output_format=\"csv\", pages='all')"
   ]
  },
  {
   "cell_type": "code",
   "execution_count": 100,
   "id": "sonic-oklahoma",
   "metadata": {},
   "outputs": [],
   "source": [
    "# extract PDF into CSVs file\n",
    "tabula.convert_into(\"../data/handmade/gwu/pdfs/scraped_report_1.pdf\", \"output1.csv\", output_format=\"csv\", pages='all')"
   ]
  },
  {
   "cell_type": "code",
   "execution_count": 99,
   "id": "collaborative-adrian",
   "metadata": {},
   "outputs": [
    {
     "name": "stdout",
     "output_type": "stream",
     "text": [
      "                             Nature\\r(Classification) Case\\rNumber  \\\n",
      "0                                      Unlawful Entry      2100618   \n",
      "1                       Threats in a Menacing\\rManner      2100624   \n",
      "2                                      Fraud 1D/Fraud      2100628   \n",
      "3                                Liquor Law Violation      2100631   \n",
      "4                                Liquor Law Violation      2100632   \n",
      "5                                Liquor Law Violation      2100641   \n",
      "6                                Liquor Law Violation      2100642   \n",
      "7                                   Public Drunkeness      2100644   \n",
      "8                                Liquor Law Violation      2100650   \n",
      "9                                   Theft II/Bicycles      2100655   \n",
      "10                    Harassment (Verbal or\\rWritten)      2100659   \n",
      "11                    Harassment (Verbal or\\rWritten)      2100660   \n",
      "12                                          Blackmail      2100671   \n",
      "13                                     Simple Assault      2100672   \n",
      "14                               Liquor Law Violation      2100673   \n",
      "15                                  Theft II/Bicycles      2100676   \n",
      "16            Fraud, Harassing Phone\\rCalls, Stalking      2100677   \n",
      "17                               Liquor Law Violation      2100678   \n",
      "18                               Liquor Law Violation      2100681   \n",
      "19                                          Voyeurism      2100686   \n",
      "20         Sexual Assault, Harassing\\rTelephone Calls      2100688   \n",
      "21                                           Stalking   NA-24-2021   \n",
      "22  Harassing Telephone Calls,\\rHarassment (Verbal...      2100693   \n",
      "23                                   Theft I/Bicycles      2100695   \n",
      "\n",
      "   Date\\rReported Date\\rOccurred       Time  \\\n",
      "0      09/01/2021     09/01/2021       0222   \n",
      "1      09/03/2021     09/03/2021       0007   \n",
      "2      09/03/2021        Unknown    Unknown   \n",
      "3      09/04/2021     09/04/2021       0010   \n",
      "4      09/04/2021     09/04/2021       0032   \n",
      "5      09/05/2021     09/05/2021       0009   \n",
      "6      09/06/2021     09/06/2021       0217   \n",
      "7      09/05/2021     09/05/2021       0248   \n",
      "8      09/06/2021     09/06/2021       0308   \n",
      "9      09/06/2021        Unknown    Unknown   \n",
      "10     09/07/2021     09/07/2021       1910   \n",
      "11     09/07/2021     09/07/2021       1945   \n",
      "12     09/09/2021       Multiple   Multiple   \n",
      "13     09/09/2021     09/09/2021       1846   \n",
      "14     09/10/2021     09/10/2021       1058   \n",
      "15     09/10/2021        Unknown    Unknown   \n",
      "16     09/10/2021       Multiple   Multiple   \n",
      "17     09/10/2021     09/10/2021       2338   \n",
      "18     09/11/2021     09/11/2021       0524   \n",
      "19     09/08/2021     09/03/2021  1210-1215   \n",
      "20     09/12/2021     09/12/2021       0355   \n",
      "21     09/13/2021        Unknown    Unknown   \n",
      "22     09/13/2021     09/13/2021   Multiple   \n",
      "23     09/13/2021     09/13/2021  0935-1400   \n",
      "\n",
      "                                     General Location Off\\rCampus\\r(Y or N)  \\\n",
      "0                            2028 G Street Garage/LLC                     N   \n",
      "1                                           West Hall                     N   \n",
      "2                                          Off Campus                     N   \n",
      "3                                       Mitchell Hall                     N   \n",
      "4   Public Property on Campus\\r(2100 Block of H St...                     N   \n",
      "5                                      District House                     N   \n",
      "6                                      Amsterdam Hall                     N   \n",
      "7   Public Property on Campus\\r(2200 Block of H St...                     N   \n",
      "8                                                 MVC                     N   \n",
      "9                                       MVC\\r(Garage)                     N   \n",
      "10  Public Property on Campus\\r(2200 Block of I St...                     N   \n",
      "11  Public Property on Campus\\r(2200 Block of I St...                     N   \n",
      "12                          University Student Center                     N   \n",
      "13                                     District House                     N   \n",
      "14                                          JBKO Hall                     N   \n",
      "15  Public Property On Campus\\r(2300 Block of H St...                     N   \n",
      "16                                         Off Campus                     Y   \n",
      "17                                      Shenkman Hall                     N   \n",
      "18                                          JBKO Hall                     N   \n",
      "19                       Science and Engineering Hall                     N   \n",
      "20                                     Amsterdam Hall                     N   \n",
      "21                                  Various Locations                     N   \n",
      "22                                        Stuart Hall                     N   \n",
      "23  Public Property On Campus\\r(600 Block of 22nd ...                     N   \n",
      "\n",
      "                   Disposition  \n",
      "0    Closed. Subject arrested.  \n",
      "1                   Open case.  \n",
      "2                   Open case.  \n",
      "3     Closed. Referred to DSA.  \n",
      "4     Closed. Referred to DSA.  \n",
      "5     Closed. Referred to DSA.  \n",
      "6     Closed. Referred to DSA.  \n",
      "7     Closed. Referred to DSA.  \n",
      "8     Closed. Referred to DSA.  \n",
      "9                   Open case.  \n",
      "10                  Open Case.  \n",
      "11                  Open case.  \n",
      "12                  Open case.  \n",
      "13                  Open case.  \n",
      "14    Closed. Referred to DSA.  \n",
      "15                  Open case.  \n",
      "16                  Open case.  \n",
      "17    Closed. Referred to DSA.  \n",
      "18    Closed. Referred to DSA.  \n",
      "19                  Open case.  \n",
      "20                  Open case.  \n",
      "21  Closed. No further action.  \n",
      "22                  Open case.  \n",
      "23                  Open case.  \n"
     ]
    }
   ],
   "source": [
    "df = tabula.read_pdf(\"../data/handmade/gwu/pdfs/scraped_report_1.pdf\", pages='all')[0]\n",
    "# convert PDF into CSV\n",
    "tabula.convert_into(\"../data/handmade/gwu/pdfs/scraped_report_1.pdf\", \"test.csv\", output_format=\"csv\", pages='all')\n",
    "print(df)"
   ]
  },
  {
   "cell_type": "code",
   "execution_count": null,
   "id": "expensive-width",
   "metadata": {},
   "outputs": [],
   "source": []
  }
 ],
 "metadata": {
  "kernelspec": {
   "display_name": "Python 3",
   "language": "python",
   "name": "python3"
  },
  "language_info": {
   "codemirror_mode": {
    "name": "ipython",
    "version": 3
   },
   "file_extension": ".py",
   "mimetype": "text/x-python",
   "name": "python",
   "nbconvert_exporter": "python",
   "pygments_lexer": "ipython3",
   "version": "3.9.6"
  }
 },
 "nbformat": 4,
 "nbformat_minor": 5
}

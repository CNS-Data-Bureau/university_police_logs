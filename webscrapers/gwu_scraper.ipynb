{
 "cells": [
  {
   "cell_type": "code",
   "execution_count": 8,
   "id": "simplified-colleague",
   "metadata": {},
   "outputs": [],
   "source": [
    "# import libraries\n",
    "from pathlib import Path\n",
    "import pandas as pd\n",
    "import requests\n",
    "from bs4 import BeautifulSoup\n",
    "from selenium import webdriver\n",
    "from PyPDF2 import PdfFileReader\n",
    "from pdfreader import SimplePDFViewer\n",
    "from tabula.io import read_pdf\n",
    "# from tabula import read_pdf\n",
    "import tabula\n",
    "import camelot\n",
    "import os\n",
    "import glob"
   ]
  },
  {
   "cell_type": "code",
   "execution_count": 2,
   "id": "approved-daisy",
   "metadata": {},
   "outputs": [],
   "source": [
    "# get the linnks we want\n",
    "url = \"https://safety.gwu.edu/daily-crime-and-fire-log\"\n",
    "page = requests.get(url)\n",
    "soup = BeautifulSoup(page.text, 'html.parser')\n",
    "# ls_id = soup.find(id=\"tab1631541161195_1\")\n",
    "# ls_rows \n",
    "\n",
    "item = soup.find_all('div', attrs={'class': 'tab-pane'})\n",
    "# print(len(item))\n",
    "# print(\"--------\")\n",
    "\n",
    "ls_lists = []\n",
    "bar = item[0].find_all('a')\n",
    "for link in bar:\n",
    "    link = (link[\"href\"])\n",
    "    ls_lists.append(link)"
   ]
  },
  {
   "cell_type": "code",
   "execution_count": 3,
   "id": "transparent-bargain",
   "metadata": {},
   "outputs": [
    {
     "name": "stdout",
     "output_type": "stream",
     "text": [
      "['https://safety.gwu.edu/sites/g/files/zaxdzs2386/f/September%202021%20_11.pdf', 'https://safety.gwu.edu/sites/g/files/zaxdzs2386/f/August%202021%20_13.pdf', 'https://safety.gwu.edu/sites/g/files/zaxdzs2386/f/July%202021%20_11.pdf', 'https://safety.gwu.edu/sites/g/files/zaxdzs2386/f/June%202021%20_4.pdf', 'https://safety.gwu.edu/sites/g/files/zaxdzs2386/f/May%202021.pdf', 'https://safety.gwu.edu/sites/g/files/zaxdzs2386/f/April%202021_1.pdf', 'https://safety.gwu.edu/sites/g/files/zaxdzs2386/f/March%202021%20_13.pdf', 'https://safety.gwu.edu/sites/g/files/zaxdzs2386/f/February%202021%20_13.pdf', 'https://safety.gwu.edu/sites/g/files/zaxdzs2386/f/January%202021%20_2.pdf', 'https://safety.gwu.edu/sites/g/files/zaxdzs2386/f/December%202020.pdf', 'https://safety.gwu.edu/sites/g/files/zaxdzs2386/f/November%202020%20_12.pdf', 'https://safety.gwu.edu/sites/g/files/zaxdzs2386/f/October%202020_15.pdf']\n"
     ]
    }
   ],
   "source": [
    "print(ls_lists)"
   ]
  },
  {
   "cell_type": "code",
   "execution_count": 4,
   "id": "prerequisite-genetics",
   "metadata": {},
   "outputs": [
    {
     "name": "stdout",
     "output_type": "stream",
     "text": [
      "https://safety.gwu.edu/sites/g/files/zaxdzs2386/f/September%202021%20_11.pdf\n",
      "https://safety.gwu.edu/sites/g/files/zaxdzs2386/f/August%202021%20_13.pdf\n",
      "https://safety.gwu.edu/sites/g/files/zaxdzs2386/f/July%202021%20_11.pdf\n",
      "https://safety.gwu.edu/sites/g/files/zaxdzs2386/f/June%202021%20_4.pdf\n",
      "https://safety.gwu.edu/sites/g/files/zaxdzs2386/f/May%202021.pdf\n",
      "https://safety.gwu.edu/sites/g/files/zaxdzs2386/f/April%202021_1.pdf\n",
      "https://safety.gwu.edu/sites/g/files/zaxdzs2386/f/March%202021%20_13.pdf\n",
      "https://safety.gwu.edu/sites/g/files/zaxdzs2386/f/February%202021%20_13.pdf\n",
      "https://safety.gwu.edu/sites/g/files/zaxdzs2386/f/January%202021%20_2.pdf\n",
      "https://safety.gwu.edu/sites/g/files/zaxdzs2386/f/December%202020.pdf\n",
      "https://safety.gwu.edu/sites/g/files/zaxdzs2386/f/November%202020%20_12.pdf\n",
      "https://safety.gwu.edu/sites/g/files/zaxdzs2386/f/October%202020_15.pdf\n"
     ]
    }
   ],
   "source": [
    "# my_string=\"https://safety.gwu.edu/sites/g/files/zaxdzs2386/f/September%202021%20_2.pdf\"\n",
    "\n",
    "for link in ls_lists:\n",
    "#     x = (i.split(\"https://safety.gwu.edu/sites/g/files/zaxdzs2386/f/\",1)[1])\n",
    "    print(link)\n",
    "# x = (my_string.split(\"https://safety.gwu.edu/sites/g/files/zaxdzs2386/f/\",1)[1])\n",
    "# # x = x.split(\"%20\",-1)[1]\n",
    "# print(x)"
   ]
  },
  {
   "cell_type": "code",
   "execution_count": 5,
   "id": "foreign-coordinator",
   "metadata": {},
   "outputs": [],
   "source": [
    "# download pdfs\n",
    "\n",
    "counter = 0 \n",
    "for i in ls_lists:\n",
    "    counter = counter +1\n",
    "#     print(counter)\n",
    "    g = requests.get(i, stream=True)\n",
    "    with open(f'../data/handmade/gwu/pdfs/scraped_report_{counter}.pdf', 'wb') as sav:\n",
    "        for chunk in g.iter_content(chunk_size=1000000):\n",
    "            sav.write(chunk)"
   ]
  },
  {
   "cell_type": "code",
   "execution_count": null,
   "id": "worldwide-transparency",
   "metadata": {},
   "outputs": [],
   "source": []
  },
  {
   "cell_type": "code",
   "execution_count": 10,
   "id": "appointed-motivation",
   "metadata": {},
   "outputs": [
    {
     "name": "stderr",
     "output_type": "stream",
     "text": [
      "Error from tabula-java:\n",
      "Error: Cannot create file ../data/handmade/howardcs/csvs/1.csv\n",
      "\n",
      "\n"
     ]
    },
    {
     "ename": "CalledProcessError",
     "evalue": "Command '['java', '-Djava.awt.headless=true', '-jar', '/opt/homebrew/lib/python3.9/site-packages/tabula/tabula-1.0.5-jar-with-dependencies.jar', '--pages', 'all', '--guess', '--format', 'CSV', '--outfile', '../data/handmade/howardcs/csvs/1.csv', '../data/handmade/howard/pdfs/scraped_report_8.pdf']' returned non-zero exit status 1.",
     "output_type": "error",
     "traceback": [
      "\u001b[0;31m---------------------------------------------------------------------------\u001b[0m",
      "\u001b[0;31mCalledProcessError\u001b[0m                        Traceback (most recent call last)",
      "\u001b[0;32m<ipython-input-10-a00fcad11e43>\u001b[0m in \u001b[0;36m<module>\u001b[0;34m\u001b[0m\n\u001b[1;32m      9\u001b[0m \u001b[0;31m#         print(count)\u001b[0m\u001b[0;34m\u001b[0m\u001b[0;34m\u001b[0m\u001b[0m\n\u001b[1;32m     10\u001b[0m \u001b[0;31m#         print(file)\u001b[0m\u001b[0;34m\u001b[0m\u001b[0;34m\u001b[0m\u001b[0m\n\u001b[0;32m---> 11\u001b[0;31m         \u001b[0mtabula\u001b[0m\u001b[0;34m.\u001b[0m\u001b[0mconvert_into\u001b[0m\u001b[0;34m(\u001b[0m\u001b[0;34mf'{directory}{file}'\u001b[0m\u001b[0;34m,\u001b[0m \u001b[0;34mf'{directory_output}{count}.csv'\u001b[0m\u001b[0;34m,\u001b[0m \u001b[0moutput_format\u001b[0m\u001b[0;34m=\u001b[0m\u001b[0;34m\"csv\"\u001b[0m\u001b[0;34m,\u001b[0m \u001b[0mpages\u001b[0m\u001b[0;34m=\u001b[0m\u001b[0;34m'all'\u001b[0m\u001b[0;34m)\u001b[0m\u001b[0;34m\u001b[0m\u001b[0;34m\u001b[0m\u001b[0m\n\u001b[0m",
      "\u001b[0;32m/opt/homebrew/lib/python3.9/site-packages/tabula/io.py\u001b[0m in \u001b[0;36mconvert_into\u001b[0;34m(input_path, output_path, output_format, java_options, **kwargs)\u001b[0m\n\u001b[1;32m    560\u001b[0m \u001b[0;34m\u001b[0m\u001b[0m\n\u001b[1;32m    561\u001b[0m     \u001b[0;32mtry\u001b[0m\u001b[0;34m:\u001b[0m\u001b[0;34m\u001b[0m\u001b[0;34m\u001b[0m\u001b[0m\n\u001b[0;32m--> 562\u001b[0;31m         \u001b[0m_run\u001b[0m\u001b[0;34m(\u001b[0m\u001b[0mjava_options\u001b[0m\u001b[0;34m,\u001b[0m \u001b[0mkwargs\u001b[0m\u001b[0;34m,\u001b[0m \u001b[0mpath\u001b[0m\u001b[0;34m)\u001b[0m\u001b[0;34m\u001b[0m\u001b[0;34m\u001b[0m\u001b[0m\n\u001b[0m\u001b[1;32m    563\u001b[0m     \u001b[0;32mfinally\u001b[0m\u001b[0;34m:\u001b[0m\u001b[0;34m\u001b[0m\u001b[0;34m\u001b[0m\u001b[0m\n\u001b[1;32m    564\u001b[0m         \u001b[0;32mif\u001b[0m \u001b[0mtemporary\u001b[0m\u001b[0;34m:\u001b[0m\u001b[0;34m\u001b[0m\u001b[0;34m\u001b[0m\u001b[0m\n",
      "\u001b[0;32m/opt/homebrew/lib/python3.9/site-packages/tabula/io.py\u001b[0m in \u001b[0;36m_run\u001b[0;34m(java_options, options, path, encoding)\u001b[0m\n\u001b[1;32m     78\u001b[0m \u001b[0;34m\u001b[0m\u001b[0m\n\u001b[1;32m     79\u001b[0m     \u001b[0;32mtry\u001b[0m\u001b[0;34m:\u001b[0m\u001b[0;34m\u001b[0m\u001b[0;34m\u001b[0m\u001b[0m\n\u001b[0;32m---> 80\u001b[0;31m         result = subprocess.run(\n\u001b[0m\u001b[1;32m     81\u001b[0m             \u001b[0margs\u001b[0m\u001b[0;34m,\u001b[0m\u001b[0;34m\u001b[0m\u001b[0;34m\u001b[0m\u001b[0m\n\u001b[1;32m     82\u001b[0m             \u001b[0mstdout\u001b[0m\u001b[0;34m=\u001b[0m\u001b[0msubprocess\u001b[0m\u001b[0;34m.\u001b[0m\u001b[0mPIPE\u001b[0m\u001b[0;34m,\u001b[0m\u001b[0;34m\u001b[0m\u001b[0;34m\u001b[0m\u001b[0m\n",
      "\u001b[0;32m/opt/homebrew/Cellar/python@3.9/3.9.7/Frameworks/Python.framework/Versions/3.9/lib/python3.9/subprocess.py\u001b[0m in \u001b[0;36mrun\u001b[0;34m(input, capture_output, timeout, check, *popenargs, **kwargs)\u001b[0m\n\u001b[1;32m    526\u001b[0m         \u001b[0mretcode\u001b[0m \u001b[0;34m=\u001b[0m \u001b[0mprocess\u001b[0m\u001b[0;34m.\u001b[0m\u001b[0mpoll\u001b[0m\u001b[0;34m(\u001b[0m\u001b[0;34m)\u001b[0m\u001b[0;34m\u001b[0m\u001b[0;34m\u001b[0m\u001b[0m\n\u001b[1;32m    527\u001b[0m         \u001b[0;32mif\u001b[0m \u001b[0mcheck\u001b[0m \u001b[0;32mand\u001b[0m \u001b[0mretcode\u001b[0m\u001b[0;34m:\u001b[0m\u001b[0;34m\u001b[0m\u001b[0;34m\u001b[0m\u001b[0m\n\u001b[0;32m--> 528\u001b[0;31m             raise CalledProcessError(retcode, process.args,\n\u001b[0m\u001b[1;32m    529\u001b[0m                                      output=stdout, stderr=stderr)\n\u001b[1;32m    530\u001b[0m     \u001b[0;32mreturn\u001b[0m \u001b[0mCompletedProcess\u001b[0m\u001b[0;34m(\u001b[0m\u001b[0mprocess\u001b[0m\u001b[0;34m.\u001b[0m\u001b[0margs\u001b[0m\u001b[0;34m,\u001b[0m \u001b[0mretcode\u001b[0m\u001b[0;34m,\u001b[0m \u001b[0mstdout\u001b[0m\u001b[0;34m,\u001b[0m \u001b[0mstderr\u001b[0m\u001b[0;34m)\u001b[0m\u001b[0;34m\u001b[0m\u001b[0;34m\u001b[0m\u001b[0m\n",
      "\u001b[0;31mCalledProcessError\u001b[0m: Command '['java', '-Djava.awt.headless=true', '-jar', '/opt/homebrew/lib/python3.9/site-packages/tabula/tabula-1.0.5-jar-with-dependencies.jar', '--pages', 'all', '--guess', '--format', 'CSV', '--outfile', '../data/handmade/howardcs/csvs/1.csv', '../data/handmade/howard/pdfs/scraped_report_8.pdf']' returned non-zero exit status 1."
     ]
    }
   ],
   "source": [
    "# now convert them to csvs\n",
    "\n",
    "directory = r'../data/handmade/howard/pdfs/'\n",
    "directory_output = r'../data/handmade/howardcs/csvs/'\n",
    "count = 0\n",
    "for file in os.listdir(directory):\n",
    "    if file.endswith(\".pdf\"):\n",
    "        count = count + 1\n",
    "#         print(count)\n",
    "#         print(file)\n",
    "        tabula.convert_into(f'{directory}{file}', f'{directory_output}{count}.csv', output_format=\"csv\", pages='all')"
   ]
  },
  {
   "cell_type": "code",
   "execution_count": null,
   "id": "latin-challenge",
   "metadata": {},
   "outputs": [],
   "source": [
    "# nw"
   ]
  }
 ],
 "metadata": {
  "kernelspec": {
   "display_name": "Python 3",
   "language": "python",
   "name": "python3"
  },
  "language_info": {
   "codemirror_mode": {
    "name": "ipython",
    "version": 3
   },
   "file_extension": ".py",
   "mimetype": "text/x-python",
   "name": "python",
   "nbconvert_exporter": "python",
   "pygments_lexer": "ipython3",
   "version": "3.9.7"
  }
 },
 "nbformat": 4,
 "nbformat_minor": 5
}
